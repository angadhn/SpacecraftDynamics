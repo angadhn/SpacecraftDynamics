{
 "cells": [
  {
   "cell_type": "markdown",
   "id": "c9f54449-7bf9-424e-82d0-274765f5706c",
   "metadata": {},
   "source": [
    "# Problem Set 1"
   ]
  },
  {
   "cell_type": "markdown",
   "id": "ef68f29b-b968-43a7-aff9-5dc9e5d576f4",
   "metadata": {},
   "source": [
    "## Question 1\n",
    "![Figure 1](imgs/PS1_Figure1.png)\n",
    "\n",
    "In the figure above, **N** is an inertial frame comprising right-handed unit vectors ${\\bf \\hat n}_x$ and ${\\bf\\hat n}_y$. **E** is reference frame attached to the satellite comprising\n",
    "${\\bf \\hat e}_r$ and ${\\bf \\hat e}_\\theta$; note that ${\\bf e}_r$ is directed along $\\bf r$ and ${\\bf e}_\\theta$ is orthogonal to ${\\bf e}_r$.\n",
    "What is the relationship between ${\\bf e}_r$ and ${\\bf e}_\\theta$  and the unit vectors ${\\bf \\hat n}_x$ and ${\\bf\\hat n}_y$?\n",
    "By differentiating these expressions with respect to time, show that:"
   ]
  },
  {
   "cell_type": "markdown",
   "id": "705a2224",
   "metadata": {},
   "source": [
    "$\\dot {\\bf e}_r = \\dot\\theta {\\bf e}_\\theta$"
   ]
  },
  {
   "cell_type": "markdown",
   "id": "37e95a16",
   "metadata": {},
   "source": [
    "and "
   ]
  },
  {
   "cell_type": "markdown",
   "id": "90732f4c",
   "metadata": {},
   "source": [
    "$\\dot {\\bf e}_\\theta = -\\dot\\theta  {\\bf e}_r$"
   ]
  },
  {
   "cell_type": "markdown",
   "id": "a073a48d",
   "metadata": {},
   "source": [
    "## Your written answers go here (and create more markdown cells if you wish to)"
   ]
  },
  {
   "cell_type": "code",
   "execution_count": 3,
   "id": "7d235d17-2f25-4778-846b-750e2078b686",
   "metadata": {},
   "outputs": [],
   "source": [
    "# Your coded answers here (and create more Code cells if you wish to)"
   ]
  },
  {
   "cell_type": "markdown",
   "id": "c1a6a0cc-d026-44c5-928d-de0006e23f8a",
   "metadata": {},
   "source": [
    "## Question 2\n",
    "The position of a satellite is given by ${\\bf r} = r {\\bf e}_r$. It's velocity is given by ${\\bf v} = \\dot {\\bf r}$. Using the results from question 1, show that:\n",
    "\n",
    "\n"
   ]
  },
  {
   "cell_type": "markdown",
   "id": "2d1a5ff8",
   "metadata": {},
   "source": [
    "${\\bf v} = \\dot r {\\bf e}_r +  r \\dot\\theta  {\\bf e}_\\theta$."
   ]
  },
  {
   "cell_type": "markdown",
   "id": "2515f3f6",
   "metadata": {},
   "source": [
    "The angular momentum per unit mass is given by: ${\\bf h} = \\dot {\\bf r} \\times {\\bf v}$. Find an expression for the angular\n",
    "momentum of the satellite. Which direction does it point?"
   ]
  },
  {
   "cell_type": "markdown",
   "id": "b05c8f95",
   "metadata": {},
   "source": [
    "## Your written answers go here (and create more markdown cells if you wish to)"
   ]
  },
  {
   "cell_type": "code",
   "execution_count": 4,
   "id": "0c67344a",
   "metadata": {},
   "outputs": [],
   "source": [
    "# Your coded answers here (and create more Code cells if you wish to)"
   ]
  },
  {
   "cell_type": "markdown",
   "id": "ece1f775-c674-4352-b1f3-423e4310d800",
   "metadata": {},
   "source": [
    "## Question 3\n",
    "The velocity of a satellite in orbit is given by ${\\bf v} = \\dot {\\bf r}$. Using the results of Question 1, show that the acceleration is: "
   ]
  },
  {
   "cell_type": "markdown",
   "id": "2bcad5de",
   "metadata": {},
   "source": [
    "$(\\ddot r - r \\dot\\theta^2) {\\bf e}_r + \\frac{1}{r} \\frac{d}{dt}(r^2 \\dot\\theta) {\\bf e}_\\theta$"
   ]
  },
  {
   "cell_type": "markdown",
   "id": "e2de4104",
   "metadata": {},
   "source": [
    "## Your written answers go here (and create more markdown cells if you wish to)"
   ]
  },
  {
   "cell_type": "code",
   "execution_count": 5,
   "id": "2cc20579",
   "metadata": {},
   "outputs": [],
   "source": [
    "# Your coded answers here (and create more Code cells if you wish to)"
   ]
  },
  {
   "cell_type": "markdown",
   "id": "7ecc5a49-b647-461b-88e5-966aa15b0475",
   "metadata": {},
   "source": [
    "## Question 4\n",
    "The gravitational force acting on an orbiting satellite is given by:"
   ]
  },
  {
   "cell_type": "markdown",
   "id": "f7395eea",
   "metadata": {},
   "source": [
    "${\\bf F} = -\\frac{\\mu m}{r^3}{\\bf r}$"
   ]
  },
  {
   "cell_type": "markdown",
   "id": "230a8dd8",
   "metadata": {},
   "source": [
    "where $\\mu$ is the gravitational parameter and and $m$ is the mass of the satellite. Write down the vector equation of motion and then write down its radial (direction ${\\bf e}_r$ ) and azimuthal (direction ${\\bf e}_\\theta$) components."
   ]
  },
  {
   "cell_type": "markdown",
   "id": "e5bb466d",
   "metadata": {},
   "source": [
    "## Your written answers go here (and create more markdown cells if you wish to)"
   ]
  },
  {
   "cell_type": "code",
   "execution_count": null,
   "id": "6ce95240",
   "metadata": {},
   "outputs": [],
   "source": [
    "# Your coded answers here (and create more Code cells if you wish to)"
   ]
  },
  {
   "cell_type": "markdown",
   "id": "f6a1c295-fd3c-4699-bea3-3d2c311ec7bc",
   "metadata": {},
   "source": [
    "![](imgs/Handwritten_Solutions.pdf)"
   ]
  }
 ],
 "metadata": {
  "kernelspec": {
   "display_name": "Python 3 (ipykernel)",
   "language": "python",
   "name": "python3"
  },
  "language_info": {
   "codemirror_mode": {
    "name": "ipython",
    "version": 3
   },
   "file_extension": ".py",
   "mimetype": "text/x-python",
   "name": "python",
   "nbconvert_exporter": "python",
   "pygments_lexer": "ipython3",
   "version": "3.11.5"
  }
 },
 "nbformat": 4,
 "nbformat_minor": 5
}
