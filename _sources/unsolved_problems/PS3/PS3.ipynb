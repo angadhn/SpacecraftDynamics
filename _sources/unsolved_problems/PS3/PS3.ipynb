{
 "cells": [
  {
   "cell_type": "markdown",
   "id": "c9f54449-7bf9-424e-82d0-274765f5706c",
   "metadata": {},
   "source": [
    "# Problem Set 3"
   ]
  },
  {
   "cell_type": "markdown",
   "id": "ef68f29b-b968-43a7-aff9-5dc9e5d576f4",
   "metadata": {},
   "source": [
    "# Question 1\n",
    "\n",
    "In November $1998$, a satellite was discovered orbiting the $215$ $km$ diameter asteroid ($45$) Eugenia. The measured orbital radius and period of the satellite’s orbit, assumed circular, was $1200$ $km$ and\n",
    "$4.7$ days respectively.\n",
    "- Assuming the satellite to be massless, compute a mass estimate for Eugenia and hence derive an estimate of its density assuming it is spherical.\n",
    "- For a measurement error of 0.1 days in the orbital period, what is the resulting percent relative error in the estimated mass?"
   ]
  },
  {
   "cell_type": "markdown",
   "id": "3e8e02f9",
   "metadata": {},
   "source": [
    "# Your written answers go here (and create more markdown cells if you wish to)"
   ]
  },
  {
   "cell_type": "code",
   "execution_count": null,
   "id": "feb24b1d",
   "metadata": {},
   "outputs": [],
   "source": [
    "# Your coded answers here (and create more Code cells if you wish to)"
   ]
  },
  {
   "cell_type": "markdown",
   "id": "ea3e9bce",
   "metadata": {},
   "source": [
    "# Question 2\n",
    "In a geocentric equatorial coordinate system the location of a satellite is $r = (1165.77, -3016.32, -6364.18)$ $km$. The satellite is travelling with a velocity vector $v =  (9.63, 1.92, 0.44)$ $kms^{-1}$. Compute the specific energy and the semi-major axis of the orbit."
   ]
  },
  {
   "cell_type": "markdown",
   "id": "1c465fa4",
   "metadata": {},
   "source": [
    "# Your written answers go here (and create more markdown cells if you wish to)"
   ]
  },
  {
   "cell_type": "code",
   "execution_count": null,
   "id": "12fa0358",
   "metadata": {},
   "outputs": [],
   "source": [
    "# Your coded answers here (and create more Code cells if you wish to)"
   ]
  },
  {
   "cell_type": "markdown",
   "id": "db111724",
   "metadata": {},
   "source": [
    "# Question 3\n",
    "For the same satellite as in the previous question, compute the components of the angular momentum and the inclination of the orbit."
   ]
  },
  {
   "cell_type": "markdown",
   "id": "2187dc0a",
   "metadata": {},
   "source": [
    "# Your written answers go here (and create more markdown cells if you wish to)"
   ]
  },
  {
   "cell_type": "code",
   "execution_count": null,
   "id": "8410d38a",
   "metadata": {},
   "outputs": [],
   "source": [
    "# Your coded answers here (and create more Code cells if you wish to)"
   ]
  },
  {
   "cell_type": "markdown",
   "id": "de621560",
   "metadata": {},
   "source": [
    "# Question 4\n",
    "A LEO satellite is in a circular orbit of altitude 650 km. How long does it take to go round the\n",
    "Earth? How many orbits will it complete in one day? If we want the satellite to perform exactly 16\n",
    "orbits per day, what altitude would the satellite need to be at?\n",
    "**Earth data**\n",
    "$$\n",
    "R_{Earth} = 6378.14 km\n",
    "$$\n",
    "$$\n",
    "\\mu = 3.986 \\times 10^5 km^3s^{-2}\n",
    "$$"
   ]
  },
  {
   "cell_type": "markdown",
   "id": "271cdf08",
   "metadata": {},
   "source": [
    "# Your written answers go here (and create more markdown cells if you wish to)"
   ]
  },
  {
   "cell_type": "code",
   "execution_count": null,
   "id": "de8206ac",
   "metadata": {},
   "outputs": [],
   "source": [
    "# Your coded answers here (and create more Code cells if you wish to)\n",
    "R_Earth = 6378.14 # in km\n",
    "mu_Earth = 3.986 * 10**5 # in km**3 s**(-2)"
   ]
  }
 ],
 "metadata": {
  "kernelspec": {
   "display_name": "Python 3 (ipykernel)",
   "language": "python",
   "name": "python3"
  },
  "language_info": {
   "codemirror_mode": {
    "name": "ipython",
    "version": 3
   },
   "file_extension": ".py",
   "mimetype": "text/x-python",
   "name": "python",
   "nbconvert_exporter": "python",
   "pygments_lexer": "ipython3",
   "version": "3.10.6"
  }
 },
 "nbformat": 4,
 "nbformat_minor": 5
}
