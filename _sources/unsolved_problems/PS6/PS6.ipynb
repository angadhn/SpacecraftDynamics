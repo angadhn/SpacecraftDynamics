{
 "cells": [
  {
   "cell_type": "markdown",
   "metadata": {
    "id": "6VL8nbLvdY53",
    "nbgrader": {
     "grade": false,
     "grade_id": "cell-43c90a2ab0c6af02",
     "locked": true,
     "schema_version": 3,
     "solution": false,
     "task": false
    },
    "tags": []
   },
   "source": [
    "# Problem Set 6\n",
    "## Data\n"
   ]
  },
  {
   "cell_type": "markdown",
   "metadata": {
    "id": "_p6z4kEScp0k",
    "nbgrader": {
     "grade": false,
     "grade_id": "cell-a758bb65d182edb8",
     "locked": true,
     "schema_version": 3,
     "solution": false,
     "task": false
    }
   },
   "source": [
    "## Problem 6.1\n",
    "A satellite is to be launched into an orbit of inclination $75^\\circ$ and right ascension of ascending node $\\Omega$ of $45^\\circ$. The launch site is at Cape Canaveral which is at $28.5\\text{N}$ $81.0\\text{W}$. Draw the spherical triangle for an insertion into the ascending phase of the orbit. Compute the launch direction auxiliary angle ($\\gamma$) and the launch window location angle ($\\delta$). Hence determine the direction to launch in and local sidereal time for launch. At Cape Canaveral launch is restricted to azimuths between $37^\\circ$ and $112^\\circ$ to avoid launching over populated areas. Is it acceptable to perform the insertion?\n"
   ]
  },
  {
   "cell_type": "code",
   "execution_count": null,
   "metadata": {
    "colab": {
     "base_uri": "https://localhost:8080/"
    },
    "id": "vDrz2VMYckI9",
    "nbgrader": {
     "grade": false,
     "grade_id": "cell-11b9a77d683813f0",
     "locked": false,
     "schema_version": 3,
     "solution": true,
     "task": false
    },
    "outputId": "a1d252da-dd29-4d5f-ae2c-065690c9cf27",
    "tags": []
   },
   "outputs": [],
   "source": [
    "# Your coded answers here (and create more Code cells if you wish to)"
   ]
  },
  {
   "cell_type": "markdown",
   "metadata": {
    "nbgrader": {
     "grade": false,
     "grade_id": "cell-1bf19b7348d68670",
     "locked": true,
     "schema_version": 3,
     "solution": false,
     "task": false
    },
    "tags": []
   },
   "source": [
    "## Problem 6.2\n",
    "\n",
    "The same satellite in the previous question is to be launched from a launch site at Woomera, Australia $30.95\\text{S}$ $136.5\\text{E}$. Draw the view of the orbit insertion from an observer looking down on the South pole, and mark the spherical triangle. Compute the launch azimuth for insertion into the orbit just prior to ascending node and local sidereal time for launch. The allowed azimuths at this site are from $350^\\circ$ to $20^\\circ$ . Is this acceptable?"
   ]
  },
  {
   "cell_type": "code",
   "execution_count": null,
   "metadata": {
    "colab": {
     "base_uri": "https://localhost:8080/"
    },
    "id": "ast4IVaXx3yA",
    "nbgrader": {
     "grade": false,
     "grade_id": "cell-1f4f35dc139e4875",
     "locked": false,
     "schema_version": 3,
     "solution": true,
     "task": false
    },
    "outputId": "ba43d520-2167-4925-8b18-357b7d81d1f5",
    "tags": []
   },
   "outputs": [],
   "source": [
    "# Your coded answers here (and create more Code cells if you wish to)"
   ]
  },
  {
   "cell_type": "markdown",
   "metadata": {
    "id": "SO5O6F3quuOn",
    "nbgrader": {
     "grade": false,
     "grade_id": "cell-518235aa92f8c8bd",
     "locked": true,
     "schema_version": 3,
     "solution": false,
     "task": false
    }
   },
   "source": [
    "## Problem 6.3\n",
    "A satellite is to be launched into a sun-synchronous orbit of inclination $98^\\circ$ , from Kourou $5.2\\text{N}$ $52.8\\text{W}$. The insertion is to be on the descending pass. The moment of launch is midnight at Greenwich, where the LST is $6^\\text{h}40^\\text{m}$. Calculate the $\\text{LST}_\\text{launch}$ at Kourou when the satellite is to be launched. Find the launch window location angle $\\delta$ and the launch auxiliary direction angle $\\gamma$. Determine the right ascension of the ascending node of the orbit.\n",
    "Sun-synchronous orbits are characterised by the local apparent solar time of the ascending node, calculate this value for this sun-syncrhonous orbit."
   ]
  },
  {
   "cell_type": "code",
   "execution_count": null,
   "metadata": {
    "colab": {
     "base_uri": "https://localhost:8080/"
    },
    "id": "sf15DIQRsomk",
    "nbgrader": {
     "grade": false,
     "grade_id": "cell-84cb2061105829f8",
     "locked": false,
     "schema_version": 3,
     "solution": true,
     "task": false
    },
    "outputId": "2d4f5319-a5d3-41aa-972f-2cc1bedcafa9",
    "tags": []
   },
   "outputs": [],
   "source": [
    "# Your coded answers here (and create more Code cells if you wish to)"
   ]
  },
  {
   "cell_type": "markdown",
   "metadata": {
    "id": "-0ObCH8n1HZe",
    "nbgrader": {
     "grade": false,
     "grade_id": "cell-420b01c376bc2ed0",
     "locked": true,
     "schema_version": 3,
     "solution": false,
     "task": false
    },
    "tags": []
   },
   "source": [
    "## Problem 6.4\n",
    "A satellite is to be launched from the Baikonur cosmodrome located at $45.6\\text{N}$ $63.4\\text{E}$, to rendezvous with the ISS. The ISS is in an orbit of inclination $51.6^\\circ$  and assume that its orbital period is 91.38m. The ISS crosses the latitude of $45.6\\text{N}$ but at a longitude of $131.9\\text{E}$. If this condition occurs when when the local sidereal time of Baikonur is $14:40$, calculate the $\\text{LST}_\\text{launch}$ for the next rendezvous opportunity."
   ]
  },
  {
   "cell_type": "code",
   "execution_count": null,
   "metadata": {
    "id": "xbGHDZ2-1TC3",
    "nbgrader": {
     "grade": false,
     "grade_id": "cell-d4b764e24372fbc6",
     "locked": false,
     "schema_version": 3,
     "solution": true,
     "task": false
    },
    "tags": []
   },
   "outputs": [],
   "source": [
    "# Your coded answers here (and create more Code cells if you wish to)"
   ]
  }
 ],
 "metadata": {
  "colab": {
   "provenance": []
  },
  "kernelspec": {
   "display_name": "Python 3 (ipykernel)",
   "language": "python",
   "name": "python3"
  },
  "language_info": {
   "codemirror_mode": {
    "name": "ipython",
    "version": 3
   },
   "file_extension": ".py",
   "mimetype": "text/x-python",
   "name": "python",
   "nbconvert_exporter": "python",
   "pygments_lexer": "ipython3",
   "version": "3.10.6"
  }
 },
 "nbformat": 4,
 "nbformat_minor": 4
}
