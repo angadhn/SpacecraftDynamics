{
 "cells": [
  {
   "cell_type": "markdown",
   "metadata": {
    "id": "6VL8nbLvdY53",
    "nbgrader": {
     "grade": false,
     "grade_id": "cell-43c90a2ab0c6af02",
     "locked": true,
     "schema_version": 3,
     "solution": false,
     "task": false
    },
    "tags": []
   },
   "source": [
    "# Problem Set 7"
   ]
  },
  {
   "cell_type": "markdown",
   "metadata": {
    "id": "_p6z4kEScp0k",
    "nbgrader": {
     "grade": false,
     "grade_id": "cell-a758bb65d182edb8",
     "locked": true,
     "schema_version": 3,
     "solution": false,
     "task": false
    }
   },
   "source": [
    "# Problem 7.1\n",
    "In a reference frame $(\\bf i, j, k)$, a vector $\\mathbf{v}$ has the form: \n",
    "$$\n",
    "\\mathbf{v} = x\\mathbf{i} + y\\mathbf{j}.\n",
    "$$\n",
    "Express this vector in a reference frame obtained by a rotation by a positive angle $\\phi$ about the $k$ axis. How would this vector look if $\\mathbf{v}$ had a component in the $\\bf k$ direction?\n",
    "\n",
    "Consider now the effect of two rotations: a rotation of $\\phi$ about the $\\bf i$ axis followed by a rotation of $\\psi$ about the $\\bf k$ axis. Write down the rotation matrix for the net rotation. Draw a diagram showing this sequence of rotations.\n"
   ]
  },
  {
   "cell_type": "code",
   "execution_count": null,
   "metadata": {
    "colab": {
     "base_uri": "https://localhost:8080/"
    },
    "id": "vDrz2VMYckI9",
    "nbgrader": {
     "grade": false,
     "grade_id": "cell-11b9a77d683813f0",
     "locked": false,
     "schema_version": 3,
     "solution": true,
     "task": false
    },
    "outputId": "a1d252da-dd29-4d5f-ae2c-065690c9cf27",
    "tags": []
   },
   "outputs": [],
   "source": [
    "# Your coded answers here (and create more Code cells if you wish to)"
   ]
  },
  {
   "cell_type": "markdown",
   "metadata": {
    "nbgrader": {
     "grade": false,
     "grade_id": "cell-1bf19b7348d68670",
     "locked": true,
     "schema_version": 3,
     "solution": false,
     "task": false
    },
    "tags": []
   },
   "source": [
    "# Problem 7.2\n",
    "A spacecraft is rotated about an axis $\\mathbf{e} = (0.6, 0.0, 0.8)$. The angle of rotation is $\\phi = 60^\\circ$. Compute the quaternion that describes this maneuver."
   ]
  },
  {
   "cell_type": "code",
   "execution_count": null,
   "metadata": {
    "colab": {
     "base_uri": "https://localhost:8080/"
    },
    "id": "ast4IVaXx3yA",
    "nbgrader": {
     "grade": false,
     "grade_id": "cell-1f4f35dc139e4875",
     "locked": false,
     "schema_version": 3,
     "solution": true,
     "task": false
    },
    "outputId": "ba43d520-2167-4925-8b18-357b7d81d1f5",
    "tags": []
   },
   "outputs": [],
   "source": [
    "# Your coded answers here (and create more Code cells if you wish to)"
   ]
  },
  {
   "cell_type": "markdown",
   "metadata": {
    "id": "SO5O6F3quuOn",
    "nbgrader": {
     "grade": false,
     "grade_id": "cell-518235aa92f8c8bd",
     "locked": true,
     "schema_version": 3,
     "solution": false,
     "task": false
    }
   },
   "source": [
    "# Problem 7.3\n",
    "A spacecraft executes a maneuver of $\\phi_1 = 30^\\circ$ about an axis $\\mathbf{e}_1 = (0.5, 0.5, 0.707)$. After it has turned through $20^\\circ$, one of the magnetorquers fires by an error. This causes a new rotation of the spacecraft of $\\phi_2 = 14^\\circ$ about an axis $\\mathbf{e}_2 = (0.9, 0.11, 0.422)$. Using the quaternion product, find the Euler axis and rotation angle for the net rotation."
   ]
  },
  {
   "cell_type": "code",
   "execution_count": 1,
   "metadata": {
    "colab": {
     "base_uri": "https://localhost:8080/"
    },
    "id": "sf15DIQRsomk",
    "nbgrader": {
     "grade": false,
     "grade_id": "cell-84cb2061105829f8",
     "locked": false,
     "schema_version": 3,
     "solution": true,
     "task": false
    },
    "outputId": "2d4f5319-a5d3-41aa-972f-2cc1bedcafa9",
    "tags": []
   },
   "outputs": [],
   "source": [
    "# Your coded answers here (and create more Code cells if you wish to)"
   ]
  },
  {
   "cell_type": "markdown",
   "metadata": {
    "id": "-0ObCH8n1HZe",
    "nbgrader": {
     "grade": false,
     "grade_id": "cell-420b01c376bc2ed0",
     "locked": true,
     "schema_version": 3,
     "solution": false,
     "task": false
    },
    "tags": []
   },
   "source": [
    "# Problem 7.4\n",
    "A spacecraft frame has its $z$ axis pointing away from the Earth and its $y$ axis pointing along its orbit. The spacecraft executes a rotation around $z$ (yaw) of $\\phi = 60^\\circ$ followed by a rotation around $y$ (roll) of $\\theta = 20^\\circ$. Determine the attitude matrix $A$ of the spacecraft after these two rotations. To return to its original orientation in space, the spacecraft performs a yaw of $-20^\\circ$ followed by a roll of $-60^\\circ$. Will this return the spacecraft as desired?"
   ]
  },
  {
   "cell_type": "code",
   "execution_count": null,
   "metadata": {
    "id": "xbGHDZ2-1TC3",
    "nbgrader": {
     "grade": false,
     "grade_id": "cell-d4b764e24372fbc6",
     "locked": false,
     "schema_version": 3,
     "solution": true,
     "task": false
    },
    "tags": []
   },
   "outputs": [],
   "source": [
    "# Your coded answers here (and create more Code cells if you wish to)"
   ]
  }
 ],
 "metadata": {
  "colab": {
   "provenance": []
  },
  "kernelspec": {
   "display_name": "Python 3 (ipykernel)",
   "language": "python",
   "name": "python3"
  },
  "language_info": {
   "codemirror_mode": {
    "name": "ipython",
    "version": 3
   },
   "file_extension": ".py",
   "mimetype": "text/x-python",
   "name": "python",
   "nbconvert_exporter": "python",
   "pygments_lexer": "ipython3",
   "version": "3.8.19"
  }
 },
 "nbformat": 4,
 "nbformat_minor": 4
}
