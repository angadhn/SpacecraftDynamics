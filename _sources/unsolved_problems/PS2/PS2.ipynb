{
 "cells": [
  {
   "cell_type": "markdown",
   "id": "c9f54449-7bf9-424e-82d0-274765f5706c",
   "metadata": {},
   "source": [
    "# Problem Set 2\n",
    "\n",
    "**Earth data**\n",
    "$$\n",
    "R^{Equator} = 6384 km\n",
    "$$\n",
    "$$\n",
    "R^{Pole} = 6353 km\n",
    "$$\n",
    "$$\n",
    "\\mu = 3.986 \\times 10^5 km^3s^{-2}\n",
    "$$"
   ]
  },
  {
   "cell_type": "markdown",
   "id": "ef68f29b-b968-43a7-aff9-5dc9e5d576f4",
   "metadata": {},
   "source": [
    "## Question 1\n",
    "A remote sensing satellite is in a polar orbit with its line of apsides on the equator. The perigee of the orbit is at altitude of $620$ $km$ and the eccentricity of the orbit is $e = 0.04$. Calculate the semi-major axis of this orbit and show that the altitude at apogee is approximately $1200$ $km$."
   ]
  },
  {
   "cell_type": "markdown",
   "id": "75a08dfa",
   "metadata": {},
   "source": [
    "# Your written answers go here (and create more markdown cells if you wish to)"
   ]
  },
  {
   "cell_type": "code",
   "execution_count": null,
   "id": "28384e60",
   "metadata": {},
   "outputs": [],
   "source": [
    "# Your coded answers here (and create more Code cells if you wish to)"
   ]
  },
  {
   "cell_type": "markdown",
   "id": "88f51956",
   "metadata": {},
   "source": [
    "## Question 2\n",
    "The satellite carries a camera with a field of view of $26^o$. The camera has a CCD array of $1000$ pixels. Compute the resolution per pixel of this camera at perigee and apogee."
   ]
  },
  {
   "cell_type": "markdown",
   "id": "12ab10b2",
   "metadata": {},
   "source": [
    "# Your written answers go here (and create more markdown cells if you wish to)"
   ]
  },
  {
   "cell_type": "code",
   "execution_count": null,
   "id": "cd3c3082",
   "metadata": {},
   "outputs": [],
   "source": [
    "# Your coded answers here (and create more Code cells if you wish to)"
   ]
  },
  {
   "cell_type": "markdown",
   "id": "9c03f50e",
   "metadata": {},
   "source": [
    "## Question 3\n",
    "Find the altitude of the satellite as it passes over the poles. For the camera onboard the satellite, compute the image resolution over the poles."
   ]
  },
  {
   "cell_type": "markdown",
   "id": "3f6ceedb",
   "metadata": {},
   "source": [
    "# Your written answers go here (and create more markdown cells if you wish to)"
   ]
  },
  {
   "cell_type": "code",
   "execution_count": null,
   "id": "d2ac7eca",
   "metadata": {},
   "outputs": [],
   "source": [
    "# Your coded answers here (and create more Code cells if you wish to)"
   ]
  },
  {
   "cell_type": "markdown",
   "id": "c99d399e",
   "metadata": {},
   "source": [
    "## Question 4\n",
    "Calculate the velocity of this spacecraft at perigee, and the angular velocity. Neglecting the eccentricity of the orbit and taking the Earth as a sphere, how long will it take for the spacecraft to\n",
    "disappear over the horizon of an observer directly below the perigee point?"
   ]
  },
  {
   "cell_type": "markdown",
   "id": "2ff00545",
   "metadata": {},
   "source": [
    "# Your written answers go here (and create more markdown cells if you wish to)"
   ]
  },
  {
   "cell_type": "code",
   "execution_count": null,
   "id": "91fb01cc",
   "metadata": {},
   "outputs": [],
   "source": [
    "# Your coded answers here (and create more Code cells if you wish to)"
   ]
  }
 ],
 "metadata": {
  "kernelspec": {
   "display_name": "Python 3 (ipykernel)",
   "language": "python",
   "name": "python3"
  },
  "language_info": {
   "codemirror_mode": {
    "name": "ipython",
    "version": 3
   },
   "file_extension": ".py",
   "mimetype": "text/x-python",
   "name": "python",
   "nbconvert_exporter": "python",
   "pygments_lexer": "ipython3",
   "version": "3.10.6"
  }
 },
 "nbformat": 4,
 "nbformat_minor": 5
}
