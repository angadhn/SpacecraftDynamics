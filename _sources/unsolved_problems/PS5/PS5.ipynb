{
 "cells": [
  {
   "cell_type": "markdown",
   "metadata": {
    "id": "6VL8nbLvdY53",
    "nbgrader": {
     "grade": false,
     "grade_id": "cell-43c90a2ab0c6af02",
     "locked": true,
     "schema_version": 3,
     "solution": false,
     "task": false
    },
    "tags": []
   },
   "source": [
    "# Problem Set 5\n",
    "## Data\n",
    "\n",
    "$$\n",
    "\\begin{align*}\n",
    "\\mu_{\\odot} &= 1.327 \\times 10^{11} \\, \\text{km}^3 \\, \\text{s}^{-2} \\\\\n",
    "\\mu_{\\oplus} &= 3.986 \\times 10^{5} \\, \\text{km}^3 \\, \\text{s}^{-2} \\\\\n",
    "\\mu_{venus} &= 3.249 \\times 10^{5} \\, \\text{km}^3 \\, \\text{s}^{-2} \\\\\n",
    "\\text{Earth orbital radius} \\, r_{\\oplus} &= 1.496 \\times 10^{8} \\, \\text{km} \\\\\n",
    "\\text{Venus orbital radius} \\, r_{venus} &= 1.082 \\times 10^{8} \\, \\text{km} \\\\\n",
    "\\text{Radius of Earth} \\, R_{\\oplus} &= 6378 \\, \\text{km} \\\\\n",
    "\\text{Radius of Venus} \\, R_{venus} &= 6052 \\, \\text{km} \\\\\n",
    "\\end{align*}\n",
    "$$"
   ]
  },
  {
   "cell_type": "markdown",
   "metadata": {
    "id": "_p6z4kEScp0k",
    "nbgrader": {
     "grade": false,
     "grade_id": "cell-a758bb65d182edb8",
     "locked": true,
     "schema_version": 3,
     "solution": false,
     "task": false
    }
   },
   "source": [
    "# Problem 5.1\n",
    "\n",
    "A satellite is to travel from the Earth to Venus using a Hohmann transfer. Calculate the semi-major axis of the transfer orbit. Using the vis-viva equation, compute the heliocentric velocity of the satellite as it leaves the Earth. Compute the orbital velocity of the Earth and hence show that the satellite leaves the Earth with velocity:\n",
    "\n",
    "$$\n",
    "v_\\infty^+ = 2.50 \\, \\text{km} \\, \\text{s}^{-1}\n",
    "$$\n",
    "\n",
    "in the opposite direction to the Earth's orbital motion.\n"
   ]
  },
  {
   "cell_type": "code",
   "execution_count": null,
   "metadata": {
    "colab": {
     "base_uri": "https://localhost:8080/"
    },
    "id": "vDrz2VMYckI9",
    "nbgrader": {
     "grade": false,
     "grade_id": "cell-11b9a77d683813f0",
     "locked": false,
     "schema_version": 3,
     "solution": true,
     "task": false
    },
    "outputId": "a1d252da-dd29-4d5f-ae2c-065690c9cf27",
    "tags": []
   },
   "outputs": [],
   "source": [
    "# Your coded answers here (and create more Code cells if you wish to)"
   ]
  },
  {
   "cell_type": "markdown",
   "metadata": {
    "nbgrader": {
     "grade": false,
     "grade_id": "cell-1bf19b7348d68670",
     "locked": true,
     "schema_version": 3,
     "solution": false,
     "task": false
    },
    "tags": []
   },
   "source": [
    "# Problem 5.2\n",
    "The satellite is launched into a circular parking orbit of altitude $200$ $\\text{km}$. From here, it fires an upper stage to put it into a hyperbolic escape trajectory to Venus. Use the result above to compute the semi-major axis and eccentricity of this hyperbolic orbit and hence the velocity at perigee the satellite needs to have. Show that the satellite needs to be accelerated by $\\Delta v = 3.50 \\, \\text{km} \\, \\text{s}^{-1}$ from its circular parking orbit. Compute the turning angle $\\delta$ and the angle between the Earth's orbital vector and the phase of the parking orbit at which this acceleration needs to be applied. Draw a diagram of this transfer orbit indicating the direction of the Earth's orbital motion and the direction of the Sun."
   ]
  },
  {
   "cell_type": "code",
   "execution_count": null,
   "metadata": {
    "colab": {
     "base_uri": "https://localhost:8080/"
    },
    "id": "ast4IVaXx3yA",
    "nbgrader": {
     "grade": false,
     "grade_id": "cell-1f4f35dc139e4875",
     "locked": false,
     "schema_version": 3,
     "solution": true,
     "task": false
    },
    "outputId": "ba43d520-2167-4925-8b18-357b7d81d1f5",
    "tags": []
   },
   "outputs": [],
   "source": [
    "# Your coded answers here (and create more Code cells if you wish to)"
   ]
  },
  {
   "cell_type": "markdown",
   "metadata": {
    "id": "SO5O6F3quuOn",
    "nbgrader": {
     "grade": false,
     "grade_id": "cell-518235aa92f8c8bd",
     "locked": true,
     "schema_version": 3,
     "solution": false,
     "task": false
    }
   },
   "source": [
    "# Problem 5.3\n",
    "Compute the orbital velocities of the Earth and Venus. Using the result from question $5.1$, find the heliocentric velocity of the spacecraft when it leaves the Earth. Use conservation of angular momentum to compute the approach velocity at Venus. Hence, show that the relative velocity at approach will be $v_\\infty = 2.71 \\, \\text{km} \\, \\text{s}^{-1}$."
   ]
  },
  {
   "cell_type": "code",
   "execution_count": null,
   "metadata": {
    "colab": {
     "base_uri": "https://localhost:8080/"
    },
    "id": "sf15DIQRsomk",
    "nbgrader": {
     "grade": false,
     "grade_id": "cell-84cb2061105829f8",
     "locked": false,
     "schema_version": 3,
     "solution": true,
     "task": false
    },
    "outputId": "2d4f5319-a5d3-41aa-972f-2cc1bedcafa9",
    "tags": []
   },
   "outputs": [],
   "source": [
    "# Your coded answers here (and create more Code cells if you wish to)"
   ]
  },
  {
   "cell_type": "markdown",
   "metadata": {
    "id": "-0ObCH8n1HZe",
    "nbgrader": {
     "grade": false,
     "grade_id": "cell-420b01c376bc2ed0",
     "locked": true,
     "schema_version": 3,
     "solution": false,
     "task": false
    },
    "tags": []
   },
   "source": [
    "# Problem 5.4\n",
    "The spacecraft is adjusted so that it will pass within $500$ $\\text{km}$ of the surface of Venus just ahead of it in its orbit. Calculate the eccentricity of the hyperbolic flyby orbit and hence show that the deflection angle $\\delta = 60.60^\\circ$.\n",
    "\n",
    "The approach of the spacecraft is on the sunward side of Venus. Draw a diagram from the Venus frame of the approach and swingby of the spacecraft. Compute the angle between the approach and pericentre passage of this orbit.\n",
    "\n",
    "At pericentre passage, the spacecraft fires a thruster to reduce its transverse velocity by $2$ $\\text{km} \\text{s}^{-1}$. Compute the energy of the new orbit and show that it is bound, and hence show that the semi-major axis of this orbit is $a_B = 10,847.70 \\, \\text{km}$. Use the fact that the pericentre passage of this new orbit is the same as for the hyperbolic inbound trajectory to show that the eccentricity of the orbit is $e_B = 0.4$."
   ]
  },
  {
   "cell_type": "code",
   "execution_count": null,
   "metadata": {
    "id": "xbGHDZ2-1TC3",
    "nbgrader": {
     "grade": false,
     "grade_id": "cell-d4b764e24372fbc6",
     "locked": false,
     "schema_version": 3,
     "solution": true,
     "task": false
    },
    "tags": []
   },
   "outputs": [],
   "source": [
    "# Your coded answers here (and create more Code cells if you wish to)"
   ]
  }
 ],
 "metadata": {
  "colab": {
   "provenance": []
  },
  "kernelspec": {
   "display_name": "Python 3 (ipykernel)",
   "language": "python",
   "name": "python3"
  },
  "language_info": {
   "codemirror_mode": {
    "name": "ipython",
    "version": 3
   },
   "file_extension": ".py",
   "mimetype": "text/x-python",
   "name": "python",
   "nbconvert_exporter": "python",
   "pygments_lexer": "ipython3",
   "version": "3.10.6"
  }
 },
 "nbformat": 4,
 "nbformat_minor": 4
}
