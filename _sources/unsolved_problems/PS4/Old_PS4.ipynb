{
 "cells": [
  {
   "cell_type": "markdown",
   "id": "c9f54449-7bf9-424e-82d0-274765f5706c",
   "metadata": {},
   "source": [
    "# Problem Set 4\n",
    "**Moon data**\n",
    "\n",
    "$$\n",
    "R_{Moon} = 1738\\textrm{ } km\\\\\n",
    "\n",
    "\\mu_{Moon} = 4903\\textrm{ } km^3s^{-2}\n",
    "$$"
   ]
  },
  {
   "cell_type": "markdown",
   "id": "ef68f29b-b968-43a7-aff9-5dc9e5d576f4",
   "metadata": {},
   "source": [
    "# Question 1\n",
    "\n",
    "The  first spacecraft to orbit the Moon was Luna $10$, launched by the former Soviet Union in $1966$. The orbit of the satellite about the Moon took it from $350$ $km$ above the lunar surface out to $1017$\n",
    "$km$. Compute the semi-major axis and hence orbital period of Luna $10$. What is the velocity impulse required at pericentre to escape the lunar gravitational influence? You may neglect the Earth's gravitational influence."
   ]
  },
  {
   "cell_type": "markdown",
   "id": "dd81eb78",
   "metadata": {},
   "source": []
  },
  {
   "cell_type": "code",
   "execution_count": null,
   "id": "84c7bab5",
   "metadata": {},
   "outputs": [],
   "source": []
  },
  {
   "cell_type": "markdown",
   "id": "3e8e02f9",
   "metadata": {},
   "source": [
    "# Your written answers go here (and create more markdown cells if you wish to)"
   ]
  },
  {
   "cell_type": "code",
   "execution_count": null,
   "id": "feb24b1d",
   "metadata": {},
   "outputs": [],
   "source": [
    "# Your coded answers here (and create more Code cells if you wish to)"
   ]
  },
  {
   "cell_type": "markdown",
   "id": "ea3e9bce",
   "metadata": {},
   "source": [
    "# Question 2\n",
    "We wish to change the inclination of a satellite's orbital plane by $\\Delta i$. This is achieved by rotating the satellite's velocity vector, but not changing its magnitude. Show that the required change in\n",
    "velocity is:\n",
    "$$\n",
    "\\Delta v = 2v \\sin\\bigg(\\frac{\\Delta i}{2}\\bigg)\n",
    "$$\n",
    " \n",
    "For a $60^o$ plane change what is the $\\Delta v$ required?"
   ]
  },
  {
   "cell_type": "markdown",
   "id": "1c465fa4",
   "metadata": {},
   "source": [
    "# Your written answers go here (and create more markdown cells if you wish to)"
   ]
  },
  {
   "cell_type": "code",
   "execution_count": null,
   "id": "12fa0358",
   "metadata": {},
   "outputs": [],
   "source": [
    "# Your coded answers here (and create more Code cells if you wish to)"
   ]
  },
  {
   "cell_type": "markdown",
   "id": "db111724",
   "metadata": {},
   "source": [
    "# Question 3\n",
    "A satellite needs to perform a plane change and uses a strategy of transferring from its circular orbit into a parabolic orbit of zero energy. When the satellite is in deep space, its velocity is very small so\n",
    "a plane change can be performed at no cost and then returns on a parabolic orbit on the new orbital plane to be inserted back into a circular orbit of same radius at the new inclination. Calculate the\n",
    "$\\Delta v$ required for this manoeuvre and by comparing with the above result, show that this _parabolic transfer_ is more efficient for $\\Delta i > 48.9^o$."
   ]
  },
  {
   "cell_type": "markdown",
   "id": "2187dc0a",
   "metadata": {},
   "source": [
    "# Your written answers go here (and create more markdown cells if you wish to)"
   ]
  },
  {
   "cell_type": "markdown",
   "id": "c08d2b08",
   "metadata": {},
   "source": []
  },
  {
   "cell_type": "code",
   "execution_count": null,
   "id": "8410d38a",
   "metadata": {},
   "outputs": [],
   "source": [
    "# Your coded answers here (and create more Code cells if you wish to)"
   ]
  },
  {
   "cell_type": "markdown",
   "id": "de621560",
   "metadata": {},
   "source": [
    "# Question 4\n",
    "A lunar module (LM) lifts to the surface of the Moon and \n",
    "flies in a powered trajectory to its burnout point at an altitude of $30 km$. At this point the $LM$ is travelling purely transversal and\n",
    "coasts around the Moon for half an orbit, at which point it is to rendezvous with the orbiting command module (CM), which is in a circular orbit of altitude $250$ $km$. What is the burnout speed of the LM and the magnitude of the finnal manoeuvre at rendezvous?"
   ]
  },
  {
   "cell_type": "markdown",
   "id": "271cdf08",
   "metadata": {},
   "source": [
    "# Your written answers go here (and create more markdown cells if you wish to)"
   ]
  },
  {
   "cell_type": "code",
   "execution_count": null,
   "id": "de8206ac",
   "metadata": {},
   "outputs": [],
   "source": [
    "# Your coded answers here (and create more Code cells if you wish to)"
   ]
  }
 ],
 "metadata": {
  "kernelspec": {
   "display_name": "Python 3 (ipykernel)",
   "language": "python",
   "name": "python3"
  },
  "language_info": {
   "codemirror_mode": {
    "name": "ipython",
    "version": 3
   },
   "file_extension": ".py",
   "mimetype": "text/x-python",
   "name": "python",
   "nbconvert_exporter": "python",
   "pygments_lexer": "ipython3",
   "version": "3.10.6"
  }
 },
 "nbformat": 4,
 "nbformat_minor": 5
}
