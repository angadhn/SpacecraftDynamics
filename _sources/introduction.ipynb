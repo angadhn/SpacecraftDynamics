{
 "cells": [
  {
   "cell_type": "markdown",
   "id": "0fb38d15",
   "metadata": {},
   "source": [
    "# Introduction"
   ]
  },
  {
   "cell_type": "markdown",
   "id": "50e01216",
   "metadata": {},
   "source": [
    "In the most general sense, *dynamics* is the study of properties or parameters that evolve or change with respect to some other parameter. For example, the field of population dynamics studies the change of animal or human populations. In the context of this text and class, we will study parameters describing the motion of bodies. More often than not, we will be interested in the changes of parameters with respect to time.\n",
    "\n",
    "At a physical level, our focus will be on the motion of bodies, which we assume can be categorized under two classes: \n",
    "\n",
    "1. **Particles**: These are objects that can be modeled as point masses. They have negligible dimension. \n",
    "\n",
    "2. **Rigid bodies**: These are objects that have some predefined constant shape. The distances between all points of a rigid body remain constant for all time, even when a force is applied to them. \n",
    "\n",
    "This module could also be called _Computational Rigid Body Dynamics_. Studying the dynamics involving the motion of particles and bodies has two distinct parts:\n",
    "\n",
    "1. **Kinematics**: the study of the geometry or mathematics of motion, without taking into consideration any forces that cause said motion. The parameters of interest here are positions, velocities, and accelerations. This is also called rigid body motion or rigid body kinematics.\n",
    "\n",
    "2. **Kinetics**: the study of motion while accounting for any forces causing the motion by using Newton's laws."
   ]
  }
 ],
 "metadata": {
  "kernelspec": {
   "display_name": "Python 3 (ipykernel)",
   "language": "python",
   "name": "python3"
  },
  "language_info": {
   "codemirror_mode": {
    "name": "ipython",
    "version": 3
   },
   "file_extension": ".py",
   "mimetype": "text/x-python",
   "name": "python",
   "nbconvert_exporter": "python",
   "pygments_lexer": "ipython3",
   "version": "3.7.10"
  }
 },
 "nbformat": 4,
 "nbformat_minor": 5
}
