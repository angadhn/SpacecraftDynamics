{
 "cells": [
  {
   "cell_type": "markdown",
   "metadata": {},
   "source": [
    "# Ground Tracks and Orbit Perturbations"
   ]
  },
  {
   "cell_type": "markdown",
   "metadata": {},
   "source": [
    "_Prepared by:_ [Mitansh Choksi](https://github.com/mitanshc) and [Angadh Nanjangud](https://www.angadhn.com/)"
   ]
  },
  {
   "cell_type": "markdown",
   "metadata": {},
   "source": [
    "In this lecture we aim to cover the following topics:\n",
    "1. [](content:ground-tracks)\n",
    "2. [](content:orbit-perturbations)"
   ]
  },
  {
   "cell_type": "markdown",
   "metadata": {},
   "source": [
    "(content:ground-tracks)=\n",
    "## Ground Tracks"
   ]
  },
  {
   "cell_type": "markdown",
   "metadata": {},
   "source": [
    "A groundtrack is the locus of points on the Earth's surface <u>directly below</u> a satellite as it travels through the orbit.\n",
    "\n",
    "Mathematically it is computed by a rotation of the spacecraft position vector around the Earth spin axis (z) to transform t from ECI (earth centered inertial) to <u>Earth Centred Earth Fixed</u> (ECEF). "
   ]
  },
  {
   "cell_type": "markdown",
   "metadata": {},
   "source": [
    "![Figure 1](images/L11img1.png)\n"
   ]
  },
  {
   "cell_type": "markdown",
   "metadata": {},
   "source": [
    "Having a look at the above figure we can convert between the <u>ECEF</u> and <u>ECI</u> frames. \n",
    " * $\\mathbf{r}_{ECEF} = A_3 (\\theta_G) \\mathbf{r}_{ECI}$\n",
    " <br> Here $\\theta_G$ is the <u>sidereal time of Greenwich</u>. This the angle between $\\gamma$ and the meridian of Greenwich.\n",
    " * $\\lambda = tan^{-1} \\frac{y_{ECEF}}{x_{ECEF}}$ &ensp;&ensp;&ensp;&ensp;This represents longitude\n",
    " * $\\phi = sin^{-1} \\frac{z_{ECEF}}{r}$ &ensp;&ensp;&ensp;&ensp; This represents latitude\n",
    "\n",
    "Groundtracks are very important. They provide information on the spacecraft orbit and are very useful for coverage and acess to ground stations."
   ]
  },
  {
   "cell_type": "markdown",
   "metadata": {},
   "source": [
    "![Figure 2](images/L11img2.png)"
   ]
  },
  {
   "cell_type": "markdown",
   "metadata": {},
   "source": [
    "The figure on the left shows 3D groundtracks and the image on the left shows 2D groundtracks."
   ]
  },
  {
   "cell_type": "markdown",
   "metadata": {},
   "source": [
    "* The earth rotates counterclockwise so we see the <u>groundtrack drifting west</u> with each revolution by an amount $\\Delta \\lambda$.\n",
    "\n",
    "    ```{math}\n",
    "    :label: L11_1\n",
    "    \\Delta \\lambda = T \\cdot \\omega_{e} = T \\frac{2 \\pi}{T_{\\gamma}}\n",
    "    ```\n",
    "</br> Here, $T$ is the orbital period, $T_{\\gamma}$ is the sidereal day and $\\omega_{e}$ is the angular velocity of the earth. </br> \n",
    "\n",
    "* From $\\Delta \\lambda$ <u>we can estimate T</u>. \n",
    "\n",
    "* The maximum latitude reached is equal to the orbit inclination. (If it is a retrograde orbit then \"$180^\\circ$-_i_\" )\n",
    "    * From $\\phi_{max}$ <u> we can estimate _i_</u>\n",
    "\n",
    "* <u>Circular orbits</u> have ground tracks with <u>symmetry</u> about <u>a line of longitude</u> (e.g. greenwich meridian) and <u>hinge symmetry</u>. \n",
    "\n"
   ]
  },
  {
   "cell_type": "markdown",
   "metadata": {},
   "source": [
    "### Impact of Semi-major Axis (circular orbits)"
   ]
  },
  {
   "cell_type": "markdown",
   "metadata": {},
   "source": [
    "![Figure 3](images/L11img3.png)"
   ]
  },
  {
   "cell_type": "markdown",
   "metadata": {},
   "source": [
    "From the above figure we can see as the altitude increases the ground track drifts west more and $\\Delta \\lambda$ increases. \n",
    "\n",
    "1. When <u>a increases</u>, T increases and $\\Delta \\lambda$ increases.\n",
    "2. When $T = T_\\gamma \\rightarrow \\Delta \\lambda = 360^\\circ$ and the ground track closes: <u>This is called a geosynchronous orbit</u>\n",
    "3. When $T>T_\\gamma \\rightarrow \\Delta \\lambda>360^\\circ$\n",
    "\n",
    "Why a Figure of 8?\n",
    "1. The velocity of a point on Earth's surface decreases with latitude: $v_{G} = \\omega_{e} R_{e}cos{\\phi}$ where \"$R_e cos\\phi$\" is the distance from the spin axis.\n",
    "2. The velocity of the subsatellite point increases with latitude\n",
    "\n",
    "- When the subsatellite point is slower, the groundtrack drifts west, when it is faster it drifts east. "
   ]
  },
  {
   "cell_type": "markdown",
   "metadata": {},
   "source": [
    "### Effect of eccentricity and argument of perigee"
   ]
  },
  {
   "cell_type": "markdown",
   "metadata": {},
   "source": [
    "![Figure 4](images/L11img4.png)"
   ]
  },
  {
   "cell_type": "markdown",
   "metadata": {},
   "source": [
    "1. Close to perigee the sbsatellite point is faster hence a larger drift towards the East\n",
    "2. Close to the apogee the subsatellite point is slower hence lower drift towards the East\n",
    "3. When $\\omega = 90^\\circ$ or $270^\\circ$ groundtracks become symmetric about the longitudinal axis"
   ]
  },
  {
   "cell_type": "markdown",
   "metadata": {},
   "source": [
    "### Effect of inclination"
   ]
  },
  {
   "cell_type": "markdown",
   "metadata": {},
   "source": [
    "![Figure 5](images/L11img5.png)"
   ]
  },
  {
   "cell_type": "markdown",
   "metadata": {},
   "source": [
    "1. The inclination determins the maximum latitude $\\phi_{max}$\n",
    "2. For prograde orbits: $\\phi_{max} = i$\n",
    "3. For retrograde orbits: $\\phi_{max} = 180^\\circ - i$"
   ]
  },
  {
   "cell_type": "markdown",
   "metadata": {},
   "source": [
    "(content:orbit-perturbations)=\n",
    "## Orbit Perturbations"
   ]
  },
  {
   "cell_type": "markdown",
   "metadata": {},
   "source": [
    "Let us come back to our favourite two body dynamics equation: \n",
    "\n",
    "```{math}\n",
    ":label: L11_2\n",
    "\\ddot{\\mathbf{r}} = -\\frac{\\mu}{r^3} \\mathbf{r}\n",
    "```\n",
    "\n",
    "Here $\\mathbf{h}$ and $\\mathbf{e}$ are constant. \n",
    "</br>\n",
    "If $\\mathbf{h}$ and $\\mathbf{e}$ are constant then in an ideal world $a,e, i,  \\Omega, \\omega $ (recall Lecture 5) are all a constant. \n",
    "</br>\n",
    "The motion of a spacecraft around the Earth is much more complex!\n",
    "\n",
    "```{math}\n",
    ":label: L11_3\n",
    "\\ddot{\\mathbf{r}} = -\\frac{\\mu}{r^3} \\mathbf{r} + \\mathbf{p}(\\mathbf{r}, \\dot{\\mathbf{r}}, t)\n",
    "```\n",
    "\n",
    "$\\mathbf{p}$ is a perturbation acceleration\n",
    "\n",
    "\n"
   ]
  },
  {
   "cell_type": "markdown",
   "metadata": {},
   "source": [
    "$\\mathbf{p}$ can occur due to:\n",
    "1. <u>Atmospheric Drag:</u> The interaction of the spacecraft and the Earth's atmosphere\n",
    "2. <u>Solar Radiation:</u> The interaction of the spacecraft with photons emitted from the sun\n",
    "3. <u>Third-body Gravity:</u> Gravitational pull of other bodies (e.g. Sun, Moon, etc.)\n",
    "4. <u>Earth's geopotential:</u> Due to the oblateness of the earth the gravitational field is different from the one generated by a point mass. (we typically assume the earth is a point mass), hence the acceleration is not aligned with $\\mathbf{r}$\n",
    "\n",
    "The magnitude of the perturbations strongly depend on the postion of the spacecraft relative to the celestial bodies in question."
   ]
  },
  {
   "cell_type": "markdown",
   "metadata": {},
   "source": [
    "![Figure 6](images/L11img6.png)\n"
   ]
  },
  {
   "cell_type": "markdown",
   "metadata": {},
   "source": [
    "The above figure shows the relation betweeen the order of magnitude of the perturbation and the distance from the earth's center. "
   ]
  },
  {
   "cell_type": "markdown",
   "metadata": {},
   "source": [
    "1. The <u>J terms</u> are related to the Earth asphericity. $J_2$ describes the Earth's Oblateness. \n",
    "2. <u>Drag</u> is dominant <u>at low altitude</u> (< 800 km) but the magnitude depends on the shape of the spacecraft and solar activity.\n",
    "3. <u>Solar radiation pressure (SRP)</u>: the only <u>constant</u> with altitude.\n",
    "4. <u>At high altitudes the luni-solar perturbations are dominant.</u> \n",
    "\n",
    "- General effect on orbital parameter $x_i$:"
   ]
  },
  {
   "cell_type": "code",
   "execution_count": 1,
   "metadata": {},
   "outputs": [
    {
     "data": {
      "image/png": "[encoded data removed]",
      "text/plain": [
       "<Figure size 1500x300 with 2 Axes>"
      ]
     },
     "metadata": {},
     "output_type": "display_data"
    }
   ],
   "source": [
    "{\n",
    "    \"tags\":[\n",
    "        \"hide-input\",\n",
    "    ]\n",
    "}\n",
    "import numpy as np\n",
    "import matplotlib.pyplot as plt\n",
    "\n",
    "x1  = np.linspace(0, 2.1, num = 100)\n",
    "y1 = np.linspace(10, 10, num = 100)\n",
    "\n",
    "y2 = -7*x1 +20\n",
    "\n",
    "y3 = -2.5*x1**5 + 0.8*x1**4 +10*x1**3 -9.1*x1 +10\n",
    "\n",
    "y4 = -2.5*x1**5 + 0.8*x1**4 +10*x1**3 -9.1*x1 +10 + np.sin(100*x1)\n",
    "\n",
    "fig, (ax1, ax2) = plt.subplots(1, 2, figsize = (15, 3))\n",
    "\n",
    "ax1.set_xlabel('t')\n",
    "ax1.set_ylabel('$x_i$')\n",
    "\n",
    "ax1.set_xticks([])\n",
    "ax1.set_yticks([])\n",
    "ax1.set_title('No perturbations')\n",
    "ax1.plot(x1, y1)\n",
    "\n",
    "ax2.set_xlabel('t')\n",
    "ax2.set_ylabel('$x_i$')\n",
    "ax2.set_xticks([])\n",
    "ax2.set_yticks([])\n",
    "ax2.set_title('Perturbations')\n",
    "ax2. plot(x1, y2, 'r', label = 'secular variation (non-periodic)')\n",
    "ax2. plot(x1, y3, 'g', label = 'long-term variation (period > orbital period)')\n",
    "ax2. plot(x1, y4, 'm', label = 'short term variation (period < orbital period)')\n",
    "ax2.legend()\n",
    "\n",
    "\n",
    "\n",
    "plt.show()"
   ]
  },
  {
   "cell_type": "markdown",
   "metadata": {},
   "source": [
    "The above graphs help to illustrate the effect of _no perturbations_ on the left graph and the effect of _perturbations_ on the right graph on the orbital parameter $x_i$."
   ]
  },
  {
   "cell_type": "markdown",
   "metadata": {},
   "source": [
    "### Effect of perturbations: Examples"
   ]
  },
  {
   "cell_type": "markdown",
   "metadata": {},
   "source": [
    "1. Drag: Force in the orbit plane in the opposite direction of the velocity</br>\n",
    "    ```{math}\n",
    "    :label: L11_4\n",
    "    \\mathbf{F_D} = \\frac{1}{2}\\rho s c_D v \\mathbf{v}\n",
    "    ```\n",
    "    with $\\rho$ as atmospheric density, _s_ as the reference surface, $c_D$ as the drag coefficient. A <u>secular decrease</u> of <u>a</u> and <u>e</u> results in spiralling down towards Earth's surface.\n",
    "\n",
    "2. <u>Earth's Oblateness</u> $J_2$: \n",
    "    - Short term variation of all orbital parameters\n",
    "    - Secular variation of $\\Omega$ and $\\omega$\n",
    "\n",
    "![Figure 7](images/L11img7.png)\n",
    "\n",
    "As seen in the agove figure, the graviational pull is no longer aligned with $\\mathbf{r}$ at the blue arrows.\n",
    "```{math}\n",
    ":label: L11_5\n",
    "\\dot \\Omega =- \\frac{3}{2} \\frac{\\sqrt{\\mu}J_2 R_E}{(1-e^2)^2 a^{7/2}} \\cos {i}\n",
    "```\n",
    "\n",
    "```{math}\n",
    ":label: L11_6\n",
    "\\dot \\omega = -\\frac{3}{2} \\frac{\\sqrt{\\mu}J_2 R_E}{(1-e^2)^2 a^{7/2}} (\\frac{5}{2} \\sin^2{i} -2)\n",
    "```\n",
    "\n",
    "</br>Here $R_E = 6378.14$ km (earth's radius) and $J_2 = 1.082 \\times 10^{-3}$\n",
    "\n",
    "- Secular variation of $\\Omega$ and $\\omega$ due to $J_2$ (as a function of the inclination)\n",
    "\n",
    "</br>\n",
    "\n",
    "The above two equations can be shown further in the diagrams below.\n",
    "![Figure 8](images/L11img8.png)"
   ]
  },
  {
   "cell_type": "markdown",
   "metadata": {},
   "source": [
    "- $\\dot \\Omega < 0$ (clockwise) for $ i < 90^\\circ$\n",
    "- $\\dot \\Omega = 0$ for $i = 90^\\circ$\n",
    "- $\\dot \\Omega > 0$ (counterclockwise) for $i > 90^\\circ$\n",
    "\n",
    "</br>\n",
    "\n",
    "- $\\dot \\omega > 0$ for $ i < 63.4^\\circ$\n",
    "- $\\dot \\omega = 0$ for $i = 63.4^\\circ$\n",
    "- $\\dot \\omega > 0$ for $i > 63.4^\\circ$\n",
    "\n",
    "</br>\n",
    "\n",
    "$i = 63.4^\\circ$ is reffered to as **critical inclination**"
   ]
  }
 ],
 "metadata": {
  "kernelspec": {
   "display_name": "Python 3",
   "language": "python",
   "name": "python3"
  },
  "language_info": {
   "codemirror_mode": {
    "name": "ipython",
    "version": 3
   },
   "file_extension": ".py",
   "mimetype": "text/x-python",
   "name": "python",
   "nbconvert_exporter": "python",
   "pygments_lexer": "ipython3",
   "version": "3.9.13"
  }
 },
 "nbformat": 4,
 "nbformat_minor": 2
}
