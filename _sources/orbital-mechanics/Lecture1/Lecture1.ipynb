{
 "cells": [
  {
   "cell_type": "markdown",
   "id": "a4216ad3",
   "metadata": {},
   "source": [
    "# Vectors (Brief Recap)"
   ]
  },
  {
   "cell_type": "markdown",
   "id": "3b89c26b",
   "metadata": {},
   "source": [
    "Prepared by: [Hardit Saini](https://github.com/Hardit-Saini), [Emmanuel Airiofolo](https://github.com/Emma-airi) and [Angadh Nanjangud](https://www.angadhn.com/)"
   ]
  },
  {
   "cell_type": "markdown",
   "id": "fc07f5e5",
   "metadata": {},
   "source": [
    "In this lecture we cover the following topics:\n",
    "1. [](content:Vector-Operations)\n",
    "2. [](content:Vector-Operations:-Cross-Product-and-Related-Formulas)\n",
    "3. [](content:Time-Derivative-of-a-Vector)\n",
    "4. [](content:Gravitational-Force-and-Newton's-Second-Law)\n",
    "5. [](content:References)"
   ]
  },
  {
   "cell_type": "markdown",
   "id": "78c378e3",
   "metadata": {},
   "source": [
    "- A vector is a quantity with a direction and a magnitude.\n",
    "- $\\vec{\\rm{r}}$, $\\underline{\\rm{r}}$, $\\bf{r}$ are all possible notations for vector quantities.\n",
    "- We describe a vector by its components:\n",
    "  \\\n",
    "  $\\vec{\\rm{r}}$ = $\\rm{r_x} \\hat{\\bf{i}}$ + $\\rm{r_y} \\hat{\\bf{j}}$ + $\\rm{r_z} \\hat{\\bf{k}}$ = ($\\rm{r_x},  \\rm{r_y},  \\rm{r_z}$)\n",
    "  \n",
    "  where $\\hat{\\bf{i}}$, $\\hat{\\bf{j}}$, and $\\hat{\\bf{k}}$ are unit vectors aligned with a triad of orthogonal axes."
   ]
  },
  {
   "cell_type": "markdown",
   "id": "d82deb3d",
   "metadata": {},
   "source": [
    "\n",
    "![Figure 1](images/L1_1.png)"
   ]
  },
  {
   "cell_type": "markdown",
   "id": "09276b8e",
   "metadata": {},
   "source": [
    "- The magnitude is indicated by $\\|\\bf{r}\\|$ or simply by $r$, and\n",
    "\n",
    "```{math}\n",
    ":label: L1_1\n",
    "r = \\sqrt{r_x^2 + r_y^2 + r_z^2}\n",
    "```"
   ]
  },
  {
   "cell_type": "markdown",
   "id": "a5b908be",
   "metadata": {},
   "source": [
    "(content:Vector-Operations)=\n",
    "## Vector Operations"
   ]
  },
  {
   "cell_type": "markdown",
   "id": "c287486a",
   "metadata": {},
   "source": [
    "\n",
    "### Multiplication of a Scalar with a Vector\n",
    "\n",
    "- When a vector $\\bf{A}$ is multiplied by a scalar $\\rm{Q}$, the result is a new vector $\\rm{Q}\\bf{A}$, which has the same direction as $\\bf{A}$ but a magnitude that is $|\\rm{Q}|$ times the magnitude of $\\bf{A}$.\n",
    "\n",
    "```{math}\n",
    ":label: L1_2\n",
    "\\rm{Q} {\\bf{A}} = \\rm{Q} (A_x \\hat{\\bf{i}} + A_y \\hat{\\bf{j}} + A_z \\hat{\\bf{k}}) = (\\rm{Q} A_x) \\hat{\\bf{i}} + (\\rm{Q} A_y) \\hat{\\bf{j}} + (\\rm{Q} A_z) \\hat{\\bf{k}}\n",
    "```\n",
    "\n",
    "- The sum of vectors $\\bf{A}$ and $\\bf{B}$ is a vector $\\bf{C}$ such that:\n",
    "\n",
    "```{math}\n",
    ":label: L1_3\n",
    "\\bf{C} = \\bf{A} + \\bf{B} = (\\rm{A_x} + \\rm{B_x}) \\hat{\\bf{i}} + (\\rm{A_y} + \\rm{B_y}) \\hat{\\bf{j}} + (\\rm{A_z} + \\rm{B_z}) \\hat{\\bf{k}}\n",
    "```\n",
    "\n",
    "- Parallelogram Rule:\n",
    "The sum of two vectors can also be represented geometrically using the parallelogram rule:\n",
    "Place the vectors $\\bf{A}$ and $\\bf{B}$ tail to tail.\n",
    "Draw a parallelogram where $\\bf{A}$ and $\\bf{B}$ are adjacent sides.\n",
    "The interception of the two projected lines represents the point where $\\bf{A}$ is summed with $\\bf{B}$, $\\bf{A} + \\bf{B}$.\n",
    "\n"
   ]
  },
  {
   "cell_type": "markdown",
   "id": "49750afe",
   "metadata": {},
   "source": [
    "\n",
    "![Figure 2](images/L1_2.png)"
   ]
  },
  {
   "cell_type": "markdown",
   "id": "36f084fa",
   "metadata": {},
   "source": [
    "### Dot Product Rule\n",
    "\n",
    "- The dot product (or scalar product) of two vectors $\\bf{A}$ and $\\bf{B}$ is defined as:\n",
    "\n",
    "```{math}\n",
    ":label: L1_4\n",
    "{\\bf{A}} \\cdot {\\bf{B}} = A_x B_x + A_y B_y + A_z B_z\n",
    "```\n",
    "\n",
    "```{math}\n",
    ":label: L1_5\n",
    "{\\bf{A}} \\cdot {\\bf{B}} = {|\\bf{A}|} {|\\bf{B}|} \\cos(\\theta)\n",
    "```\n",
    "\n",
    "- Where $\\theta$ is the angle between $\\bf{A}$ and $\\bf{B}$.\n",
    "\n",
    "If one of the vectors is a unit vector (say, $\\hat{\\bf{B}}$), the dot product gives the projection of $\\bf{A}$ onto $\\hat{\\bf{B}}$:\n",
    "\n",
    "```{math}\n",
    ":label: L1_6\n",
    "{\\bf{A}} \\cdot {\\bf{\\hat{B}}} = {|\\bf{A}|} \\cos(\\theta)\n",
    "```\n",
    "\n",
    "- This is because $|\\hat{\\bf{B}}|$ = 1."
   ]
  },
  {
   "cell_type": "markdown",
   "id": "d711cc78",
   "metadata": {},
   "source": [
    "\n",
    "![Figure 3](images/L1_3.png)"
   ]
  },
  {
   "cell_type": "markdown",
   "id": "538be3fd",
   "metadata": {},
   "source": [
    "(content:Vector-Operations:-Cross-Product-and-Related-Formulas)=\n",
    "## Vector Operations: Cross Product and Related Formulas"
   ]
  },
  {
   "cell_type": "markdown",
   "id": "a2670634",
   "metadata": {},
   "source": [
    "### Cross Product\n",
    "\n",
    "- The cross product of two vectors $\\bf{A}$ and $\\bf{B}$, denoted $\\bf{A} \\times \\bf{B}$, results in a vector $\\bf{C}$ that is perpendicular to both $\\bf{A}$ and $\\bf{B}$.\n",
    "\n",
    "- The magnitude of $\\bf{A} \\times \\bf{B}$ is given by:\n",
    "\n",
    "```{math}\n",
    ":label: L1_7\n",
    "|\\bf{A} \\times \\bf{B}| = |\\bf{A}| |\\bf{B}| \\sin(\\theta)\n",
    "```\n",
    "Where $\\theta$ is the angle between $\\bf{A}$ and $\\bf{B}$.\n",
    "\n",
    "- The direction of $\\bf{A} \\times \\bf{B}$ is determined by the right-hand rule."
   ]
  },
  {
   "cell_type": "markdown",
   "id": "5d6ac6e1",
   "metadata": {},
   "source": [
    "\n",
    "![Figure 4](images/L1_4.jpg)\n",
    "\n",
    "(Cross, 2024)"
   ]
  },
  {
   "cell_type": "markdown",
   "id": "b2729128",
   "metadata": {},
   "source": [
    "```{math}\n",
    ":label: L1_8\n",
    "{\\bf{A}} \\times {\\bf{B}} = \\begin{vmatrix}\n",
    "\\hat{\\bf{i}} & \\hat{\\bf{j}} & \\hat{\\bf{k}} \\\\\n",
    "A_x & A_y & A_z \\\\\n",
    "B_x & B_y & B_z\n",
    "\\end{vmatrix}\n",
    "= \\left( A_y B_z - A_z B_y \\right) \\hat{\\bf{i}} - \\left( A_x B_z - A_z B_x \\right) \\hat{\\bf{j}} + \\left( A_x B_y - A_y B_x \\right) \\hat{\\bf{k}}\n",
    "```\n",
    "\n",
    "Properties of the Cross Product\n",
    "- Anticommutative Property:\n",
    "\n",
    "```{math}\n",
    ":label: L1_9\n",
    "{\\bf{A}} \\times {\\bf{B}} = - ({\\bf{B}} \\times {\\bf{A}})\n",
    "```\n",
    "- Distributive Property:\n",
    "```{math}\n",
    ":label: L1_10\n",
    "{\\bf{A}} \\times ({\\bf{B}} + {\\bf{C}}) = {\\bf{A}} \\times {\\bf{B}} + {\\bf{A}} \\times {\\bf{C}}\n",
    "```\n",
    "- Scalar Multiplication:\n",
    "```{math}\n",
    ":label: L1_11\n",
    "(k {\\bf{A}}) \\times {\\bf{B}} = k ({\\bf{A}} \\times {\\bf{B}}) = {\\bf{A}} \\times (k {\\bf{B}})\n",
    "```\n",
    "- Triple Vector Product involves three vectors $\\bf{A}$, $\\bf{B}$, and $\\bf{C}$:\n",
    "\n",
    "```{math}\n",
    ":label: L1_12\n",
    "{\\bf{A}} \\times ({\\bf{B}} \\times {\\bf{C}}) = ({\\bf{A}} \\cdot {\\bf{C}}) {\\bf{B}} - ({\\bf{A}} \\cdot {\\bf{B}}) {\\bf{C}}\n",
    "```\n",
    "or\n",
    "\n",
    "```{math}\n",
    ":label: L1_13\n",
    "({\\bf{A}} \\times {\\bf{B}}) \\times {\\bf{C}} = ({\\bf{C}} \\cdot {\\bf{B}}) {\\bf{A}} - ({\\bf{C}} \\cdot {\\bf{A}}) {\\bf{B}}\n",
    "```\n",
    "- The Scalar Triple Product of three vectors $\\bf{A}$, $\\bf{B}$, and $\\bf{C}$ is a scalar quantity:\n",
    "\n",
    "```{math}\n",
    ":label: L1_14\n",
    "{\\bf{A}} \\cdot ({\\bf{B}} \\times {\\bf{C}})\n",
    "```\n",
    "This scalar represents the volume of the parallelepiped formed by the vectors $\\bf{A}$, $\\bf{B}$, and $\\bf{C}$."
   ]
  },
  {
   "cell_type": "markdown",
   "id": "8e316946",
   "metadata": {},
   "source": [
    "\n",
    "![Figure 5](images/L1_5.png)\n",
    "\n",
    "Admin (2019)"
   ]
  },
  {
   "cell_type": "markdown",
   "id": "a73fd628",
   "metadata": {},
   "source": [
    "- It can be computed as:\n",
    "```{math}\n",
    ":label: L1_15\n",
    "{\\bf{A}} \\cdot ({\\bf{B}} \\times {\\bf{C}}) = \\begin{vmatrix}\n",
    "A_x & A_y & A_z \\\\\n",
    "B_x & B_y & B_z \\\\\n",
    "C_x & C_y & C_z\n",
    "\\end{vmatrix}\n",
    "```\n",
    "Interesting to note:\n",
    "```{math}\n",
    ":label: L1_16\n",
    "{\\bf{A}} \\cdot ({\\bf{B}} \\times {\\bf{C}}) = {\\bf{B}} \\cdot ({\\bf{C}} \\times {\\bf{A}}) = {\\bf{C}} \\cdot ({\\bf{A}} \\times {\\bf{B}})\n",
    "```"
   ]
  },
  {
   "cell_type": "markdown",
   "id": "d808acdb",
   "metadata": {},
   "source": [
    "(content:Time-Derivative-of-a-Vector)=\n",
    "## Time Derivative of a Vector"
   ]
  },
  {
   "cell_type": "markdown",
   "id": "8effd4a1",
   "metadata": {},
   "source": [
    "- The time derivative of a vector $\\bf{A}$ represents how the vector changes with respect to time.\n",
    "\n",
    "### In an Inertial Reference Frame\n",
    "\n",
    "- The time derivative of a vector $\\bf{r}$ in an inertial reference frame is given by:\n",
    "\n",
    "```{math}\n",
    ":label: L1_17\n",
    "\\frac{d{\\bf{r}}}{dt} = \\frac{d}{dt}(x) {\\hat{\\bf{i}}} + \\frac{d}{dt}(y) {\\hat{\\bf{j}}} + \\frac{d}{dt}(z) {\\hat{\\bf{k}}}\n",
    "```\n",
    "In a Rotating Reference Frame with angular velocity $\\boldsymbol{\\omega}$, the time derivative of the vector $\\bf{r}$ must account for the rotation:\n",
    "\n",
    "```{math}\n",
    ":label: L1_18\n",
    "\\left( \\frac{d{\\bf{r}}}{dt} \\right)_{\\text{inertial}} = \\left( \\frac{d{\\bf{r}}}{dt} \\right)_{\\text{rotating}} + (\\boldsymbol{\\omega} \\times {\\bf{r}})\n",
    "```\n",
    "\n",
    "where:\n",
    "\n",
    "$\\left( \\frac{d{\\bf{r}}}{dt} \\right)_{\\text{rotating}}$ is the time derivative in the rotating frame.\n",
    "\n",
    "$\\left( \\frac{d{\\bf{r}}}{dt} \\right)_{\\text{inertial}}$ is the time derivative in the inertial frame.\n",
    "\n",
    "$\\boldsymbol{\\omega}$ is the angular velocity of the rotating frame.\n",
    "\n",
    "$\\times$ denotes the cross product (see above for more information).\n",
    "\n",
    "This can also be expressed as:\n",
    "\n",
    "```{math}\n",
    ":label: L1_19\n",
    "\\left( \\frac{d{\\bf{r}}}{dt} \\right)_{\\text{rotating}} = \\left( \\frac{d{\\bf{r}}}{dt} \\right)_{\\text{inertial}} - (\\boldsymbol{\\omega} \\times {\\bf{r}})\n",
    "```"
   ]
  },
  {
   "cell_type": "markdown",
   "id": "ffac19d9",
   "metadata": {},
   "source": [
    "(content:Gravitational-Force-and-Newton's-Second-Law)=\n",
    "## Gravitational Force and Newton's Second Law"
   ]
  },
  {
   "cell_type": "markdown",
   "id": "58802450",
   "metadata": {},
   "source": [
    "- The gravitational force between two masses $m_1$ and $m_2$ is given by:\n",
    "\n",
    "### Gravitational Force\n",
    "\n",
    "```{math}\n",
    ":label: L1_20\n",
    "\\begin{aligned}\n",
    "{\\bf{F}}_{12} &= \\frac{G m_1 m_2}{r^2} \\hat{\\bf{r}} = \\frac{G m_1 m_2}{r^3} {\\bf{r}} \\\\\n",
    "{\\bf{F}}_{21} &= -\\frac{G m_1 m_2}{r^2} \\hat{\\bf{r}} = -\\frac{G m_1 m_2}{r^3} {\\bf{r}}\n",
    "\\end{aligned}\n",
    "```\n",
    "where:\n",
    "\n",
    "$G = 6.672 \\times 10^{-11} \\ \\text{kg}^{-1} \\ \\text{m}^3 \\ \\text{s}^{-2}$ (Universal gravitational constant) and\n",
    "$\\hat{\\bf{r}} = \\frac{{\\bf{r}}}{|\\bf{r}|}$ is the unit vector."
   ]
  },
  {
   "cell_type": "markdown",
   "id": "39a68dfd",
   "metadata": {},
   "source": [
    "\n",
    "![Figure 6](images/L1_6.png)"
   ]
  },
  {
   "cell_type": "markdown",
   "id": "e74c0279",
   "metadata": {},
   "source": [
    "- ${\\bf{F}}_{12}$ represents the force on $m_1$ exerted by $m_2$'s gravitational attraction.\n",
    "\n",
    "- ${\\bf{F}}_{21}$ represents the force on $m_2$ exerted by $m_1$'s gravitational attraction.\n",
    "\n",
    "### Center of Mass \\( G \\)\n",
    "The center of mass ${\\bf{r}}_G$ of the system is given by:\n",
    "\n",
    "```{math}\n",
    ":label: L1_21\n",
    "{\\bf{r}}_G = \\frac{m_1 {\\bf{r}}_1 + m_2 {\\bf{r}}_2}{m_1 + m_2}\n",
    "```\n",
    "Newton's Second Law (F = ma)\n",
    "\n",
    "```{math}\n",
    ":label: L1_22\n",
    "m_1 \\ddot{\\bf{r}}_1 = {\\bf{F}}_{12}\n",
    "```\n",
    "\n",
    "```{math}\n",
    ":label: L1_23\n",
    "m_2 \\ddot{\\bf{r}}_2 = {\\bf{F}}_{21}\n",
    "```\n",
    "Substituting {eq}`L6_1` into equations {eq}`L7_2` + {eq}`L7_3`:\n",
    "\n",
    "```{math}\n",
    ":label: L1_24\n",
    "m_1 \\ddot{\\bf{r}}_1 + m_2 \\ddot{\\bf{r}}_2 = {\\bf{F}}_{12} + {\\bf{F}}_{21} = \\frac{G m_1 m_2 {\\bf{r}}}{r^3} - \\frac{G m_1 m_2 {\\bf{r}}}{r^3} = 0 \n",
    "```\n",
    "Thus:\n",
    "\n",
    "```{math}\n",
    ":label: L1_25\n",
    "\\ddot{\\bf{r}}_G = 0, \\quad \\dot{\\bf{r}}_G = \\text{constant}\n",
    "```\n",
    "This implies that $G$ can be chosen as the origin of the inertial frame."
   ]
  },
  {
   "cell_type": "markdown",
   "id": "7ee79807",
   "metadata": {},
   "source": [
    "### Two-Body Relative Dynamics\n",
    "\n",
    "#### Newton's Second Law\n",
    "\n",
    "```{math}\n",
    ":label: L1_26\n",
    "m_2 \\ddot{\\bf{r}}_2 = {\\bf{F}}_{21} = - \\frac{G m_1 m_2 {\\bf{r}}}{r^3} \\rightarrow \\ddot{\\bf{r}}_2 = - \\frac{G m_1 {\\bf{r}}}{r^3}\n",
    "```\n",
    "\n",
    "```{math}\n",
    ":label: L1_27\n",
    "m_1 \\ddot{\\bf{r}}_1 = {\\bf{F}}_{12} = \\frac{G m_1 m_2 {\\bf{r}}}{r^3} \\rightarrow \\ddot{\\bf{r}}_1 = \\frac{G m_2 {\\bf{r}}}{r^3}\n",
    "```\n",
    "\n",
    "{Eq}`L8_1` - {Eq}`L8_2`:\n",
    "\n",
    "```{math}\n",
    ":label: L1_28\n",
    "\\ddot{\\bf{r}} = \\ddot{\\bf{r}}_2 - \\ddot{\\bf{r}}_1 = - \\frac{G m_1 {\\bf{r}}}{r^3} - \\frac{G m_2 {\\bf{r}}}{r^3} = - \\frac{G (m_1 + m_2) {\\bf{r}}}{r^3}\n",
    "```\n",
    "\n",
    "```{math}\n",
    ":label: L1_29\n",
    "\\ddot{\\bf{r}} = - \\frac{G (m_1 + m_2)}{r^3} {\\bf{r}}\n",
    "```\n",
    "\n",
    "```{math}\n",
    ":label: L1_30\n",
    "\\ddot{\\bf{r}} = - \\frac{\\mu {\\bf{r}}}{r^3}\n",
    "```\n",
    "where $\\mu$ is the gravitational parameter.\n",
    "\n",
    "Implications of the Equation of Motion\n",
    "If $m_1 \\gg m_2$\n",
    "\n",
    "e.g., $m_1$ is $m_\\oplus = 5.974 \\times 10^{24} \\ \\text{kg}$ and $m_2$ is a spacecraft, $m_2 \\approx 1000 \\ \\text{kg}$\n",
    "\n",
    "```{math}\n",
    ":label: L1_31\n",
    "{\\bf{r}}_G \\approx {\\bf{r}}_1\n",
    "```\n",
    "\n",
    "```{math}\n",
    ":label: L1_32\n",
    "\\mu \\approx G m_1\n",
    "```\n",
    "This is referred to as a restricted two-body problem."
   ]
  },
  {
   "cell_type": "markdown",
   "id": "6e2ca3db",
   "metadata": {},
   "source": [
    "(content:References)=\n",
    "# References"
   ]
  },
  {
   "cell_type": "markdown",
   "id": "6272555b",
   "metadata": {},
   "source": [
    "\n",
    "Admin (2019). Parallelepiped- Definition, Volume and Area Formula, Example. [online] BYJUS. Available at: https://byjus.com/maths/parallelepiped/ [Accessed 2 Sep. 2024].\n",
    "\n",
    "Cross (2024). Cross Product & Right Hand Rule | Formula, Applications & Example - Video | Study.com. [online] study.com. Available at: https://study.com/academy/lesson/video/cross-product-right-hand-rule-definition-formula-examples.html [Accessed 2 Sep. 2024].\n",
    "\n"
   ]
  },
  {
   "cell_type": "code",
   "execution_count": null,
   "id": "a148d124",
   "metadata": {},
   "outputs": [],
   "source": []
  }
 ],
 "metadata": {
  "kernelspec": {
   "display_name": "Python 3 (ipykernel)",
   "language": "python",
   "name": "python3"
  },
  "language_info": {
   "codemirror_mode": {
    "name": "ipython",
    "version": 3
   },
   "file_extension": ".py",
   "mimetype": "text/x-python",
   "name": "python",
   "nbconvert_exporter": "python",
   "pygments_lexer": "ipython3",
   "version": "3.11.5"
  }
 },
 "nbformat": 4,
 "nbformat_minor": 5
}
