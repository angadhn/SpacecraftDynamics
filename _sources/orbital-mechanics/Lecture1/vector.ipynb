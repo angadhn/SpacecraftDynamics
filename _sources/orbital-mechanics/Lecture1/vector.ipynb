{
 "cells": [
  {
   "cell_type": "markdown",
   "id": "afd55655",
   "metadata": {},
   "source": [
    "(content:fundamentals)=\n",
    "## Fundamental concepts"
   ]
  },
  {
   "cell_type": "markdown",
   "id": "979d7948",
   "metadata": {},
   "source": [
    "The following definitions are used in kinematics:\n",
    "\n",
    "1. **Particles**: Objects that can be modeled as point masses, having negligible dimension.\n",
    "2. **Point**: A massless particle.\n",
    "3. **Rigid bodies**: These are objects that have some predefined constant shape and a mass. The distances between all points of a rigid body remain constant for all time, even when a force is applied to them. Also, these objects do not deform when a force is applied to them.\n",
    "4. **Reference frame**: Essentially, these frames serve as a reference with respect to which an analyst chooses to observe and measure the motion of other objects. Reference frames can be thought of as massless rigid bodies, thus they are the analog of what a point is to a particle. As you will come to infer (or may already know from other readings), this also implies that the mass moment of inertia is zero for massless bodies. \n",
    "\n",
    "```{figure} ./images/2.png\n",
    "---\n",
    "name: 2\n",
    "---\n",
    "```\n",
    "```{attention}\n",
    "In rigid body kinematics, we aim to mathematically describe the motion of $B$ and $P$ in $R$.\n",
    "```\n",
    "\n",
    "- This requires pre-requisite knowledge on:<br>\n",
    "    (i) **vectors**: unit vector, general vector, component form<br>\n",
    "    (ii) **vector algebra**: addition of vectors and multiplication of vectors<br>\n",
    "    (iii) **vector calculus**: vector differentiation<br>\n",
    "    \n",
    "Topics (i) and (ii) above are revisited in the following YouTube playlists, which I recommend watching.\n",
    "```{warning}\n",
    "The below is a **playlist comprising eleven videos**. They should automatically play one after another.\n",
    "<iframe width=\"656\" height=\"551\" src=\"https://www.youtube.com/embed/dd-PXs9bKH4?list=PLiZ4Kv-hA48VTFBQSCBFi542T6KChtX65\" title=\"YouTube video player\" frameborder=\"0\" allow=\"accelerometer; autoplay; clipboard-write; encrypted-media; gyroscope; picture-in-picture\" allowfullscreen></iframe>\n",
    "```\n",
    "```{warning}\n",
    "The below is a **playlist comprising two videos**. They should automatically play one after another.\n",
    "<iframe width=\"656\" height=\"551\" src=\"https://www.youtube.com/embed/7LyPdUVZuho?list=PLiZ4Kv-hA48VngnZnGzn17dmZjgEgnUXa\" title=\"YouTube video player\" frameborder=\"0\" allow=\"accelerometer; autoplay; clipboard-write; encrypted-media; gyroscope; picture-in-picture\" allowfullscreen></iframe>\n",
    "```"
   ]
  }
 ],
 "metadata": {
  "kernelspec": {
   "display_name": "Python 3 (ipykernel)",
   "language": "python",
   "name": "python3"
  },
  "language_info": {
   "codemirror_mode": {
    "name": "ipython",
    "version": 3
   },
   "file_extension": ".py",
   "mimetype": "text/x-python",
   "name": "python",
   "nbconvert_exporter": "python",
   "pygments_lexer": "ipython3",
   "version": "3.8.11"
  }
 },
 "nbformat": 4,
 "nbformat_minor": 5
}
