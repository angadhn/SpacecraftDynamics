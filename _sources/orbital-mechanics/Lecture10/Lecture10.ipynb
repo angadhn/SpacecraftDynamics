{
 "cells": [
  {
   "cell_type": "markdown",
   "id": "d957a0cc",
   "metadata": {},
   "source": [
    "# Time, Calendars and Launch Windows\n",
    "Prepared by: [Hardit Saini](https://github.com/Hardit-Saini), [Emmanuel Airiofolo](https://github.com/Emma-airi), [Ilanthiraiyan Sivagnanamoorthy](https://github.com/thedukeofeelam) and [Angadh Nanjangud](https://www.angadhn.com/)"
   ]
  },
  {
   "cell_type": "markdown",
   "id": "c38d4d40",
   "metadata": {},
   "source": [
    "In this lecture we cover the following topics:\n",
    "1. [](content:Sidereal-Time)\n",
    "2. [](content:Calendars)\n",
    "3. [](content:Launch-Windows)"
   ]
  },
  {
   "cell_type": "markdown",
   "id": "ca05af15",
   "metadata": {},
   "source": [
    "---\n",
    "(content:Sidereal-Time)=\n",
    "## Sidereal Time\n",
    "---"
   ]
  },
  {
   "cell_type": "markdown",
   "id": "30d4c85d",
   "metadata": {},
   "source": [
    "- **Local apparent sidereal time** (Abbreviated **LAST** or **LST**): time measure based on the hour angle of $\\gamma$.\n",
    "- **Sidereal day**: the interval between two successive returns of $\\gamma$ to the same local meridian."
   ]
  },
  {
   "cell_type": "markdown",
   "id": "a25fc4c1",
   "metadata": {},
   "source": [
    " ![Figure 1](Images/L10_1.png)"
   ]
  },
  {
   "cell_type": "markdown",
   "id": "707a3a07",
   "metadata": {},
   "source": [
    "```{math}\n",
    ":label: L10_1\n",
    "\\text{LAST} = 30^\\circ = \\frac{30^\\circ}{360^\\circ} \\times 24 \\ \\text{Hours} = 2 \\ \\text{Hours}\n",
    "```\n",
    "\n",
    "**LAST** coincides with the right ascension of the observer $\\alpha_\\Sigma$, hence;\n",
    "\n",
    "```{math}\n",
    ":label: L10_2\n",
    "\\text{LAST} = \\alpha_\\Sigma\n",
    "```\n",
    "\n",
    "**Note**: The sidereal time is measured with respect to a fixed direction, thus it is more useful for computing the time passage of spacecraft, whose orbits are defined with respect to the same fixed direction."
   ]
  },
  {
   "cell_type": "markdown",
   "id": "668b2b1f",
   "metadata": {},
   "source": [
    "### Solar Day vs Sidereal Day"
   ]
  },
  {
   "cell_type": "markdown",
   "id": "80570123",
   "metadata": {},
   "source": [
    " ![Figure 2](Images/L10_2.png)"
   ]
  },
  {
   "cell_type": "markdown",
   "id": "050e8fc2",
   "metadata": {},
   "source": [
    "Sidereal Day $T_\\gamma = \\frac{2 \\pi}{\\omega_e}$, with $\\omega_e$ the angular velocity of the Earth.\n",
    "\n",
    "Solar Day $T_{\\circledcirc} = \\frac{2 \\pi + \\theta}{\\omega_e}$\n",
    "\n",
    "**Note**:\n",
    "\n",
    "```{math}\n",
    ":label: L10_3\n",
    "T_{\\circledcirc} = \\frac{2 \\pi + \\theta}{\\omega_e} = T_\\gamma + \\frac{\\theta}{\\omega_e}\n",
    "```\n",
    "Hence, $T_{\\circledcirc} > T_\\gamma$.\n",
    "\n",
    "$\\theta$ is the angle swept by the Earth in one solar day, thus $\\theta = \\frac{2 \\pi}{Y}$ with $Y$ the number of solar days in a year ($Y = 365.256$ days).\n",
    "\n",
    "```{math}\n",
    ":label: L10_4\n",
    "T_{\\circledcirc} = T_\\gamma + \\frac{2 \\pi}{Y\\omega_e} = T_\\gamma + \\frac{T_\\gamma}{Y} = T_\\gamma \\left(1 + \\frac{1}{Y}\\right)\n",
    "```\n",
    "\n",
    "Hence:\n",
    "\n",
    "```{math}\n",
    ":label: L10_5\n",
    "Y T_{\\circledcirc} = (Y + 1)T_\\gamma\n",
    "```\n",
    "\n",
    "There are $Y + 1$ sidereal days in 1 year.\n",
    "\n",
    "$T_{\\circledcirc}$ = 24 hr $\\implies T_\\gamma$ = 23 hr, 56 min, 4 sec.\n"
   ]
  },
  {
   "cell_type": "markdown",
   "id": "369f9b97",
   "metadata": {},
   "source": [
    "---\n",
    "(content:Calendars)=\n",
    "## Calendars\n",
    "---"
   ]
  },
  {
   "cell_type": "markdown",
   "id": "ece5b8be",
   "metadata": {},
   "source": [
    "#### Tropical year: \n",
    "Interval between two successive passages of the Sun to $\\delta$.\n",
    "\n",
    "```{math}\n",
    ":label: L10_6\n",
    "1 \\ \\text{tropical year} = 365.2422 \\ \\text{solar days} \\ (\\text{Laskar 1986})\n",
    "```\n",
    "or:\n",
    "\n",
    "```{math}\n",
    ":label: L10_7\n",
    "1 \\ \\text{tropical year} = 365.2422 \\ \\text{sidereal days}\n",
    "```\n",
    "\n",
    "#### Sidereal year: \n",
    "Interval between two successive passages of the Sun to a reference star.\n",
    "\n",
    "**Note**: Due to the precession of the equinoxes, the tropical year is shorter than the sidereal year; $\\gamma$ moves clockwise."
   ]
  },
  {
   "cell_type": "markdown",
   "id": "20116edb",
   "metadata": {},
   "source": [
    "### Julian Calendar (46 BC)\n",
    "- 12 months, regular year of 365 days, with a leap day added in February every 4 years.\n",
    "  - It was estimated that a tropical year consisted of 365.25 solar days.\n",
    "    To avoid a drift between the Julian calendar and the tropical year, 1 day was added every 4 years.\n",
    "\n",
    "### Gregorian Calendar (1582 AD)\n",
    "- 12 months, regular year of 365 days, with a leap day added to February every 4 years except for secular years (e.g., 1700). The leap day is added to secular years that are multiples of 400 (e.g., 2000).\n",
    "  - It was estimated that a tropical year consisted of 365.2425 days, thus the Julian year accumulates a 3-day difference every 4 centuries with respect to equinox time.\n",
    "\n",
    "**PROBLEM**: Gregorian date yyyy/mm/dd hh:mm:ss is not practical for computations!\n",
    "\n",
    "### Julian Day\n",
    "- Progressive number of days since noon, 1 January 4713 BC. For example:\n",
    "\n",
    "```{math}\n",
    "2016/11/08 \\quad 12:00:00 \\quad \\rightarrow \\quad 2457692.0 \\ \\text{JD}\n",
    "```\n",
    "\n",
    "- To work with smaller numbers, Modified Julian date is used: \n",
    "\n",
    "```{math}\n",
    ":label: L10_8\n",
    "\\text{MJD} = \\text{JD} - \\text{ref}\n",
    "```\n",
    "\n",
    "```{math}\n",
    "\\text{MJD} 2000 = \\text{JD} - 2451545.5 \\quad \\text{(Now the reference is at midnight)}\n",
    "```"
   ]
  },
  {
   "cell_type": "markdown",
   "id": "9fddde37",
   "metadata": {},
   "source": [
    "---\n",
    "(content:Launch-Windows)=\n",
    "## Launch Windows\n",
    "---\n"
   ]
  },
  {
   "cell_type": "markdown",
   "id": "83728f74",
   "metadata": {},
   "source": [
    "- The launch window is the time when the launch site on the surface of the Earth passes through the orbital plane.\n",
    "- Determination of launch time (sidereal time) and launch direction."
   ]
  },
  {
   "cell_type": "markdown",
   "id": "a1780ee7",
   "metadata": {},
   "source": [
    " ![Figure 3](Images/L10_3.png)"
   ]
  },
  {
   "cell_type": "markdown",
   "id": "77f51ba4",
   "metadata": {},
   "source": [
    "- The launch site must pass through the orbit, thus three conditions:\n",
    "  1. No launch window: \n",
    "  $\n",
    "  \\phi > i \\quad \\text{or} \\quad \\phi > 180^\\circ - i \\quad \\text{(retrograde)}\n",
    "  $\n",
    "  2. One launch window:\n",
    "  $\n",
    "  \\phi = i \\quad \\text{or} \\quad \\phi = 180^\\circ - i \\quad \\text{(retrograde)}\n",
    "  $\n",
    "  3. Two launch windows:\n",
    "  $\n",
    "  \\phi < i \\quad \\text{or} \\quad \\phi < 180^\\circ - i \\quad \\text{(retrograde)}\n",
    "  $"
   ]
  },
  {
   "cell_type": "markdown",
   "id": "aeba03c6",
   "metadata": {},
   "source": [
    " ![Figure 4](Images/L10_4.png)"
   ]
  },
  {
   "cell_type": "markdown",
   "id": "c10eb514",
   "metadata": {},
   "source": [
    "$\n",
    "\\text{NOTE: when } \\phi = i, \\text{ LAUNCH DUE EAST, we fully exploit the velocity of the launch site!}\n",
    "$\n",
    "\n",
    "**Given Data:**\n",
    "\n",
    "$i$ is the orbit inclination.\n",
    "\n",
    "$\\phi$ is the launch site latitude.\n",
    "\n",
    "**To be computed:**\n",
    "\n",
    "$\\delta$  is the window location angle. \n",
    "\n",
    "$\\alpha$  is the direction auxiliary angle. \n",
    "\n",
    "$\\beta$  is the launch azimuth: the angle from the north to the launch direction, positive clockwise.\n",
    "\n",
    "\n",
    "$\\text{NOTE: launch sites have constraints on launch azimuth}$."
   ]
  },
  {
   "cell_type": "markdown",
   "id": "b53a32b8",
   "metadata": {},
   "source": [
    "### Right Spherical Triangle Formulae"
   ]
  },
  {
   "cell_type": "markdown",
   "id": "db77ddff",
   "metadata": {},
   "source": [
    " ![Figure 5](Images/L10_5.png)"
   ]
  },
  {
   "cell_type": "markdown",
   "id": "dd4bf097",
   "metadata": {},
   "source": [
    "### Launch Window: Prograde Orbit (i < $90^\\circ$) and Northern Hemisphere"
   ]
  },
  {
   "cell_type": "markdown",
   "id": "750dc1b3",
   "metadata": {},
   "source": [
    " ![Figure 6](Images/L10_6.png)"
   ]
  },
  {
   "cell_type": "markdown",
   "id": "ed5cc0fe",
   "metadata": {},
   "source": [
    "```{math}\n",
    ":label: L10_9\n",
    "\\sin \\gamma = \\frac{\\cos i}{\\cos \\phi}\n",
    "```\n",
    "\n",
    "```{math}\n",
    ":label: L10_10\n",
    "\\sin \\delta = \\frac{\\tan \\phi}{\\tan i} \\quad \\text{or} \\quad (\\cos \\delta = \\frac{\\cos \\gamma}{\\sin i})\n",
    "```\n",
    "\n",
    "**① Ascending Node**:\n",
    "\n",
    "```{math}\n",
    ":label: L10_11\n",
    "\\beta = \\delta\n",
    "```\n",
    "\n",
    "```{math}\n",
    ":label: L10_12\n",
    "\\text{LST}_{\\text{launch}} = \\Omega + \\delta\n",
    "```\n",
    "\n",
    "**② Descending Node**:\n",
    "\n",
    "```{math}\n",
    ":label: L10_13\n",
    "\\beta = 180^\\circ - \\gamma\n",
    "```\n",
    "\n",
    "```{math}\n",
    ":label: L10_14\n",
    "\\text{LST}_{\\text{launch}} = \\Omega + 180^\\circ - \\delta\n",
    "```\n",
    "\n",
    "**Note from {eq}`L10_9`:**\n",
    "\n",
    "```{math}\n",
    ":label: L10_15\n",
    "\\cos (i) = \\sin \\gamma \\cos \\phi \\implies \\boxed{\\phi \\leq i}\n",
    "```\n",
    "\n",
    "```{math}\n",
    ":label: L10_16\n",
    "(\\sin (\\gamma) \\geq 1 \\implies \\cos (i) \\leq \\cos (\\phi))\n",
    "```\n",
    "\n",
    "A closer look at $\\boxed{\\phi \\leq i} $ suggests:\n",
    "\n",
    "a. The latitude of launch site must be less than orbit inclination for a direct launch.\n",
    "\n",
    "b. Equatorial orbit only from equatorial launch sites.\n",
    "\n",
    "c. When $ \\phi = i $, launch due East: optimal condition!\n"
   ]
  },
  {
   "cell_type": "markdown",
   "id": "6c62bd30",
   "metadata": {},
   "source": [
    "#### Launch Window: Retrograde Orbit $( i \\geq 90^\\circ )$ and Northern Hemisphere"
   ]
  },
  {
   "cell_type": "markdown",
   "id": "4545733a",
   "metadata": {},
   "source": [
    " ![Figure 7](Images/L10_7.png)"
   ]
  },
  {
   "cell_type": "markdown",
   "id": "5b004a5a",
   "metadata": {},
   "source": [
    "\n",
    "```{math}\n",
    ":label: L10_17\n",
    "\\sin \\gamma = \\frac{\\cos (180^\\circ - i)}{\\cos \\phi} = \\frac{-\\cos i}{ \\cos \\phi}\n",
    "```\n",
    "\n",
    "\n",
    "```{math}\n",
    ":label: L10_18\n",
    "\\sin \\delta = \\frac{\\tan \\phi}{\\tan (180^\\circ - i)} = \\frac{-\\tan \\phi}{\\tan i}\n",
    "```\n",
    "\n",
    "**① Ascending Node**:\n",
    "```{math}\n",
    ":label: L10_19\n",
    "\\beta = 360^\\circ - \\gamma\n",
    "```\n",
    "\n",
    "```{math}\n",
    ":label: L10_20\n",
    "\\text{LST}_{\\text{launch}} = \\Omega - \\delta\n",
    "```\n",
    "\n",
    "**② Descending Node**:\n",
    "\n",
    "```{math}\n",
    ":label: L10_21\n",
    "\\beta = 180^\\circ + \\delta\n",
    "```\n",
    "\n",
    "```{math}\n",
    ":label: L10_22\n",
    "\\text{LST}_{\\text{launch}} = \\Omega + 180^\\circ + \\delta\n",
    "```"
   ]
  },
  {
   "cell_type": "markdown",
   "id": "77d3e51e",
   "metadata": {},
   "source": [
    "### Launch Window: From Southern Hemisphere"
   ]
  },
  {
   "cell_type": "markdown",
   "id": "e806e93a",
   "metadata": {},
   "source": [
    " ![Figure 8](Images/L10_8.png)"
   ]
  },
  {
   "cell_type": "markdown",
   "id": "edfb226a",
   "metadata": {},
   "source": [
    "- The launch azimuth is the same as the northern hemisphere.\n",
    "- $\\text{LST}_{\\text{launch}}$ is different."
   ]
  },
  {
   "cell_type": "markdown",
   "id": "a6265c91",
   "metadata": {},
   "source": [
    "**Example: Ascending Node**:"
   ]
  },
  {
   "cell_type": "markdown",
   "id": "94cbb146",
   "metadata": {},
   "source": [
    " ![Figure 9](Images/L10_9.png)"
   ]
  },
  {
   "cell_type": "markdown",
   "id": "473445bf",
   "metadata": {},
   "source": [
    "```{math}\n",
    ":label: L10_23\n",
    "\\text{LST}_{\\text{launch}}^{\\text{North}} = \\Omega + \\delta\n",
    "```\n",
    "\n",
    "```{math}\n",
    ":label: L10_24\n",
    "\\text{LST}_{\\text{launch}}^{\\text{South}} = \\Omega - \\delta\n",
    "```"
   ]
  },
  {
   "cell_type": "code",
   "execution_count": null,
   "id": "aa4efedd",
   "metadata": {},
   "outputs": [],
   "source": []
  }
 ],
 "metadata": {
  "kernelspec": {
   "display_name": "Python 3 (ipykernel)",
   "language": "python",
   "name": "python3"
  },
  "language_info": {
   "codemirror_mode": {
    "name": "ipython",
    "version": 3
   },
   "file_extension": ".py",
   "mimetype": "text/x-python",
   "name": "python",
   "nbconvert_exporter": "python",
   "pygments_lexer": "ipython3",
   "version": "3.11.5"
  }
 },
 "nbformat": 4,
 "nbformat_minor": 5
}
