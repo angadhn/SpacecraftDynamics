{
 "cells": [
  {
   "cell_type": "markdown",
   "id": "e7316f76-2dbe-47c4-9207-4ff1aef713f2",
   "metadata": {},
   "source": [
    "# Orbital Elements\n",
    "_Prepared by:_ [Ilanthiraiyan Sivagnanamoorthy](https://github.com/thedukeofeelam), [Joost Hubbard](https://github.com/Joosty), and [Angadh Nanjangud](https://www.angadhn.com/)"
   ]
  },
  {
   "cell_type": "markdown",
   "id": "2f8a274f-c1cc-40f0-bea3-c45cb5d3ab32",
   "metadata": {},
   "source": [
    "In this lecture we aim to cover the following topics:\n",
    "1. [](content:determination-of-velocity-component)\n",
    "2. [](content:the-perifocal-frame)\n",
    "3. [](content:the-eci-reference-frame)\n",
    "4. [](content:classical-orbital-parameters)"
   ]
  },
  {
   "cell_type": "markdown",
   "id": "bf448aa2-61fc-48c7-b738-602239def029",
   "metadata": {},
   "source": [
    "(content:determination-of-velocity-component)=\n",
    "## Determination of Velocity Component"
   ]
  },
  {
   "cell_type": "markdown",
   "id": "9032b393-f924-4004-82ac-308140aad456",
   "metadata": {},
   "source": [
    "In polar coordinates, the velocity vector is expressed as:\n",
    "```{math}\n",
    ":label: L5_1\n",
    "\\mathbf{v} = \\dot{\\mathbf{r}} = v_r \\mathbf{e}_r + v_\\theta \\mathbf{e}_\\theta = \\dot{r} \\mathbf{e}_r + r \\dot{\\theta} \\mathbf{e}_\\theta\n",
    "```\n",
    "\n",
    "Recalling the **equation of the orbit** based on the semi-latus rectum ($p$) is:\n",
    "```{math}\n",
    ":label: L5_2\n",
    "r = \\frac{p}{1 + e \\cos \\left(\\theta\\right)}\n",
    "```\n",
    "\n",
    "To find its derivative, we first differentiate $r$ with respect to $\\theta$ and then multiply by $\\dot \\theta$ (using the the chain rule):\n",
    "```{math}\n",
    "\\dot{r} = \\frac{dr}{dt} = \\frac{dr}{d\\theta} \\frac{d\\theta}{dt}\n",
    "```\n",
    "\n",
    "To differentiate $r$ with respect to $\\theta$, we substitute $u= 1 + e \\cos (\\theta)$, so $r$ becomes: \n",
    "```{math}\n",
    "r = \\frac{p}{u}\n",
    "```\n",
    "\n",
    "Applying chain rule:\n",
    "```{math}\n",
    "\\frac{dr}{d\\theta} = \\frac{dr}{du} \\frac{du}{d\\theta}\n",
    "```\n",
    "```{math}\n",
    "\\frac{dr}{du} = \\frac{-p}{u^2}\n",
    "```\n",
    "```{math}\n",
    "\\frac{du}{d\\theta} = -e \\sin(\\theta)\n",
    "```\n",
    "```{math}\n",
    "\\frac{dr}{d\\theta} = \\left[\\frac{-p}{u^2}\\right] \\left[-e \\sin(\\theta)\\right]\n",
    "```\n",
    "Substituting back $u = 1 + e \\cos \\left(\\theta\\right)$: \n",
    "```{math}\n",
    "\\frac{dr}{d\\theta} = \\left[\\frac{-p}{\\left(1 + e \\cos \\left(\\theta\\right)\\right)^2}\\right] \\left[-e \\sin \\left(\\theta\\right)\\right] = \\frac{pe \\sin \\left(\\theta\\right)}{\\left(1 + e \\cos \\left(\\theta\\right)\\right)^2}\n",
    "```\n",
    "This results in the following derivative of Equation {eq}`L5_2`:\n",
    "```{math}\n",
    ":label: L5_3\n",
    "\\dot{r} = \\frac{pe \\sin \\left(\\theta\\right)}{\\left(1 + e \\cos \\left(\\theta\\right)\\right)^2} \\dot{\\theta}\n",
    "```\n",
    "\n",
    "By substituting Equation {eq}`L5_2` into {eq}`L5_3`, \n",
    "```{math}\n",
    ":label: L5_4\n",
    "\\dot{r} = \\frac{r^2 \\dot{\\theta}}{p} e \\sin \\left(\\theta\\right)\n",
    "```\n",
    "\n",
    "Since $h = r^2\\dot\\theta$ and $p = h^2/\\mu$, the above can be expressed as:\n",
    "```{math}\n",
    ":label: L5_5\n",
    "\\dot{r} = \\frac{h}{\\frac{h^2}{\\mu}} e \\sin \\left(\\theta\\right) = \\frac{\\mu}{h} e \\sin \\left(\\theta\\right)\n",
    "```\n",
    "\n",
    "From Equation {eq}`L5_1`, the radial component of velocity is simply $\\dot r$:\n",
    "```{math}\n",
    ":label: L5_6\n",
    "v_r = \\dot{r} = \\frac{\\mu}{h} e \\sin \\left(\\theta\\right)\n",
    "```\n",
    "\n",
    "Likewise, the tangential component is simply $r \\dot{\\theta}$ and since $h = r^2 \\dot{\\theta}$:\n",
    "```{math}\n",
    ":label: L5_7\n",
    "v_\\theta = r \\dot{\\theta} = \\frac{h}{r} = \\frac{h \\left(1 + e \\cos \\left(\\theta\\right)\\right)}{h^2 / \\mu} = \\frac{\\mu}{h} \\left(1 + e \\cos \\left(\\theta\\right)\\right)\n",
    "```\n",
    "\n",
    "**Note:** These derivations are valid for all $e$, not only for ellipses. "
   ]
  },
  {
   "cell_type": "markdown",
   "id": "cc047c1d",
   "metadata": {},
   "source": [
    "### Flight Path Angle"
   ]
  },
  {
   "cell_type": "markdown",
   "id": "6bc05e6d",
   "metadata": {},
   "source": [
    "```{figure} ./images/L5fig1.png\n",
    "---\n",
    "width: 50%\n",
    "align: center\n",
    "name: fig1\n",
    "---\n",
    "**Figure 1:** Illustration of an orbital path in polar coordinates showing the radial and tangential components of velocity.\n",
    "```"
   ]
  },
  {
   "cell_type": "markdown",
   "id": "2d14c653",
   "metadata": {},
   "source": [
    "In the above figure, the angle marked $\\gamma$ is the **flight path angle**; the angle between the tangential component and the resultant velocity vector. A trigonometric relationship for the flight path angle can be expressed as follows:\n",
    "\n",
    "```{math}\n",
    ":label: L5_8\n",
    "\\tan \\left(\\gamma\\right) = \\frac{v_r}{v_\\theta}\n",
    "```\n",
    "\n",
    "By substituting Equations {eq}`L5_6` and {eq}`L5_7` for $v_r$ and $v_\\theta$ respectively and simplifying, we obtain: \n",
    "```{math}\n",
    ":label: L5_9\n",
    "\\tan \\left(\\gamma\\right) = \\frac{e \\sin \\left(\\theta\\right)}{1 + \\cos \\left(\\theta\\right)}\n",
    "```"
   ]
  },
  {
   "cell_type": "markdown",
   "id": "24bbaec5",
   "metadata": {},
   "source": [
    "**Additionally,** \n",
    "1. Tangential Component, $v_\\theta$\n",
    "    - $v_\\theta >= 0$ \n",
    "    - $v_\\theta$ is at its maximum when $\\theta = 0^\\circ$ (perigee)\n",
    "    - $v_\\theta$ is at its minimum when $\\theta = 180^\\circ$ (apogee)\n",
    "\n",
    "2. Radial Component, $v_r$\n",
    "    - $v_r >= 0$ when $0^\\circ <= \\theta <= 180^\\circ$\n",
    "    - $v_r < 0$ when $180^\\circ < \\theta < 360^\\circ$ \n",
    "    - $v_r = 0$ at $\\theta = 0^\\circ$ (perigee) and $\\theta = 180^\\circ$ (apogee). At these points, the motion is purely tangential. "
   ]
  },
  {
   "cell_type": "markdown",
   "id": "d224760e",
   "metadata": {},
   "source": [
    "(content:the-perifocal-frame)=\n",
    "## The Perifocal Frame"
   ]
  },
  {
   "cell_type": "markdown",
   "id": "008a2d3c",
   "metadata": {},
   "source": [
    "The unit vectors ($\\mathbf{\\hat{e}}_r$, $\\mathbf{\\hat{e}}_\\theta$) in the polar coordinate system change along the orbital path, varying from point to point. To establish a more stable reference frame, we can create a new inertial perifocal frame using three mutually perpendicular vectors that remain fixed relative to the orbital path. \n",
    "\n",
    "**Recall:**\n",
    "- The specific angular momentum vector ($\\mathbf{h}$) is a constant and is orthogonal to the plane of motion (i.e., pointing out of the plane). \n",
    "- The eccentricity vector ($\\mathbf{e}$) is in the plane of motion and in the direction of perigee. "
   ]
  },
  {
   "cell_type": "markdown",
   "id": "e0e78e9e",
   "metadata": {},
   "source": [
    "```{figure} ./images/L5fig2.png\n",
    "---\n",
    "width: 50%\n",
    "align: center\n",
    "name: fig1\n",
    "---\n",
    "Illustration of an elliptical orbit with the perifocal reference frame.\n",
    "```"
   ]
  },
  {
   "cell_type": "markdown",
   "id": "7510f02b",
   "metadata": {},
   "source": [
    "**Creating the Perifocal Frame:**\n",
    "\n",
    "The following three vectors form a fixed, inertial reference frame, centered at the focus of the orbit:\n",
    "1. The first vector, $\\mathbf{\\hat{p}}$, is the unit vector in the direction of the eccentricity vector ($\\mathbf{e}$). \n",
    "```{math}\n",
    ":label: L5_10\n",
    "\\mathbf{\\hat{p}} = \\frac{\\mathbf{e}}{|\\mathbf{e}|} = \\frac{\\mathbf{e}}{e}\n",
    "```\n",
    "2. The second vector,  $\\mathbf{\\hat{w}}$, is the unit vector in the direction of the specific angular momentum vector ($\\mathbf{h}$), perpendicular to the plane of motion.\n",
    "```{math}\n",
    ":label: L5_11\n",
    "\\mathbf{\\hat{w}} = \\frac{\\mathbf{h}}{\\left|\\mathbf{h}\\right|} = \\frac{\\mathbf{h}}{h}\n",
    "```\n",
    "\n",
    "3. The third vector,  $\\mathbf{\\hat{q}}$, is obtained by taking the cross product of  $\\mathbf{\\hat{w}}$ and  $\\mathbf{\\hat{p}}$. Recall that the cross product of two vectors yields a vector that is perpendicular to both, ensuring that ($\\mathbf{\\hat{p}}$,$\\mathbf{\\hat{q}}$,$\\mathbf{\\hat{w}}$) is a set of three mutually perpendicular vectors. \n",
    "```{math}\n",
    ":label: L5_12\n",
    "\\mathbf{\\hat{q}} = \\mathbf{\\hat{w}} \\times \\mathbf{\\hat{p}}\n",
    "```\n",
    "\n"
   ]
  },
  {
   "cell_type": "markdown",
   "id": "fa7111c4",
   "metadata": {},
   "source": [
    "**Position Vector in the Perifocal Frame:**\n",
    "\n",
    "From Figure 2, \n",
    "```{math}\n",
    ":label: L5_13\n",
    "\\mathbf{r} = r \\cos(\\theta) \\mathbf{\\hat{p}} + r \\sin(\\theta) \\mathbf{\\hat{q}}\n",
    "```\n",
    "\n",
    "By substituting Equation {eq}`L5_2` for $r$ into the above equation and using the definition $p = \\frac{h^2}{\\mu}$, we obtain: \n",
    "```{math}\n",
    ":label: L5_14\n",
    "\\mathbf{r} = \\frac{h^2 / \\mu}{1 + e \\cos(\\theta)} \\left[ \\cos(\\theta) \\mathbf{\\hat{p}} + \\sin(\\theta) \\mathbf{\\hat{q}} \\right]\n",
    "```"
   ]
  },
  {
   "cell_type": "markdown",
   "id": "ef65d26f",
   "metadata": {},
   "source": [
    "**Velocity Vector in the Perifocal Frame:**\n",
    "\n",
    "The velocity vector (in the perifocal frame) is obtained by differentiating the position vector (in the perifocal frame), Equation {eq}`L5_13`, with respect to time.\n",
    "```{math}\n",
    ":label: L5_15\n",
    "\\mathbf{v} = \\frac{d \\mathbf{r}}{dt} = \\frac{d}{dt} \\left( r \\cos(\\theta) \\mathbf{\\hat{p}} \\right) + \\frac{d}{dt} \\left( r \\sin(\\theta) \\mathbf{\\hat{q}} \\right)\n",
    "```\n",
    "\n",
    "Applying the product rule to each term:\n",
    "```{math}\n",
    "\\frac{d}{dt} \\left( r \\cos(\\theta) \\mathbf{\\hat{p}} \\right) = \\dot{r} \\cos(\\theta) \\mathbf{\\hat{p}} + r \\left( -\\sin(\\theta) \\dot{\\theta} \\right) \\mathbf{\\hat{p}}\n",
    "```\n",
    "\n",
    "```{math}\n",
    "\\frac{d}{dt} \\left( r \\sin(\\theta) \\mathbf{\\hat{q}} \\right) = \\dot{r} \\sin(\\theta) \\mathbf{\\hat{q}} + r \\left( \\cos(\\theta) \\dot{\\theta} \\right) \\mathbf{\\hat{q}}\n",
    "```\n",
    "\n",
    "Combining these results:\n",
    "```{math}\n",
    "\\frac{d \\mathbf{r}}{dt} = \\left( \\dot{r} \\cos(\\theta) - r \\dot{\\theta} \\sin(\\theta) \\right) \\mathbf{\\hat{p}} + \\left( \\dot{r} \\sin(\\theta) + r \\dot{\\theta} \\cos(\\theta) \\right) \\mathbf{\\hat{q}}\n",
    "```\n",
    "\n",
    "Recalling that, $v_r = \\dot{r}$ and $v_\\theta = r \\dot{\\theta}$, from Equation {eq}`L5_1`, the expression for the velocity vector becomes:\n",
    "```{math}\n",
    "\\frac{d \\mathbf{r}}{dt} = \\left( v_r \\cos(\\theta) - v_\\theta \\sin(\\theta) \\right) \\mathbf{\\hat{p}} + \\left( v_r \\sin(\\theta) + v_\\theta \\cos(\\theta) \\right) \\mathbf{\\hat{q}}\n",
    "```\n",
    "\n",
    "By subsituting Equations {eq}`L5_6` and {eq}`L5_7` for $v_r$ and $v_\\theta$ respectively, and simplifying, we arrive at:\n",
    "```{math}\n",
    ":label: L5_16\n",
    "\\mathbf{v} = \\frac{d \\mathbf{r}}{dt} = \\frac{\\mu}{h} \\left( -\\sin(\\theta) \\mathbf{\\hat{p}} + \\left(e + \\cos(\\theta) \\right) \\mathbf{\\hat{q}} \\right)\n",
    "```\n",
    "\n",
    "With Equations {eq}`L5_14` and {eq}`L5_16`, we can express the position and velocity of the spacecraft in an inertial frame of reference."
   ]
  },
  {
   "cell_type": "markdown",
   "id": "79b5f18d",
   "metadata": {},
   "source": [
    "(content:the-eci-reference-frame)=\n",
    "## The ECI Reference Frame"
   ]
  },
  {
   "cell_type": "markdown",
   "id": "46988b76",
   "metadata": {},
   "source": [
    "Up to this point, we've described the orbit in its orbital plane, which is a 2D description. Although the perifocal frame is 3D, it is orbit-dependent. We seek a more general description. To define an inertial frame, we need:\n",
    "- An origin\n",
    "- The direction of two fixed normal vectors (the third is automatically determined by the cross product of the two known vectors). \n",
    "\n",
    "**Earth Centred Interial (ECI) Frame:**\n",
    "- Origin at the Earth's centre of mass\n",
    "- $z$-axis aligned with the Earth's spin axis\n",
    "- $x$-axis aligned with the first the **First Point of Aries**, $\\gamma$"
   ]
  },
  {
   "cell_type": "markdown",
   "id": "4f7a9fed",
   "metadata": {},
   "source": [
    "```{figure} ./images/L5fig3.png\n",
    "---\n",
    "width: 80%\n",
    "align: center\n",
    "name: L5_fig3\n",
    "---\n",
    "Diagram of the Earth's orbit around the Sun, showing the ecliptic and equatorial planes (the plane formed when the green line is extended radially outwards), the direction of the First Point of Aries, and the obliquity angle.\n",
    "```\n",
    "<!-- \n",
    "<div style=\"text-align: center;\">\n",
    "    <img src=\"images/L5fig3.png\" alt=\"Figure 3\" style=\"width:60%;\">\n",
    "    <p><strong>Figure 3:</strong> Diagram of the Earth's orbit around the Sun, showing the ecliptic and equatorial planes (the plane formed when the green line is extended radially outwards), the direction of the First Point of Aries, and the obliquity angle. \n",
    "</p>\n",
    "</div> -->"
   ]
  },
  {
   "cell_type": "markdown",
   "id": "d6dd34ef",
   "metadata": {},
   "source": [
    "**Key Terms:**\n",
    "- Ecliptic Plane: the plane of the Earth's orbit around the Sun\n",
    "- Equatorial Plane: the imaginary plane extending outwards from the Earth's celestial equator \n",
    "- **Vernal Equinox**:  the intersection line of the Earth's equatorial plane and the ecliptic plane, indicating the direction of the First Point of Aries\n",
    "- Obliquity ($\\epsilon$): the angle between the Earth's spin axis (normal to the equatorial plane) and the normal to the ecliptic plane"
   ]
  },
  {
   "cell_type": "markdown",
   "id": "4d996398",
   "metadata": {},
   "source": [
    "```{figure} ./images/L5fig4.png\n",
    "---\n",
    "width: 80%\n",
    "align: center\n",
    "name: L5_fig4\n",
    "---\n",
    "Diagram of Earth's orbit, illustrating ecliptic plane and celestial equator on the celestial sphere. The three orthogonal vectors that define the ECI frame have also been labelled.\n",
    "```\n",
    "\n",
    "<!-- <div style=\"text-align: center;\">\n",
    "    <img src=\"images/L5fig4.png\" alt=\"Figure 4\" style=\"width:40%;\">\n",
    "    <p><strong>Figure 4:</strong> Diagram of Earth's orbit, illustrating ecliptic plane and celestial equator on the celestial sphere. The three orthogonal vectors that define the ECI frame have also been labelled.\n",
    "</p>\n",
    "</div> -->"
   ]
  },
  {
   "cell_type": "markdown",
   "id": "c55219d8",
   "metadata": {},
   "source": [
    "- As seen from Earth, the sun moves on the ecliptic counterclockwise.\n",
    "- The direction of the First Point of Aries is defined when the Sun crosses the equatorial plane from south to north."
   ]
  },
  {
   "cell_type": "markdown",
   "id": "ef079fb4",
   "metadata": {},
   "source": [
    "**Problem:** \n",
    "\n",
    "The coordinate system $(x,y,z)$ is not entirely inertial, due to:\n",
    "- Precession (and nutation) of the spin axis: Caused by the gravitational pull of the Sun and Moon combined with the Earth's oblateness.\n",
    "- Precession of the ecliptic plane: Due to the gravitational pull exerted by other planets on the Earth.\n",
    "- $\\gamma$ completes a full revolution in approximately 26,000 years, with a superimposed nutation of about 0.005° with a period of 18.6 years.\n",
    "\n",
    "**Solution:**\n",
    "\n",
    "To address this, we work with $(x,y,z)$ axes at a given epoch, for example, the ECI J2000 (or J2K) reference frame. "
   ]
  },
  {
   "cell_type": "markdown",
   "id": "efd8037b",
   "metadata": {},
   "source": [
    "**The Celestial Sphere**\n",
    "\n",
    "The celestial sphere is an imaginary, infinitely large sphere centered on the Earth, onto which all celestial objects are projected. The positions of these objects are defined by:\n",
    "1. **Right Ascension** ($\\alpha$): measured in the positive (+) direction eastward along the celestial equator from the vernal equinox.\n",
    "2. **Declination** ($\\delta$): measured in the positive (+) direction northward from the celestial equator."
   ]
  },
  {
   "cell_type": "markdown",
   "id": "0280a190",
   "metadata": {},
   "source": [
    "```{figure} ./images/L5fig5.png\n",
    "---\n",
    "width: 80%\n",
    "align: center\n",
    "name: L5_fig5\n",
    "---\n",
    "Diagram of the celestial sphere showing the right ascension and declination. \n",
    "```\n",
    "\n",
    "<!-- <div style=\"text-align: center;\">\n",
    "    <img src=\"images/L5fig5.png\" alt=\"Figure 5\" style=\"width:40%;\">\n",
    "    <p><strong>Figure 5:</strong> Diagram of the celestial sphere showing the right ascension and declination. \n",
    "</p>\n",
    "</div> -->"
   ]
  },
  {
   "cell_type": "markdown",
   "id": "fe407f09",
   "metadata": {},
   "source": [
    "(content:classical-orbital-parameters)=\n",
    "## Classical Orbital Parameters"
   ]
  },
  {
   "cell_type": "markdown",
   "id": "dfd0db32",
   "metadata": {},
   "source": [
    "A general orbit can often be described using what are known as the six \"classical orbital elements\".\n",
    "\n",
    "- The orbit's shape is defined entirely by the **semi-major axis** ($a$) and **eccentricity** ($e$), which are both constants.\n",
    "- The position along the orbit is given by the **true anomaly**, $\\theta(t)$. This is solved for with Kepler's Equation. "
   ]
  },
  {
   "cell_type": "markdown",
   "id": "cf4ececb",
   "metadata": {},
   "source": [
    "<!-- <div style=\"text-align: center;\">\n",
    "    <img src=\"images/L5fig6.png\" alt=\"Figure 6\" style=\"width:35%;\">\n",
    "    <p><strong>Figure 6:</strong> Diagram illustrating the classical orbital parameters.  \n",
    "</p>\n",
    "</div> -->\n",
    "\n",
    "```{figure} ./images/L5fig6.png\n",
    "---\n",
    "width: 80%\n",
    "align: center\n",
    "name: L5_fig6\n",
    "---\n",
    "Diagram illustrating the classical orbital parameters.\n",
    "```"
   ]
  },
  {
   "cell_type": "markdown",
   "id": "d7e51111",
   "metadata": {},
   "source": [
    "For a complete 3D representation, two additional parameters define the orbital plane, and another parameter specifies the orientation of the line of apsides within that plane.\n",
    "\n",
    "The Orientiation of the Plane: \n",
    "- **Right Ascension of Ascending Node** ($\\Omega$, also referred to as the Longitude of Ascending Node), represents the angle from the \n",
    "$x$-axis to the intersection point (the ascending node) of the equatorial and orbital planes. It varies between $0^\\circ$ and $360^\\circ$ (i.e., $\\epsilon[0,360]$).\n",
    "- **Inclination** ($i$), is the angle between the equatorial and orbital planes. Though $\\epsilon[0,180]$, \n",
    "    - the orbit is prograde when $0^\\circ < i < 90^\\circ$ \n",
    "    - the orbit is retrograde when $90^\\circ < i < 180^\\circ$ \n",
    "\n",
    "The Direction of Perigee:\n",
    "- **Argument of perigee** ($\\omega$), is the angle between the ascending node and the perigee. Remember when $e=0$, there is not a single point in the orbit closest to the central body as it's a circular orbit. $\\epsilon[0,360]$"
   ]
  },
  {
   "cell_type": "markdown",
   "id": "d8e61d69",
   "metadata": {},
   "source": [
    "<!-- <div style=\"text-align: center;\">\n",
    "    <img src=\"images/L5fig7.png\" alt=\"Figure 7\" style=\"width:45%;\">\n",
    "    <p><strong>Figure 7:</strong> Diagram illustrating the key parameters and angles used to describe an orbital plane in a three-dimensional coordinate system. \n",
    "</p>\n",
    "</div> -->\n",
    "\n",
    "\n",
    "```{figure} ./images/L5fig7.png\n",
    "---\n",
    "width: 80%\n",
    "align: center\n",
    "name: L5_fig7\n",
    "---\n",
    "Diagram illustrating the key parameters and angles used to describe an orbital plane in a three-dimensional coordinate system.\n",
    "```"
   ]
  },
  {
   "cell_type": "markdown",
   "id": "8d34b25e",
   "metadata": {},
   "source": [
    "Using Figure 7, \n",
    "\n",
    "- $\\Omega$ is the angle between $\\mathbf{\\hat{I}}$ and the line of nodes $\\mathbf{\\hat{n}}$. Recall that the line of nodes connects the ascending and descending nodes, which are the points where the orbital plane intersects the equatorial reference frame. Therefore, the line of nodes lies in both planes and is perpendicular to the normal vectors of both the reference plane and the orbital plane. In other words:\n",
    "\n",
    "$$\\mathbf{\\hat{n}} = \\mathbf{\\hat{K}} \\times \\mathbf{h}$$\n",
    "\n",
    "where\n",
    "- $i$ is the angle between $\\mathbf{h}$ and $\\mathbf{\\hat{K}}$\n",
    "- $\\omega$ is the angle between $\\mathbf{e}$ and $\\mathbf{n}$\n",
    "\n",
    "**Note:**\n",
    "- Given $h, e = const$, we are able to say $a$, $e$, $i$, $\\omega$ and $\\Omega$ are all constants. \n",
    "- The only orbital parameter that varies with time is $\\theta$, which is determined by solving Kepler's equation."
   ]
  }
 ],
 "metadata": {
  "kernelspec": {
   "display_name": "Python 3 (ipykernel)",
   "language": "python",
   "name": "python3"
  },
  "language_info": {
   "codemirror_mode": {
    "name": "ipython",
    "version": 3
   },
   "file_extension": ".py",
   "mimetype": "text/x-python",
   "name": "python",
   "nbconvert_exporter": "python",
   "pygments_lexer": "ipython3",
   "version": "3.10.13"
  }
 },
 "nbformat": 4,
 "nbformat_minor": 5
}
