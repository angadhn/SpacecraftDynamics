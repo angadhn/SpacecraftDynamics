{
 "cells": [
  {
   "cell_type": "markdown",
   "metadata": {},
   "source": [
    "# Determining Orbital Paths\n",
    "_Prepared by [Noah Leigh](https://github.com/nozzington) and [Angadh Nanjangud](https://www.angadh.com/)_</br>\n",
    "\n",
    "In this lecture we aim to cover the following topics:</br>\n",
    "1. [](content:orbital-elements-from-position-and-velocity-vectors)</br>\n",
    "2. [](content:rotation-matrix-elements)</br>\n",
    "3. [](content:eci-to-perifocal-frame)</br>\n",
    "4. [](content:ephemeris-position-and-velocity-vector-as-function-of-time)"
   ]
  },
  {
   "cell_type": "markdown",
   "metadata": {},
   "source": [
    "(content:orbital-elements-from-position-and-velocity-vectors)=\n",
    "## Orbital Elements from Position and Velocity Vectors\n",
    "\n",
    "1. **Orbital Parameters**\n",
    "\n",
    "  - Calculate the semi-major axis $a$ from the Vis-Viva equation {eq}`L3_10`:\n",
    "\n",
    "     ```{math}\n",
    "     a = \\frac{\\mu}{2\\epsilon}\n",
    "    \n",
    "     ```"
   ]
  },
  {
   "cell_type": "markdown",
   "metadata": {},
   "source": [
    "\n",
    "   - Compute the eccentricity $e$ {eq}`L3_2` from:\n",
    "\n",
    "     ```{math}\n",
    "     \\mathbf{e} = \\frac{\\mathbf{v} \\times \\mathbf{h}}{\\mu} - \\frac{\\mathbf{r}}{|\\mathbf{r}|}\n",
    "     ```"
   ]
  },
  {
   "cell_type": "markdown",
   "metadata": {},
   "source": [
    "   - Compute the inclination $i$ from:\n",
    "\n",
    "     ```{math}\n",
    "     :label: L6_1\n",
    "     \\mathbf{h_z}=\\mathbf{h}\\cos \\left( i \\right)\n",
    "     ```"
   ]
  },
  {
   "cell_type": "markdown",
   "metadata": {},
   "source": [
    "   - Compute the right ascension of the ascending node $\\Omega$ from:\n",
    "\n",
    "     ```{math}\n",
    "     :label: L6_2\n",
    "     \\cos \\left(\\Omega\\right)= \\frac{n_y}{|\\mathbf{n}|}\n",
    "     ```\n",
    "     Determine the correct quadrant:\n",
    "\n",
    "      - If $n_y \\geq 0$, then $\\Omega \\in [0, 180^\\circ]$\n",
    "      - If $n_y < 0$, then $\\Omega = 360^\\circ - \\cos^{-1} \\left( \\frac{n_x}{|\\mathbf{n}|} \\right)$"
   ]
  },
  {
   "cell_type": "markdown",
   "metadata": {},
   "source": [
    "   - Compute the argument of perigee $\\omega$ from:\n",
    "\n",
    "     ```{math}\n",
    "     :label: L6_3\n",
    "     \\cos \\left(\\omega\\right) = \\frac{\\mathbf{n} \\cdot \\mathbf{e}}{|\\mathbf{n}| |\\mathbf{e}|}\n",
    "     ```\n",
    "\n",
    "     Determine the correct quadrant:\n",
    "\n",
    "     - If $e_z \\geq 0$, then $\\omega \\in [0, 180^\\circ]$\n",
    "     - If $e_z < 0$, then $\\omega = 360^\\circ - \\cos^{-1}\\left(\\frac{\\mathbf{n} \\cdot \\mathbf{e}}{|\\mathbf{n}||\\mathbf{e}|}\\right)$"
   ]
  },
  {
   "cell_type": "markdown",
   "metadata": {},
   "source": [
    "\n",
    "   - Compute the true anomaly $\\theta$ from:\n",
    "\n",
    "     ```{math}\n",
    "     :label: L6_4\n",
    "     \\mathbf{r}\\cdot\\mathbf{e} = |\\mathbf{r}||\\mathbf{e}|\\cos \\left( \\theta \\right)\n",
    "     ```\n",
    "\n",
    "     Determine the correct quadrant:\n",
    "      Need to calculate $v_r = \\mathbf{v}\\cdot\\hat{r}$\n",
    "\n",
    "     - If $v_r \\geq 0, \\theta = \\cos^{-1}\\left(\\frac{\\mathbf{r}\\cdot\\mathbf{e}}{|\\mathbf{r}||\\mathbf{e}|}\\right)$\n",
    "     - If $v_r < 0, \\theta = 360^\\circ - \\cos^{-1}\\left(\\frac{\\mathbf{r} \\cdot \\mathbf{e}} {|\\mathbf{e}||\\mathbf{r}|}\\right)$\n",
    "\n",
    "   **Note:** Orbital parameters can be singular in certain conditions!"
   ]
  },
  {
   "cell_type": "markdown",
   "metadata": {},
   "source": [
    "(content:rotation-matrix-elements)=\n",
    " ## Rotation Matrix Elements:\n",
    "\n",
    "   - Consider unit vectors $\\mathbf{I}$, $\\mathbf{J}$, and $\\mathbf{K}$ of a reference frame and their transformation to another frame $\\mathbf{I'}$, $\\mathbf{J'}$, $\\mathbf{K'}$:\n",
    "\n",
    "     ```{math}\n",
    "     \\mathbf{F'} = A \\mathbf{F}\n",
    "     ```\n",
    "\n",
    "     where $A$ is the rotation matrix. Each column of $A$ contains the components of $\\mathbf{I}$, $\\mathbf{J}$, $\\mathbf{K}$ in the new reference frame."
   ]
  },
  {
   "cell_type": "markdown",
   "metadata": {},
   "source": [
    "\n",
    "\n",
    "- **Inverse Transformation:**\n",
    "\n",
    "   - To compute the original vector from the transformed one:\n",
    "\n",
    "     ```{math}\n",
    "     \\mathbf{F} = A^T \\mathbf{F'}\n",
    "     ```\n",
    "\n",
    "     where $A^T$ is the transpose of the rotation matrix $A$.\n",
    "\n",
    "- **Successive Rotations:**\n",
    "\n",
    "   - Given two successive rotations $A_1$ and $A_2$, the net rotation $A$ is:\n",
    "\n",
    "     ```{math}\n",
    "     A = A_2 A_1\n",
    "     ```"
   ]
  },
  {
   "cell_type": "markdown",
   "metadata": {},
   "source": [
    "\n",
    "\n",
    "  **Rotation about a Single Axis:**\n",
    "\n",
    "  - Rotation about $\\mathbf{I}$:\n",
    "\n",
    " $$\n",
    " A = \\begin{bmatrix} 1 & 0 & 0 \\\\ 0 & \\cos \\left( \\theta \\right) & -\\sin \\left( \\theta \\right) \\\\ 0 & \\sin \\left( \\theta \\right) & \\cos \\left( \\theta \\right) \\end{bmatrix}\n",
    " $$\n",
    "  "
   ]
  },
  {
   "cell_type": "markdown",
   "metadata": {},
   "source": [
    "  - Rotation about $\\mathbf{J}$:\n",
    "\n",
    "$$\n",
    "A = \\begin{bmatrix} \\cos \\left( \\theta \\right) & 0 & \\sin \\left( \\theta \\right) \\\\ 0 & 1 & 0 \\\\ -\\sin \\left( \\theta \\right) & 0 & \\cos \\left( \\theta \\right) \\end{bmatrix}\n",
    "$$"
   ]
  },
  {
   "cell_type": "markdown",
   "metadata": {},
   "source": [
    "\n",
    "- Rotation about $\\mathbf{K}$:\n",
    "\n",
    "$$\n",
    "A = \\begin{bmatrix} \\cos \\left( \\theta \\right) & -\\sin \\left( \\theta \\right) & 0 \\\\ \\sin \\left( \\theta \\right) & \\cos \\left( \\theta \\right) & 0 \\\\ 0 & 0 & 1 \\end{bmatrix}\n",
    "$$"
   ]
  },
  {
   "cell_type": "markdown",
   "metadata": {},
   "source": [
    "(content:eci-to-perifocal-frame)=\n",
    "## ECI to Perifocal Frame\n",
    "\n",
    "- **Transformation:**\n",
    "\n",
    "   - Passage from the ECI frame to the perifocal frame is given by the composition of three rotations:\n",
    "\n",
    "     ```{math}\n",
    "     :label: L6_5\n",
    "     \\mathbf{F}_{perifocal} = A_3(\\omega) A_2(i) A_1(\\Omega) \\mathbf{F}_{ECI}\n",
    "     ```"
   ]
  },
  {
   "cell_type": "markdown",
   "metadata": {},
   "source": [
    "\n",
    "\n",
    "   - **Inverse Transformation:**\n",
    "\n",
    "     - To transform from the perifocal frame back to ECI:\n",
    "\n",
    "       ```{math}\n",
    "       :label: L6_6\n",
    "       \\mathbf{F}_{ECI} = A_1^T(\\Omega) A_2^T(i) A_3^T(\\omega) \\mathbf{F}_{perifocal}\n",
    "       ```\n"
   ]
  },
  {
   "cell_type": "markdown",
   "metadata": {},
   "source": [
    "(content:ephemeris-position-and-velocity-vector-as-function-of-time)=\n",
    "## Ephemeris: Position and Velocity Vector as Function of Time\n",
    "\n",
    "- **Procedure:**\n",
    "\n",
    "1. Compute the mean anomaly $M = n(t - t_0) + M_0$.\n",
    "2. Solve Kepler's equation $M = E - e\\sin(E)$ for $E$ (the eccentric anomaly).\n",
    "3. Find the true anomaly $\\nu$ from:\n",
    "\n",
    "      ```{math}\n",
    "      :label: L6_7\n",
    "      \\tan \\left(\\frac{\\nu}{2}\\right) = \\sqrt{\\frac{1+e}{1-e}} \\tan \\frac{E}{2}\n",
    "      ```"
   ]
  },
  {
   "cell_type": "markdown",
   "metadata": {},
   "source": [
    "   4. Compute the position vector in the perifocal frame:\n",
    "\n",
    "      ```{math}\n",
    "      :label: L6_8\n",
    "      \\mathbf{r}_{perifocal} = \\frac{a(1 - e^2)}{1 + e \\cos \\left( \\nu \\right)} \\begin{bmatrix} \\cos (\\nu) \\\\ \\sin (\\nu) \\\\ 0 \\end{bmatrix}\n",
    "      ```"
   ]
  },
  {
   "cell_type": "markdown",
   "metadata": {},
   "source": [
    "\n",
    "   5. Compute the velocity vector in the perifocal frame:\n",
    "\n",
    "      ```{math}\n",
    "      :label: L6_9\n",
    "      \\mathbf{v}_{perifocal} = \\sqrt{\\frac{\\mu}{a(1 - e^2)}} \\begin{bmatrix} -\\sin (\\nu) \\\\ e + \\cos (\\nu) \\\\ 0 \\end{bmatrix}\n",
    "      ```"
   ]
  },
  {
   "cell_type": "markdown",
   "metadata": {},
   "source": [
    "\n",
    "   6. Transform the position and velocity vectors from the perifocal frame to the ECI frame using the inverse rotation matrices:\n",
    "\n",
    "      ```{math}\n",
    "      :label: L6_10\n",
    "      \\mathbf{r}_{ECI} = A_3(\\omega) A_2(i) A_1(\\Omega) \\mathbf{r}_{perifocal}\n",
    "      ```\n",
    "\n",
    "      ```{math}\n",
    "      :label: L6_11\n",
    "      \\mathbf{v}_{ECI} = A_3(\\omega) A_2(i) A_1(\\Omega) \\mathbf{v}_{perifocal}\n",
    "      ```"
   ]
  }
 ],
 "metadata": {
  "language_info": {
   "name": "python"
  }
 },
 "nbformat": 4,
 "nbformat_minor": 2
}
