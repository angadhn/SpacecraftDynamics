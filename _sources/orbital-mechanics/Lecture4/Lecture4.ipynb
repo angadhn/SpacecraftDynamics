{
 "cells": [
  {
   "cell_type": "markdown",
   "id": "8def51c5-f741-4b80-8785-b30772a4c134",
   "metadata": {},
   "source": [
    "# Circular and More Results on Elliptical Orbits"
   ]
  },
  {
   "cell_type": "markdown",
   "id": "69aa5e19",
   "metadata": {},
   "source": [
    "_Prepared by:_ [Ilanthiraiyan Sivagnanamoorthy](https://github.com/thedukeofeelam), [Joost Hubbard](https://github.com/Joosty), and [Angadh Nanjangud](https://www.angadhn.com/)"
   ]
  },
  {
   "cell_type": "markdown",
   "id": "2c9c8d74-5c73-42f1-b00a-fb07a6fc9f95",
   "metadata": {},
   "source": [
    "In this lecture we aim to cover the following topics:\n",
    "1. [](content:properties-of-circular-orbits)\n",
    "2. [](content:orbital-period-(kepler's-3rd-law))\n",
    "3. [](content:time-equation)"
   ]
  },
  {
   "cell_type": "markdown",
   "id": "4599613b",
   "metadata": {},
   "source": [
    "(content:properties-of-circular-orbits)=\n",
    "## Properties of Circular Orbtis"
   ]
  },
  {
   "cell_type": "markdown",
   "id": "8f67ff0d-06db-4c66-ad3e-e538138aba08",
   "metadata": {},
   "source": [
    "### 1. Orbital Radius ($r$)"
   ]
  },
  {
   "cell_type": "markdown",
   "id": "dfe69a79-5fe0-4277-b8ba-fb2ddf431ba9",
   "metadata": {},
   "source": [
    "Recall that the **equation of the orbit** in Equation {eq}`L3_4` was based on the semi-latus rectum ($p$) and can be written as: \n",
    "```{math}\n",
    ":label: L4_1\n",
    "r = \\frac{p}{1 + e \\cos (\\theta)}\n",
    "```\n",
    "\n",
    "For a circular orbit, the eccentricity ($e$) is 0. Substituting $e = 0$ into Equation {eq}`L4_1` simplifies it to: \n",
    "```{math}\n",
    ":label: L4_2\n",
    "r = p\n",
    "```\n",
    "\n",
    "In this case, the semi-latus rectum ($p$) is equal to the semi-major axis ($a$), since: \n",
    "```{math}\n",
    ":label: L4_3\n",
    "p = a(1-e^2) = a\n",
    "```\n",
    "\n",
    "Thus, for a circular orbit, \n",
    "````{important}\n",
    "```{math}\n",
    ":label: L4_4\n",
    "r = p = a= const\n",
    "```\n",
    "````\n"
   ]
  },
  {
   "cell_type": "markdown",
   "id": "94b3086e-8ac4-4889-bd20-d43898fff1da",
   "metadata": {},
   "source": [
    "### 2. Orbital Velocity ($v$)"
   ]
  },
  {
   "cell_type": "markdown",
   "id": "fbc98877-6aa6-49f2-88f7-c13fde2662ef",
   "metadata": {},
   "source": [
    "Equation {eq}`L3_9` gives the **vis-viva equation**, which we rewrite to solve for the orbital velocity ($v$) of an object given its distance from the planet's center (i.e., orbital radius, $r$) and the semi-major axis ($a$) of this orbit. \n",
    "\n",
    "```{math}\n",
    ":label: L4_5\n",
    "v^2 = \\mu \\left( \\frac{2}{r} - \\frac{1}{a} \\right)\n",
    "```\n",
    "\n",
    "For a circular orbit, the relationship between $r$ and $a$ has been defined in Equation {eq}`L4_4`. Substituting this into Equation {eq}`L4_5`\n",
    "yields the following equation for the orbital velocity:\n",
    "````{important}\n",
    "```{math}\n",
    ":label: L4_6\n",
    "v = \\sqrt{\\frac{\\mu}{a}}\n",
    "```\n",
    "````\n"
   ]
  },
  {
   "cell_type": "markdown",
   "id": "5021df4d-24de-4c42-ab29-f058772fd70a",
   "metadata": {},
   "source": [
    "### 3. Radial ($v_r$), transverse ($v_\\theta$), and angular speeds ($\\dot{\\theta}$)\n"
   ]
  },
  {
   "cell_type": "markdown",
   "id": "3dc77665-7b67-4513-92e4-2752d68b2f27",
   "metadata": {},
   "source": [
    "Recall that the velocity vector in polar coordinates can be expressed as: \n",
    "```{math}\n",
    ":label: L4_7\n",
    "{\\bf v} &= v_r\\mathbf{\\hat{e}}_r + v_\\theta\\mathbf{\\hat{e}}_\\theta\\\\\n",
    "&= \\dot r\\mathbf{\\hat{e}}_r + r \\dot \\theta\\mathbf{\\hat{e}}_\\theta\n",
    "```\n",
    "from Equations {eq}`L2_polar_velocity_vectors` and {eq}`L2_21`.\n",
    "\n",
    "Since orbital radius $r$ is a constant for a circular orbit, also provided in Equation {eq}`L4_4`, the radial component of ${\\bf v}$ is 0. Thus, we get that\n",
    "\n",
    "```{math}\n",
    ":label: L4_8\n",
    "v_r = \\dot r = \\frac{dr}{dt} = 0\n",
    "```\n",
    "and the velocity vector of Equation {eq}`L4_7` simplifies to include only the transverse component: \n",
    "```{math}\n",
    ":label: L4_9\n",
    "{\\bf v} &= v_\\theta\\\\\n",
    "&= r \\dot \\theta\\mathbf{\\hat{e}}_\\theta\n",
    "```\n",
    "\n",
    "This tells us that the transverse velocity component $v_\\theta$ is given by comparing Equations {eq}`L4_9` and {eq}`L4_6`:\n",
    "````{important}\n",
    "```{math}\n",
    ":label: L4_9\n",
    "v_\\theta = v = \\sqrt{\\frac{\\mu}{a}}\n",
    "```\n",
    "````\n",
    "\n",
    "By equating the magnitude of ${\\bf v}$ given by Equation {eq}`L4_9` to that given by Equation {eq}`L4_6`, we can solve for angular speed $\\dot{\\theta}$ as follows:\n",
    "```{math}\n",
    ":label: L4_10\n",
    "v = r \\dot \\theta = a \\dot \\theta = \\sqrt{\\frac{\\mu}{a}}\n",
    "```\n",
    "or\n",
    "````{important}\n",
    "```{math}\n",
    ":label: L4_10\n",
    "\\dot \\theta = \\sqrt{\\frac{\\mu}{a^3}}\n",
    "```\n",
    "\n",
    "As $a = const$ for circular orbits and $\\mu = const$ in the two-body problem, Equation {eq}`L4_10` proves that the angular speed (and therefore the angular velocity) is also a constant.\n",
    "````\n",
    "\n",
    "So, the angular position of a body in a circular orbit is given by:\n",
    "```{math}\n",
    ":label: L4_11\n",
    "\\theta = \\sqrt{\\frac{\\mu}{a^3}}(t-t_0)\n",
    "```\n",
    "where $t_0$ is the time passage from a reference direction.\n",
    "\n",
    "<!-- of perigee passage, which is the specific moment when the orbiting object is closest to the primary body it is orbiting. For simplicity, we assume $t_p = 0$. -->\n"
   ]
  },
  {
   "cell_type": "markdown",
   "id": "57859e1f-22cb-47bd-860f-35f8a28ea248",
   "metadata": {},
   "source": [
    "### 4. Orbital Period ($T$)"
   ]
  },
  {
   "cell_type": "markdown",
   "id": "f156a8bc-ac62-44ec-ab6c-4a83db4af3e2",
   "metadata": {},
   "source": [
    "Equation {eq}`L4_10` is used to define the orbital time period as:\n",
    "\n",
    "```{math}\n",
    ":label: L4_11\n",
    "T = \\frac{2\\pi}{\\dot \\theta} = 2\\pi\\sqrt{\\frac{a^3}{\\mu}}\n",
    "```\n",
    "The concept of orbital period is discussed in detail in the next section."
   ]
  },
  {
   "cell_type": "markdown",
   "id": "8d466afc",
   "metadata": {},
   "source": [
    "(content:orbital-period-(kepler's-3rd-law))=\n",
    "## Orbital Period (Kepler's 3rd Law)"
   ]
  },
  {
   "cell_type": "markdown",
   "id": "6acdda38-4808-46d3-8afb-cb02a6ee9a2f",
   "metadata": {
    "editable": true,
    "slideshow": {
     "slide_type": ""
    },
    "tags": []
   },
   "source": [
    "**Kepler's 2nd law** of planetary motion states that an object in orbit sweeps out equal areas in equal time intervals, meaning the areal velocity is constant. This law is expressed in terms of specific angular momentum ($h$) as: \n",
    "```{math}\n",
    ":label: L4_12\n",
    "\\frac{dA}{dt} = \\frac{1}{2}h = const\n",
    "```\n",
    "\n",
    "Given that $h = \\sqrt{\\mu p}$ and $p = a(1-e^2)$, Equation {eq}`L4_12` can be rewritten as: \n",
    "```{math}\n",
    ":label: L4_13\n",
    "\\frac{dA}{dt} = \\frac{1}{2}\\sqrt{\\mu a (1-e^2)}\n",
    "```\n",
    "\n",
    "The orbital period ($T$) is the time the spacecraft takes to complete a full revolution. During this period, the spacecraft sweeps out the entire area of the ellipse, which is given by: \n",
    "```{math}\n",
    ":label: L4_14\n",
    "A_T = \\pi ab = \\pi a^2 \\sqrt{1-e^2}\n",
    "```\n",
    "\n",
    "Using Equation {eq}`L4_14`, the areal velocity can be expressed as: \n",
    "```{math}\n",
    ":label: L4_15\n",
    "\\frac{dA}{dt} = \\frac{A_T}{T} = \\frac{\\pi a^2 \\sqrt{1-e^2}}{T}\n",
    "```\n",
    "\n",
    "Equating Equations {eq}`L4_13` and {eq}`L4_15` to derive an equation for the orbital period and then rearranging gives:\n",
    "````{important}\n",
    "```{math}\n",
    ":label: L4_16\n",
    "T = 2\\pi \\sqrt{\\frac{a^3}{\\mu}}\n",
    "```\n",
    "\n",
    "The equation above defines **Kepler's 3rd law**, which states that the square of the orbital period is proportional to the cube of the semi-major axis (i.e., $T^2 \\propto a^3$).\n",
    "````\n",
    "\n",
    "- $T$ can be used to measure $m_2$ (the mass of the central body)\n",
    "- $T$ (and energy) are independent of the eccentricity of the orbit\n",
    "\n",
    "By defining a parameter called the **mean motion** ($n$) as $2\\pi/T$, Equation {eq}`L4_16` can be alternatively expressed as:\n",
    "````{important}\n",
    "```{math}\n",
    ":label: L4_17\n",
    "n^2 a^3 = \\mu\n",
    "```\n",
    "````"
   ]
  },
  {
   "cell_type": "markdown",
   "id": "cba17e53",
   "metadata": {},
   "source": [
    "(content:time-equation)=\n",
    "## $r$ as a function of time "
   ]
  },
  {
   "cell_type": "markdown",
   "id": "e93085cd-90d3-4610-92f7-b8ed0e06ff7a",
   "metadata": {},
   "source": [
    "### The Objective"
   ]
  },
  {
   "cell_type": "markdown",
   "id": "33417b5b-dff4-455a-926b-f0360775b435",
   "metadata": {},
   "source": [
    "Equation {eq}`L4_1` represents **Kepler's 1st law**, which states that the orbit of a planet is an ellipse with the sun at one of its two foci. This equation provides $r$ as a function of $\\theta$, i.e., $r(\\theta)$, but it does not explicitly give $r$ as a function of time, i.e., $r(t)$.  In the following passage, our goal is to determine $\\theta(t)$, so that we can find $r(\\theta(t))$, which then gives us $r(t)$. "
   ]
  },
  {
   "cell_type": "markdown",
   "id": "0d8f6109-2cef-4ad9-aa99-7292ebff4c2a",
   "metadata": {},
   "source": [
    "### Derivation  "
   ]
  },
  {
   "cell_type": "markdown",
   "id": "1ec19270-0eb6-4227-81ae-05d22ede88ae",
   "metadata": {},
   "source": [
    "Starting with the magnitude of the specific angular momentum, $h = r^2 \\dot\\theta$, and substituting Equation {eq}`L4_1` for $r$, then rearranging to solve for $\\dot \\theta$ results in Equation {eq}`L4_18`. Note that Equation {eq}`L4_1` was originally expressed in terms of the semi-latus rectum ($p$), but in the following steps, $p$ has been replaced with $\\frac{h^2}{\\mu}$ as per Equation {eq}`L3_5`. \n",
    "\n",
    "```{math}\n",
    ":label: L4_18\n",
    "\\dot{\\theta} = \\frac{d\\theta}{dt} = \\frac{h}{r^2} = \\frac{\\mu^2}{h^3}\\left(1 + e \\cos(\\theta)\\right)^2\n",
    "```\n",
    "\n",
    "We rearrange the above equation to integrate the equations by separation of\n",
    "variables, with $\\theta$ on the LHS and $t$ on the RHS:\n",
    "```{math}\n",
    ":label: L4_19\n",
    "\\int \\frac{d\\theta}{\\left(1 + e \\cos(\\theta)\\right)^2} = \\int \\frac{\\mu^2}{h^3} \\, dt\n",
    "```\n",
    "\n",
    "The integration results in: \n",
    "````{important}\n",
    "```{math}\n",
    ":label: L4_20\n",
    "\\frac{\\mu^2}{h^3} (t - t_p) = \\int_{0}^{\\theta} \\frac{d\\theta}{\\left(1 + e \\cos(\\theta)\\right)^2}\n",
    "```\n",
    "\n",
    "\n",
    "- $t_p$ is the time of perigee passage, which is the specific moment when the orbiting object is closest to the primary body it is orbiting. For simplicity, we assume $t_p = 0$.\n",
    "-  The **true anomaly** ($\\theta$) is measured from the eccentricity vector ($\\bf{e}$), which is aligned with the line of apsides and directed towards the perigee point. By assuming $t_p = 0$ we have $\\theta(t_p) = \\theta(0) = 0$.\n",
    "-  Solving Equation {eq}`L4_20` results in $\\theta(t)$. We defined this as our objective!\n",
    "````\n"
   ]
  },
  {
   "cell_type": "markdown",
   "id": "7ceff4a8-7e4f-4303-bb38-21b2ec86f0c5",
   "metadata": {},
   "source": [
    "#### Case 1. Circular Orbits"
   ]
  },
  {
   "cell_type": "markdown",
   "id": "44195401-9d4b-4f19-a786-a737f1c507b2",
   "metadata": {},
   "source": [
    "Given $e = 0$ for circular orbits and the assumed $t_p= 0$, Equation {eq}`L4_20` is reduced to:\n",
    "```{math}\n",
    ":label: L4_21\n",
    "\\frac{\\mu^2}{h^3}t = \\theta\n",
    "```\n",
    "\n",
    "Since $p = h^2/\\mu$ and that $p = a = const$ for circular orbits, the above may be expressed in terms of $a$ as follows:\n",
    "```{math}\n",
    ":label: L4_22\n",
    "\\theta &= \\frac{\\mu^2}{(\\mu a)^\\frac{3}{2}}t\\\\\n",
    "&= \\frac{\\mu^\\frac{1}{2}}{(a)^\\frac{3}{2}}t\\\\\n",
    "&= \\sqrt{\\frac{\\mu}{a^3}}t\n",
    "```\n",
    "\n",
    "This relation can be further simplified using Kepler's third law, Equation {eq}`L4_16` and compactly expressed in terms of the mean motion $n$,\n",
    "```{math}\n",
    ":label: L4_23\n",
    "\\theta &= \\frac{2\\pi}{T}t\\\\\n",
    "\\Rightarrow \\theta &= nt\n",
    "```"
   ]
  },
  {
   "cell_type": "markdown",
   "id": "b4d659cd-a0e8-4d91-9d54-01a310905068",
   "metadata": {},
   "source": [
    "#### Case 2. Elliptical Orbits"
   ]
  },
  {
   "cell_type": "markdown",
   "id": "31d5ac59-d347-4abf-8124-9ad261feb9a1",
   "metadata": {},
   "source": [
    "Given $0<e<1$ for elliptical orbits and assuming $t_p = 0$, Equation {eq}`L4_20` evaluates to:\n",
    "\n",
    "```{math}\n",
    "\\frac{\\mu^2}{h^3}t = \\frac{1}{(1 - e^2)^{3/2}} \\left[ 2 \\tan^{-1} \\left( \\sqrt{\\frac{1 - e}{1 + e}} \\tan \\left(\\frac{\\theta}{2}\\right) \\right) - \\frac{e \\sqrt{1 - e^2} \\sin(\\theta)}{1 + e \\cos(\\theta)} \\right]\n",
    "```\n",
    "\n",
    "By multiplying out the denominator term on the right-hand side of the equation, we obtain:\n",
    "\n",
    "```{math}\n",
    ":label: L4_24\n",
    "\\frac{\\mu^2}{h^3} (1 - e^2)^{3/2} t = 2 \\tan^{-1} \\left( \\sqrt{\\frac{1 - e}{1 + e}} \\tan \\left(\\frac{\\theta}{2}\\right) \\right) - \\frac{e \\sqrt{1 - e^2} \\sin(\\theta)}{1 + e \\cos(\\theta)}\n",
    "```"
   ]
  },
  {
   "cell_type": "markdown",
   "id": "57c07412-05b9-40d7-a0bb-415264877db6",
   "metadata": {},
   "source": [
    "````{admonition} Mean Anomaly (for general elliptical orbits)\n",
    "The term on the LHS of Equation {eq}`L4_24` is a parameter for elliptical\n",
    "orbits often referred to as the **mean anomaly** ($M_e$): \n",
    "```{math}\n",
    ":label: L4_25\n",
    "M_e = \\frac{\\mu^2}{h^3}(1 - e^2)^\\frac{3}{2}t\n",
    "```\n",
    "````\n",
    "\n",
    "Thus, we rewrite Equation {eq}`L4_24` as:\n",
    "````{important}\n",
    "```{math}\n",
    ":label: L4_24a\n",
    "M_e = 2 \\tan^{-1} \\left( \\sqrt{\\frac{1 - e}{1 + e}} \\tan \\left(\\frac{\\theta}{2}\\right) \\right) - \\frac{e \\sqrt{1 - e^2} \\sin(\\theta)}{1 + e \\cos(\\theta)}\n",
    "```\n",
    "````\n",
    "\n",
    "We can also derive a simpler expression\n",
    "for the mean anomaly of an elliptical orbit from the orbital period given by Equation {eq}`L4_16`, $T = 2\\pi \\sqrt{\\frac{a^3}{\\mu}}$.\n",
    "Here, we invoke the definition of the semi-latus rectum from Equation {eq}`L3_5`, $p = a(1-e^2) = h^2/\\mu$, to get an expression for $a$ in terms of $h$ and $\\mu$  \n",
    "```{math}\n",
    "a = \\frac{h^2}{\\mu(1-e^2)}\n",
    "```\n",
    "and subsequently substitute for $a$ in\n",
    "this expression for $T$ to get:\n",
    "```{math}\n",
    "T &= 2\\pi \\sqrt{\\frac{h^6}{\\mu^3(1-e^2)^3}\\frac{1}{\\mu}}\\\\\n",
    "\\Rightarrow T &= 2\\pi \\frac{h^3}{\\mu^2(1-e^2)^\\frac{3}{2}}\n",
    "```\n",
    "\n",
    "Rearranging the above to express it as:\n",
    "```{math}\n",
    ":label: L4_26\n",
    "\\frac{2\\pi}{T} = \\frac{\\mu^2}{h^3}(1-e^2)^\\frac{3}{2}\n",
    "```\n",
    "\n",
    "Substituting Equation {eq}`L4_26` and subsequently the definition of mean motion ($n$) into Equation {eq}`L4_25`, it can be reduced to:\n",
    "````{important}\n",
    "```{math}\n",
    ":label: L4_27\n",
    "M_e = \\frac{2\\pi}{T}t = nt\n",
    "```\n",
    "````\n",
    "\n",
    "- From this definition, the mean anomaly can be interpreted as the angular position of a fictitious body moving around the ellipse at constant angular speed $n$.\n",
    "- This hypothetical body travels around the orbit in such a way (with constant angular speed) that it completes one full revolution in the same period $T$ as the actual body.\n",
    "- The real body in an elliptical orbit, however, would speed up and slow down due to gravitational forces, whilst holding the areal velocity constant (i.e., Kepler's 2nd Law).\n",
    "- If the ellipse has zero eccentricity, then $M_e = \\theta$, as given by Equation {eq}`L4_23`."
   ]
  },
  {
   "cell_type": "markdown",
   "id": "05fa64bf-9abd-4b36-b60b-59b1ae1ee478",
   "metadata": {},
   "source": [
    "# Kepler's Equation"
   ]
  },
  {
   "cell_type": "markdown",
   "id": "7b9ed228-1719-4baf-9c33-da3c6044a58b",
   "metadata": {},
   "source": [
    "Our objective here is to derive the most important equation of orbital\n",
    "mechanics, Kepler's equation, by simplifying Equation {eq}`L4_24`. \n"
   ]
  },
  {
   "cell_type": "markdown",
   "id": "17936e90",
   "metadata": {},
   "source": [
    "```{figure} ./imgs/L4fig1.jpg\n",
    "---\n",
    "width: 50%\n",
    "align: center\n",
    "name: L4_fig1\n",
    "---\n",
    "An ellipse with a circumscribed reference circle, where the semi-major axis of the ellipse is equal to the radius of the circle.\n",
    "```"
   ]
  },
  {
   "cell_type": "markdown",
   "id": "b56aa046-afe1-4e34-8a8a-a39e938555bc",
   "metadata": {},
   "source": [
    "In {numref}`L4_fig1`, the semi-major axis ($a$) of the orbital ellipse is equal to the radius of the circumscribed circle. An additional angle, called the **eccentric anomaly** ($E$), is introduced. Similar to the true anomaly ($\\theta$), $E$ is measured from the line of apsides and represents the angular position of the orbiting body as it would appear projected onto the reference circle.  From this diagram, the following geometrical relationships can be derived:\n",
    "\n",
    "```{math}\n",
    ":label: L4_27a\n",
    "\\overline{\\bf OV} = a\\cos(E)\n",
    "```\n",
    "but also\n",
    "```{math}\n",
    ":label: L4_27b\n",
    "\\overline{\\bf OV} &= \\overline{\\bf OF} + \\overline{\\bf FV}\\\\\n",
    "\\Rightarrow \\overline{\\bf OV} &= ae + r\\cos(\\theta)\n",
    "```\n",
    "\n",
    "Then, equating the RHS of Equations {eq}`L4_27a` and {eq}`L4_27b`, we get:\n",
    "```{math}\n",
    "a\\cos(E) = ae + r\\cos(\\theta)\n",
    "```\n",
    "Substituting for $r$ (from Equation {eq}`L4_1`) into the above equation and also then\n",
    "substituting for $p = a(1-e^2)$:\n",
    "```{math}\n",
    "a \\cos(E) &= ae + \\frac{p}{1 + e \\cos(\\theta)} \\cos(\\theta)\\\\\n",
    "\\Rightarrow a \\cos(E) &= ae + \\frac{a (1 - e^2)}{1 + e \\cos(\\theta)} \\cos(\\theta)\n",
    "```\n",
    "which simplifies to:\n",
    "```{math}\n",
    ":label: L4_28\n",
    "\\Rightarrow \\cos(E) &= e + \\frac{(1-e^2)}{1+e\\cos(\\theta)}\\cos(\\theta)\\\\\n",
    "\\Rightarrow \\cos(E) &= \\frac{e + \\cos(\\theta)}{1 + e\\cos(\\theta)}\n",
    "```\n",
    "\n",
    "The below {numref}`L4_fig2` shows an ambiguity; a given value of $\\cos E$ (i.e., for a given value of $\\theta$) corresponds to two possible values of $E$:\n",
    "```{figure} ./imgs/L4fig2.png\n",
    "---\n",
    "width: 90%\n",
    "align: center\n",
    "name: L4_fig2\n",
    "---\n",
    "Plot of $\\cos(E)$ against $E$ from 0 to $2\\pi$ shows that there are two possible values of $E$ for a given value of $\\cos(E)$.\n",
    "```\n",
    "This will need to be resolved to determine the correct value of $E$ for a given value of $\\theta$.\n",
    "\n",
    "We first use the trigonometric identity $\\sin^2(E) + \\cos^2(E) = 1$ to derive an equation for $\\sin(E)$:\n",
    "````{important}\n",
    "```{math}\n",
    ":label: L4_29\n",
    "\\sin(E) = \\frac{\\sqrt{1-e^2}\\sin(\\theta)}{1 + e\\cos(\\theta)}\n",
    "```\n",
    "````\n",
    "\n",
    "Then, we introduce $\\tan^2(\\frac{E}{2})$ and\n",
    "recall the half-angle formula for it in terms of $\\cos(E)$ as:\n",
    "\n",
    "```{math}\n",
    "\\tan^2(\\frac{E}{2}) = \\frac{1-\\cos(E)}{1+\\cos(E)}\n",
    "```\n",
    "\n",
    "Evaluate the above by substituting Equation {eq}`L4_28` for $\\cos(E)$. This results in:\n",
    "```{math}\n",
    "\\tan^2(\\frac{E}{2}) = \\frac{1-e}{1+e}\\tan^2(\\frac{\\theta}{2})\n",
    "```\n",
    "or\n",
    "````{important}\n",
    "```{math}\n",
    ":label: L4_30\n",
    "\\tan(\\frac{E}{2}) = \\sqrt{\\frac{1-e}{1+e}}\\tan(\\frac{\\theta}{2})\n",
    "```\n",
    "````\n",
    "\n",
    "If we compare the terms on the RHS of Equation {eq}`L4_24a` with the terms on the RHS of Equations {eq}`L4_29` and {eq}`L4_30`, we can write:\n",
    "```{math}\n",
    "M_e = 2 \\tan^{-1} \\left( \\tan \\left( \\frac{E}{2} \\right) \\right) - e \\sin(E)\n",
    "```\n",
    "or written in the form commonly known as **Kepler's equation**:\n",
    "````{admonition} Kepler's equation\n",
    ":class: important \n",
    "```{math}\n",
    ":label: L4_31\n",
    "M_e = E - e\\sin(E)\n",
    "```\n",
    "````\n",
    "As $M_e$ can be represented in terms of the mean motion ($n$) as either $nt$ or more generally as $n(t - t_p)$, Kepler's equation can alternatively be expressed as follows:\n",
    "```{math}\n",
    ":label: L4_32\n",
    "n(t-t_p) = E - e\\sin(E)\n",
    "```\n",
    "````{admonition} Kepler's equation\n",
    "Kepler's equation is useful in two scenarios:\n",
    "\n",
    "- **Scenario 1**: To determine the time since perigee passage given $\\theta$:\n",
    "  1. Calculate the eccentric anomaly $E$ using Equation {eq}`L4_30`.\n",
    "  2. Compute the mean anomaly $M_e$ from Kepler's equation.\n",
    "  3. Determine the mean motion $n$ using $n = 2\\pi/T$ or Equation {eq}`L4_17`.\n",
    "  4. Find the time since perigee passage with $t-t_p = M_e/n$.\n",
    "\n",
    "```{important}\n",
    "- **Scenario 2**: To determine $\\theta$ when given $t$:\n",
    "  1. Compute the mean motion $n$ using $n = 2\\pi/T$ or Equation {eq}`L4_17`.\n",
    "  2. Calculate the mean anomaly $M_e = n(t-t_p)$.\n",
    "  3. Solve Kepler's equation numerically to find the eccentric anomaly $E$.\n",
    "  4. Compute $\\theta$ from Equation {eq}`L4_30`\n",
    "```\n",
    "````"
   ]
  }
 ],
 "metadata": {
  "kernelspec": {
   "display_name": "Python 3 (ipykernel)",
   "language": "python",
   "name": "python3"
  },
  "language_info": {
   "codemirror_mode": {
    "name": "ipython",
    "version": 3
   },
   "file_extension": ".py",
   "mimetype": "text/x-python",
   "name": "python",
   "nbconvert_exporter": "python",
   "pygments_lexer": "ipython3",
   "version": "3.10.13"
  }
 },
 "nbformat": 4,
 "nbformat_minor": 5
}
