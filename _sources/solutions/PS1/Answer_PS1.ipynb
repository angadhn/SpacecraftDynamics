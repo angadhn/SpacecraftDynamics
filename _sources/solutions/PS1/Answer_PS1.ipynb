{
 "cells": [
  {
   "cell_type": "markdown",
   "id": "c9f54449-7bf9-424e-82d0-274765f5706c",
   "metadata": {},
   "source": [
    "# Problem Set 1"
   ]
  },
  {
   "cell_type": "markdown",
   "id": "ef68f29b-b968-43a7-aff9-5dc9e5d576f4",
   "metadata": {},
   "source": [
    "## Question 1\n",
    "![Figure 1](imgs/PS1_Figure1.png)\n",
    "\n",
    "In the figure above, N is an inertial frame comprising right-handed unit vectors ${\\bf \\hat n}_x$ and ${\\bf\\hat n}_y$. E is reference frame attached to the satellite comprising\n",
    "${\\bf \\hat e}_r$ and ${\\bf \\hat e}_\\theta$; note that ${\\bf  \\hat e}_r$ is directed along $\\bf r$ and ${\\bf  \\hat e}_\\theta$ is orthogonal to ${\\bf \\hat e}_r$.\n",
    "What is the relationship between ${\\bf \\hat e}_r$ and ${\\bf \\hat e}_\\theta$  and the unit vectors ${\\bf \\hat n}_x$ and ${\\bf\\hat n}_y$?\n",
    "By differentiating these expressions with respect to time, show that:\n",
    "$$\n",
    "\\dot {\\bf \\hat e}_r = \\dot\\theta {\\bf  \\hat e}_\\theta\n",
    "$$\n",
    "and\n",
    "$$\n",
    "\\dot {\\bf \\hat e}_\\theta = -\\dot\\theta  {\\bf \\hat e}_r\n",
    "$$\n"
   ]
  },
  {
   "cell_type": "markdown",
   "id": "a073a48d",
   "metadata": {},
   "source": [
    "# Solution 1\n",
    "From the figure, we can derive the relationship between the unit vectors of frames $E$ and $N$\n",
    "$$\n",
    "{\\bf \\hat e}_r = \\cos\\theta{\\bf \\hat n}_x + \\sin\\theta{\\bf\\hat n}_y\\\\\n",
    "{\\bf \\hat e}_\\theta =   -\\sin\\theta{\\bf \\hat n}_x +  \\cos\\theta{\\bf\\hat n}_y.\n",
    "\\tag{1.1}\n",
    "$$\n",
    "\n",
    "Then, taking the derivatives in the inertial frame $N$, we get\n",
    "$$\n",
    "\\frac{^Nd}{dt}{\\bf \\hat e}_r = -\\dot\\theta \\bigg( \\sin\\theta {\\bf \\hat n}_x + \\cos\\theta {\\bf\\hat n}_y\\bigg)\\\\\n",
    "\\quad\n",
    "\\\\\n",
    "\\frac{^Nd}{dt}{\\bf \\hat e}_\\theta =   -\\dot\\theta \\bigg(\\cos\\theta{\\bf \\hat n}_x  + \\sin\\theta {\\bf\\hat n}_y\\bigg).\n",
    "\n",
    "\\tag{1.2}\n",
    "$$\n",
    "\n",
    "Using Equation (1.1), we can rewrite Equation $(1.2)$ as\n",
    "$$\n",
    "\\frac{^Nd}{dt}{\\bf \\hat e}_r = \\dot\\theta{\\bf \\hat e}_\\theta\\\\\n",
    "\\frac{^Nd}{dt}{\\bf \\hat e}_\\theta = -\\dot\\theta{\\bf \\hat e}_r.\n",
    "\\tag{1.3}\n",
    "$$\n",
    "\n",
    "Below we demonstrate this with `sympy`, that you used extensively in EMS418U."
   ]
  },
  {
   "cell_type": "code",
   "execution_count": 1,
   "id": "7d235d17-2f25-4778-846b-750e2078b686",
   "metadata": {},
   "outputs": [
    {
     "name": "stdout",
     "output_type": "stream",
     "text": [
      "E.x is \n"
     ]
    },
    {
     "data": {
      "text/latex": [
       "$\\displaystyle \\cos{\\left(\\theta{\\left(t \\right)} \\right)}\\mathbf{\\hat{n}_x} + \\sin{\\left(\\theta{\\left(t \\right)} \\right)}\\mathbf{\\hat{n}_y}$"
      ],
      "text/plain": [
       "cos(theta(t))*N.x + sin(theta(t))*N.y"
      ]
     },
     "execution_count": 1,
     "metadata": {},
     "output_type": "execute_result"
    }
   ],
   "source": [
    "# Your coded answers here (and create more Code cells if you wish to)\n",
    "from sympy.physics.mechanics import ReferenceFrame, dynamicsymbols\n",
    "# from sympy.physics.mechanics import init_vprinting\n",
    "# init_vprinting()\n",
    "theta = dynamicsymbols('theta')\n",
    "N = ReferenceFrame('N')\n",
    "E = ReferenceFrame('E')\n",
    "E.orient(N, 'Axis', [theta, N.z])\n",
    "print(\"E.x is \")\n",
    "E.x.express(N)"
   ]
  },
  {
   "cell_type": "code",
   "execution_count": 2,
   "id": "2d326e22",
   "metadata": {},
   "outputs": [
    {
     "name": "stdout",
     "output_type": "stream",
     "text": [
      "E.y is \n"
     ]
    },
    {
     "data": {
      "text/latex": [
       "$\\displaystyle -  \\sin{\\left(\\theta{\\left(t \\right)} \\right)}\\mathbf{\\hat{n}_x} + \\cos{\\left(\\theta{\\left(t \\right)} \\right)}\\mathbf{\\hat{n}_y}$"
      ],
      "text/plain": [
       "- sin(theta(t))*N.x + cos(theta(t))*N.y"
      ]
     },
     "execution_count": 2,
     "metadata": {},
     "output_type": "execute_result"
    }
   ],
   "source": [
    "print(\"E.y is \")\n",
    "E.y.express(N)"
   ]
  },
  {
   "cell_type": "markdown",
   "id": "3403d394",
   "metadata": {},
   "source": [
    "You should note that, in the above code examples, `E.x` is analogous to the mathematical symbol of ${\\bf \\hat e}_r$ and `E.y` is analogous to the mathematical symbol of ${\\bf \\hat e}_\\theta$. This is just because `sympy` likes to use indices of `.x`, `.y`, and `.z` for the unit vectors.\n",
    "\n",
    "Next, we compute the derivatives in the inertial frame using `sympy`."
   ]
  },
  {
   "cell_type": "code",
   "execution_count": 3,
   "metadata": {},
   "outputs": [
    {
     "data": {
      "text/latex": [
       "$\\displaystyle -  \\sin{\\left(\\theta{\\left(t \\right)} \\right)} \\frac{d}{d t} \\theta{\\left(t \\right)}\\mathbf{\\hat{n}_x} + \\cos{\\left(\\theta{\\left(t \\right)} \\right)} \\frac{d}{d t} \\theta{\\left(t \\right)}\\mathbf{\\hat{n}_y}$"
      ],
      "text/plain": [
       "- sin(theta(t))*Derivative(theta(t), t)*N.x + cos(theta(t))*Derivative(theta(t), t)*N.y"
      ]
     },
     "execution_count": 3,
     "metadata": {},
     "output_type": "execute_result"
    }
   ],
   "source": [
    "ddt_of_e_r = E.x.dt(N)\n",
    "ddt_of_e_r.express(N)"
   ]
  },
  {
   "cell_type": "code",
   "execution_count": 4,
   "id": "914c663b",
   "metadata": {},
   "outputs": [
    {
     "data": {
      "text/latex": [
       "$\\displaystyle -  \\cos{\\left(\\theta{\\left(t \\right)} \\right)} \\frac{d}{d t} \\theta{\\left(t \\right)}\\mathbf{\\hat{n}_x} -  \\sin{\\left(\\theta{\\left(t \\right)} \\right)} \\frac{d}{d t} \\theta{\\left(t \\right)}\\mathbf{\\hat{n}_y}$"
      ],
      "text/plain": [
       "- cos(theta(t))*Derivative(theta(t), t)*N.x - sin(theta(t))*Derivative(theta(t), t)*N.y"
      ]
     },
     "execution_count": 4,
     "metadata": {},
     "output_type": "execute_result"
    }
   ],
   "source": [
    "ddt_of_e_theta = E.y.dt(N)\n",
    "ddt_of_e_theta.express(N)"
   ]
  },
  {
   "cell_type": "markdown",
   "id": "c1a6a0cc-d026-44c5-928d-de0006e23f8a",
   "metadata": {},
   "source": [
    "## Question 2\n",
    "The position of a satellite is given by ${\\bf r} = r {\\bf \\hat e}_r$. It's velocity is given by ${\\bf v} = \\dot {\\bf r}$. Using the results from\n",
    "question 1, show that:\n",
    "$$\n",
    "{\\bf v} = \\dot r {\\bf \\hat e}_r +  r \\dot\\theta  {\\bf \\hat e}_\\theta \n",
    "$$.\n",
    "\n",
    "The angular momentum per unit mass is given by: ${\\bf h} = \\dot {\\bf r} \\times {\\bf v}$. Find an expression for the angular\n",
    "momentum of the satellite. Which direction does it point?"
   ]
  },
  {
   "cell_type": "markdown",
   "id": "b05c8f95",
   "metadata": {},
   "source": [
    "# Solution 2\n",
    "## Part 1\n",
    "Given that ${\\bf r} = r {\\bf \\hat e}_r$, we also get\n",
    "$$\n",
    "{\\bf v} \\triangleq  \\frac{^Nd}{dt}{\\bf r} = \\dot r {\\bf \\hat e}_r + r \\frac{^Nd}{dt}{\\bf \\hat e}_r.\n",
    "\\tag{1.4}\n",
    "$$\n",
    "\n",
    "From Equation $(1.3)$, we can rewrite the time derivative on the RHS of Equation $(1.4)$ to get\n",
    "$$\n",
    "{\\bf v} = \\dot r {\\bf  \\hat e}_r + r \\dot \\theta{\\bf \\hat e}_\\theta.\n",
    "\\tag{1.5}\n",
    "$$\n",
    "\n",
    "This can also be achieved with `sympy` by using unit vectors attached to the frame `E` in Question 1. We being by creating a variable `r` that stores the time-varying symbol for the scalar distance $r$. We then also create two variables for the necessary vectors:\n",
    "- `r_vec` to represent $\\bf r$; and\n",
    "- `v_vec` to represent $\\bf v$.\n",
    "\n",
    "This is done below:"
   ]
  },
  {
   "cell_type": "code",
   "execution_count": 5,
   "id": "0c67344a",
   "metadata": {},
   "outputs": [
    {
     "data": {
      "text/latex": [
       "$\\displaystyle \\frac{d}{d t} r{\\left(t \\right)}\\mathbf{\\hat{e}_x} + r{\\left(t \\right)} \\frac{d}{d t} \\theta{\\left(t \\right)}\\mathbf{\\hat{e}_y}$"
      ],
      "text/plain": [
       "Derivative(r(t), t)*E.x + r(t)*Derivative(theta(t), t)*E.y"
      ]
     },
     "execution_count": 5,
     "metadata": {},
     "output_type": "execute_result"
    }
   ],
   "source": [
    "# Your coded answers here (and create more Code cells if you wish to)\n",
    "r = dynamicsymbols('r')\n",
    "r_vec = r * E.x\n",
    "v_vec = r_vec.dt(N)\n",
    "v_vec"
   ]
  },
  {
   "cell_type": "markdown",
   "id": "05457fc0",
   "metadata": {},
   "source": [
    "## Part 2\n",
    "From Equations $(1.4)$ and $(1.5)$, we can compute the cross-product that gives us the specific angular momentum as\n",
    "$$\n",
    "{\\bf h} = r^2 \\dot\\theta {\\bf \\hat e}_z\n",
    "$$\n",
    "where ${\\bf \\hat e}_z$ is a unit vector orthogonal to the plane defined by ${\\bf \\hat e}_r$ and ${\\bf \\hat e}_\\theta$. Using `sympy`, we can also check our answer in the following way:"
   ]
  },
  {
   "cell_type": "code",
   "execution_count": 6,
   "id": "20675fc3",
   "metadata": {},
   "outputs": [
    {
     "data": {
      "text/latex": [
       "$\\displaystyle r^{2}{\\left(t \\right)} \\frac{d}{d t} \\theta{\\left(t \\right)}\\mathbf{\\hat{e}_z}$"
      ],
      "text/plain": [
       "r(t)**2*Derivative(theta(t), t)*E.z"
      ]
     },
     "execution_count": 6,
     "metadata": {},
     "output_type": "execute_result"
    }
   ],
   "source": [
    "h_vec = r_vec.cross(v_vec)\n",
    "h_vec"
   ]
  },
  {
   "cell_type": "markdown",
   "id": "ece1f775-c674-4352-b1f3-423e4310d800",
   "metadata": {},
   "source": [
    "## Question 3\n",
    "The velocity of a satellite in orbit is given by ${\\bf v} = \\dot {\\bf r}$. Using the results of Question 1, show that the acceleration is\n",
    "$$\n",
    "(\\ddot r - r \\dot\\theta^2) {\\bf e}_r + \\frac{1}{r} \\frac{d}{dt}(r^2 \\dot\\theta) {\\bf e}_\\theta \n",
    "$$"
   ]
  },
  {
   "cell_type": "markdown",
   "id": "5df54898",
   "metadata": {},
   "source": [
    "# Solution 2\n",
    "## Part 1\n",
    "We know that acceleration is given by\n",
    "$$\n",
    "{\\bf a} \\triangleq  \\frac{^Nd}{dt}{\\bf v}\n",
    "\\tag{1.6}\n",
    "$$\n",
    "\n",
    "Substituting Equation $(1.5)$ into Equation $(1.6)$, we can rewrite the time derivative on the RHS of Equation $(1.4)$ to get\n",
    "$$\n",
    "{\\bf a} = \\ddot r {\\bf e}_r \n",
    "            + \\dot r \\frac{^Nd}{dt}{\\bf e}_r \n",
    "            + \\bigg( \\dot r \\dot \\theta\n",
    "            + r \\ddot \\theta\\bigg){\\bf e}_\\theta\n",
    "            + r \\dot \\theta \\frac{^Nd}{dt}{\\bf e}_\\theta.\n",
    "\\tag{1.7}\n",
    "$$\n",
    "\n",
    "Then, we invoke results from Equation ($1.3$) in Equation $(1.8)$ to get:\n",
    "$$\n",
    "{\\bf a} = (\\ddot r - r \\dot \\theta^2){\\bf e}_r \n",
    "            + \\bigg( 2 \\dot r \\dot \\theta\n",
    "            + r \\ddot \\theta\\bigg){\\bf e}_\\theta\n",
    "\\tag{1.8}\n",
    "$$\n",
    "\n",
    "The last term's scalar on the RHS can also be rewritten as\n",
    "$$\n",
    "\\bigg( 2 \\dot r \\dot \\theta + r \\ddot \\theta\\bigg) = \\frac{1}{r}\\frac{d}{dt}({r^2 \\dot \\theta})\n",
    "\\tag{1.9}\n",
    "$$\n",
    "thus allowing Equation $(1.8)$ to be rewritten as\n",
    "$$\n",
    "{\\bf a} =  (\\ddot r - r \\dot\\theta^2) {\\bf e}_r + \\frac{1}{r} \\frac{d}{dt}(r^2 \\dot\\theta) {\\bf e}_\\theta.\n",
    "\\tag{1.10}\n",
    "$$\n",
    "\n",
    "We can check out work `sympy` quite easily, which also highlights its computational power (however, this is only fully evident to the student when attempting to derive by hand)."
   ]
  },
  {
   "cell_type": "code",
   "execution_count": 7,
   "id": "479d0db8",
   "metadata": {},
   "outputs": [
    {
     "data": {
      "text/latex": [
       "$\\displaystyle (- r{\\left(t \\right)} \\left(\\frac{d}{d t} \\theta{\\left(t \\right)}\\right)^{2} + \\frac{d^{2}}{d t^{2}} r{\\left(t \\right)})\\mathbf{\\hat{e}_x} + (r{\\left(t \\right)} \\frac{d^{2}}{d t^{2}} \\theta{\\left(t \\right)} + 2 \\frac{d}{d t} r{\\left(t \\right)} \\frac{d}{d t} \\theta{\\left(t \\right)})\\mathbf{\\hat{e}_y}$"
      ],
      "text/plain": [
       "(-r(t)*Derivative(theta(t), t)**2 + Derivative(r(t), (t, 2)))*E.x + (r(t)*Derivative(theta(t), (t, 2)) + 2*Derivative(r(t), t)*Derivative(theta(t), t))*E.y"
      ]
     },
     "execution_count": 7,
     "metadata": {},
     "output_type": "execute_result"
    }
   ],
   "source": [
    "# Your coded answers here (and create more Code cells if you wish to)\n",
    "a_vec = v_vec.dt(N)\n",
    "a_vec"
   ]
  },
  {
   "cell_type": "markdown",
   "id": "7ecc5a49-b647-461b-88e5-966aa15b0475",
   "metadata": {},
   "source": [
    "## Question 4\n",
    "The gravitational force acting on an orbiting satellite is given by:\n",
    "$$\n",
    "{\\bf F} = -\\frac{\\mu m}{r^3}{\\bf r}\n",
    "$$\n",
    "where $\\mu$ is the gravitational parameter and and $m$ is the mass of the satellite. Write down the vector equation of motion and then write down its radial (direction ${\\bf \\hat e}_r$) and azimuthal (direction ${\\bf \\hat e}_\\theta$) components."
   ]
  },
  {
   "cell_type": "markdown",
   "id": "e5bb466d",
   "metadata": {},
   "source": [
    "# Solution 4\n",
    "From Newton's law, we know that\n",
    "$$\n",
    "{\\bf F} = m\\ddot{\\bf r}.\n",
    "\\tag{1.11}\n",
    "$$\n",
    "Subsitituing for $\\bf F$ from the problem satatement, we write the above Equation as\n",
    "$$\n",
    "-\\frac{\\mu m}{r^3}{\\bf r} = m\\ddot{\\bf r}.\n",
    "\\tag{1.12}\n",
    "$$\n",
    "Rewriting ${\\bf r}$ and $\\ddot{\\bf r}$ in their component form along ${\\bf \\hat e}_r$ and ${\\bf \\hat e}_\\theta$, we reach the following two scalar equations\n",
    "$$\n",
    "-\\frac{\\mu}{r^2} = (\\ddot r - r \\dot\\theta^2)\n",
    "\\tag{1.13}\n",
    "$$\n",
    "\n",
    "$$\n",
    "0 = \\frac{1}{r} \\frac{d}{dt}(r^2 \\dot\\theta).\n",
    "\\tag{1.14}\n",
    "$$\n",
    "\n",
    "In the case of `sympy`, we begin by create `F` to store the value of $\\bf F$; this makes use of new symbols for $\\mu$ and $m$ as well as the pre-created variable vector `r_vec` that represents the $\\bf r$."
   ]
  },
  {
   "cell_type": "code",
   "execution_count": 8,
   "id": "a84ea5da",
   "metadata": {},
   "outputs": [],
   "source": [
    "from sympy import symbols\n",
    "mu, m = symbols('mu m')\n",
    "F = - mu * m /r**3 * r_vec"
   ]
  },
  {
   "cell_type": "markdown",
   "id": "ee019ddf",
   "metadata": {},
   "source": [
    "Then, we rewrite the vector equation (1.11) as\n",
    "$$\n",
    "{\\bf F} - m\\ddot{\\bf r} = 0\n",
    "\\tag{1.15}\n",
    "$$\n",
    "and then ask the computer evalaute LHS terms by the following"
   ]
  },
  {
   "cell_type": "code",
   "execution_count": 9,
   "id": "34f8ab14",
   "metadata": {},
   "outputs": [],
   "source": [
    "LHS_of_Equation_115 = F - m*a_vec"
   ]
  },
  {
   "cell_type": "markdown",
   "id": "9bd13647",
   "metadata": {},
   "source": [
    "We can then take the dot products along ${\\bf \\hat e}_r$ and ${\\bf \\hat e}_\\theta$ to get two scalar equations that are identical to Equations $(1.13)$ and $(1.14)$, when they are both equated to zero."
   ]
  },
  {
   "cell_type": "code",
   "execution_count": 10,
   "id": "74cf9181",
   "metadata": {},
   "outputs": [
    {
     "data": {
      "text/latex": [
       "$\\displaystyle - \\frac{m \\mu}{r^{2}{\\left(t \\right)}} - m \\left(- r{\\left(t \\right)} \\left(\\frac{d}{d t} \\theta{\\left(t \\right)}\\right)^{2} + \\frac{d^{2}}{d t^{2}} r{\\left(t \\right)}\\right)$"
      ],
      "text/plain": [
       "-m*mu/r(t)**2 - m*(-r(t)*Derivative(theta(t), t)**2 + Derivative(r(t), (t, 2)))"
      ]
     },
     "execution_count": 10,
     "metadata": {},
     "output_type": "execute_result"
    }
   ],
   "source": [
    "LHS_of_Equation_115.dot(E.x) # this is the scalar equation along radial direction"
   ]
  },
  {
   "cell_type": "code",
   "execution_count": 11,
   "id": "bb379779",
   "metadata": {},
   "outputs": [
    {
     "data": {
      "text/latex": [
       "$\\displaystyle - m \\left(r{\\left(t \\right)} \\frac{d^{2}}{d t^{2}} \\theta{\\left(t \\right)} + 2 \\frac{d}{d t} r{\\left(t \\right)} \\frac{d}{d t} \\theta{\\left(t \\right)}\\right)$"
      ],
      "text/plain": [
       "-m*(r(t)*Derivative(theta(t), (t, 2)) + 2*Derivative(r(t), t)*Derivative(theta(t), t))"
      ]
     },
     "execution_count": 11,
     "metadata": {},
     "output_type": "execute_result"
    }
   ],
   "source": [
    "LHS_of_Equation_115.dot(E.y)"
   ]
  },
  {
   "cell_type": "markdown",
   "id": "f6a1c295-fd3c-4699-bea3-3d2c311ec7bc",
   "metadata": {},
   "source": [
    "![](imgs/Handwritten_Solutions.pdf)"
   ]
  }
 ],
 "metadata": {
  "kernelspec": {
   "display_name": "Python 3 (ipykernel)",
   "language": "python",
   "name": "python3"
  },
  "language_info": {
   "codemirror_mode": {
    "name": "ipython",
    "version": 3
   },
   "file_extension": ".py",
   "mimetype": "text/x-python",
   "name": "python",
   "nbconvert_exporter": "python",
   "pygments_lexer": "ipython3",
   "version": "3.8.13"
  }
 },
 "nbformat": 4,
 "nbformat_minor": 5
}
