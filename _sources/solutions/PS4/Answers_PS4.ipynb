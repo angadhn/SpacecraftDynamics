{
 "cells": [
  {
   "cell_type": "markdown",
   "metadata": {
    "id": "6VL8nbLvdY53",
    "nbgrader": {
     "grade": false,
     "grade_id": "cell-43c90a2ab0c6af02",
     "locked": true,
     "schema_version": 3,
     "solution": false,
     "task": false
    },
    "tags": []
   },
   "source": [
    "# Coursework 1 (60 points; 4 questions)\n",
    "\n",
    "\n",
    "# Relevant constants\n",
    "\n",
    "You may find the follow data useful in computations for this assessment.\n",
    "\n",
    "- Radius of the Moon, $R_M$ = $1738$ $km$\n",
    "\n",
    "- Moon's gravitational parameter $\\mu_M = 4903 km^3 s ^{-2}$\n",
    "\n",
    "These constants have been defined in the variables `R_m`, and `mu_m` for you in the code-cell below. Please make use of these variables in your calculations/formulae.\n",
    "\n",
    "In the same code cell, we have also provided access to the constant for $\\pi$ (`pi` in computing font), and access to the sine and cosine functions (`sin` and `cos` respectively). As an example, we also demonstrate how to use `sin` and `pi`.\n",
    "\n",
    "Lastly, we also demonstrate how to use `abs` to get the absolute value of a number (or function). You may find you need this in various calculations.\n",
    "\n",
    "# Note 1\n",
    "Alongside this solution, it is recommended that you also submit handwritten work. It will be considered in evaluating your answers here. You can do so by uploading a scanned pdf of your handwritten work in the `images` folder. Ensure to name the file `Handwritten_Solutions.pdf`. DO NOT USE ANY OTHER NAME FOR THIS FILE!"
   ]
  },
  {
   "cell_type": "code",
   "execution_count": null,
   "metadata": {
    "id": "PfaGO_kcnDKZ",
    "nbgrader": {
     "grade": false,
     "grade_id": "cell-668bd28801b4eecd",
     "locked": true,
     "schema_version": 3,
     "solution": false,
     "task": false
    },
    "tags": []
   },
   "outputs": [],
   "source": [
    "R_m = 1738\n",
    "mu_m = 4903\n",
    "from math import sin, cos, pi\n",
    "print(\"You can see the result for sin(pi) is\", sin(pi))\n",
    "print(\"The absolute value of -1 is:\", abs(-1))"
   ]
  },
  {
   "cell_type": "markdown",
   "metadata": {
    "id": "_p6z4kEScp0k",
    "nbgrader": {
     "grade": false,
     "grade_id": "cell-a758bb65d182edb8",
     "locked": true,
     "schema_version": 3,
     "solution": false,
     "task": false
    }
   },
   "source": [
    "# Note 2\n",
    "In developing your solutions for various orbits in this problem set, you will need to create more variables to explain your work and thinking. We will be checking the values of some of these symbols to gauge your understanding of the material. The below table describes some examples of how you should choose variable names.\n",
    "\n",
    "| Parameters                      | Math symbol | Equivalent computer symbol |\n",
    "| ------------------------------- | --------------- | ------------------ |\n",
    "| semi-major axis of Lunar Orbit  | $a_{lo}$        | `a_lunar_orbit`             |\n",
    "| semi-minor axis of Lunar Orbit  | $b_{lo}$        | `b_lunar_orbit`             |\n",
    "| Lunar Orbit apoapsis            | $r_{al}$        | `r_a_lunar_orbit`  |\n",
    "| Lunar Orbit periapsis           | $r_{pl}$        | `r_p_lunar_orbit`  |\n",
    "| Lunar Orbit eccentricity        | $e_{lo}$        | `e_lunar_orbit`                |\n",
    "| change in the inclination angle | $\\Delta i$      | `delta_i`          |\n",
    "| velocity impulse (magnitude only)                         | $\\Delta v$      | `delta_v`          |\n",
    "| Orbital period          | $T$        | `T`             |\n",
    "| escape velocity (magnitude only)                        | $v_e$      | `v_e`          |\n",
    "| Velocity at apolune (magnitude only)                     | $v_a$      | `v_a_lunar_orbit`          |\n",
    "| Velocity at perilune (magnitude only)                       | $v_p$      | `v_p_lunar_orbit`          |\n",
    "| Circular velocity (magnitude only)                       | $v_c$      | `v_c_lunar_orbit`          |\n",
    "\n",
    "# Problem 1 (15 points)\n",
    "\n",
    "The first spacecraft to orbit the Moon was Luna $10$, launched by the former Soviet Union in $1966$. The orbit of the satellite about the Moon took it from $350$ $km$ above the lunar surface out to $1017$ km.\n",
    "\n",
    "Compute the semi-major axis and hence orbital period (in hours) of Luna $10$. These answers are to be stored in variables name `a_lunar_orbit` and `T`, respectively. Create other variables, as needed, for your answers."
   ]
  },
  {
   "cell_type": "code",
   "execution_count": null,
   "metadata": {
    "colab": {
     "base_uri": "https://localhost:8080/"
    },
    "id": "vDrz2VMYckI9",
    "nbgrader": {
     "grade": false,
     "grade_id": "cell-11b9a77d683813f0",
     "locked": false,
     "schema_version": 3,
     "solution": true,
     "task": false
    },
    "outputId": "a1d252da-dd29-4d5f-ae2c-065690c9cf27",
    "tags": []
   },
   "outputs": [],
   "source": [
    "# Compute a\n",
    "r_a_lunar_orbit = R_m + 1017\n",
    "r_p_lunar_orbit = R_m + 350\n",
    "a_lunar_orbit = (r_a_lunar_orbit + r_p_lunar_orbit)/2.\n",
    "print(\"P1a\", a_lunar_orbit)\n",
    "T = 2/3600 * pi * (a_lunar_orbit**3/mu_m)**0.5\n",
    "print(\"P1b\", T)"
   ]
  },
  {
   "cell_type": "markdown",
   "metadata": {
    "nbgrader": {
     "grade": false,
     "grade_id": "cell-1bf19b7348d68670",
     "locked": true,
     "schema_version": 3,
     "solution": false,
     "task": false
    },
    "tags": []
   },
   "source": [
    "# Problem 2 (15 points)\n",
    "What is the velocity impulse (i.e., $\\Delta v$) required at pericentre to escape the lunar gravitational influence? You may neglect the Earth’s gravitational influence. Stored your answer under the variable name `delta_v`. Create other variables, as needed, for your answers."
   ]
  },
  {
   "cell_type": "code",
   "execution_count": null,
   "metadata": {
    "colab": {
     "base_uri": "https://localhost:8080/"
    },
    "id": "ast4IVaXx3yA",
    "nbgrader": {
     "grade": false,
     "grade_id": "cell-1f4f35dc139e4875",
     "locked": false,
     "schema_version": 3,
     "solution": true,
     "task": false
    },
    "outputId": "ba43d520-2167-4925-8b18-357b7d81d1f5",
    "tags": []
   },
   "outputs": [],
   "source": [
    "# Velocity impusle required\n",
    "v_p_lunar_orbit = (mu_m * (2/r_p_lunar_orbit - 1/ a_lunar_orbit))**0.5\n",
    "v_e = (2*mu_m / r_p_lunar_orbit)**0.5\n",
    "delta_v = abs(v_e - v_p_lunar_orbit)\n",
    "print(\"P2\", delta_v)"
   ]
  },
  {
   "cell_type": "markdown",
   "metadata": {
    "id": "SO5O6F3quuOn",
    "nbgrader": {
     "grade": false,
     "grade_id": "cell-518235aa92f8c8bd",
     "locked": true,
     "schema_version": 3,
     "solution": false,
     "task": false
    }
   },
   "source": [
    "# Problem 3 (10 points)\n",
    "Having analysed the parabolic orbit, you are now asked to study a rotational maneuver to change the inclination of the satellite's elliptical orbit by $60^o$. What is the $\\Delta v$ required for this plane change? Store your answer in variable called `delta_v_plane_change`. Create other variables, as needed, for your answers."
   ]
  },
  {
   "cell_type": "code",
   "execution_count": null,
   "metadata": {
    "colab": {
     "base_uri": "https://localhost:8080/"
    },
    "id": "sf15DIQRsomk",
    "nbgrader": {
     "grade": false,
     "grade_id": "cell-84cb2061105829f8",
     "locked": false,
     "schema_version": 3,
     "solution": true,
     "task": false
    },
    "outputId": "2d4f5319-a5d3-41aa-972f-2cc1bedcafa9",
    "tags": []
   },
   "outputs": [],
   "source": [
    "# final answer\n",
    "delta_i = pi / 3\n",
    "delta_v_plane_change = 2 * v_p_lunar_orbit * sin(delta_i /2)\n",
    "print(\"P3\", delta_v_plane_change)"
   ]
  },
  {
   "cell_type": "markdown",
   "metadata": {
    "id": "-0ObCH8n1HZe",
    "nbgrader": {
     "grade": false,
     "grade_id": "cell-420b01c376bc2ed0",
     "locked": true,
     "schema_version": 3,
     "solution": false,
     "task": false
    },
    "tags": []
   },
   "source": [
    "# Problem 4 (20 points)\n",
    "A lunar module (LM) lifts off the surface of the Moon and flies in a powered trajectory to its burnout point at an altitude of 30 km. At this point the LM is travelling purely transversal and coasts around the Moon for half an orbit, at which point it is to rendezvous with the orbiting command module (CM), which is in a circular orbit of altitude 250 km.\n",
    "\n",
    "What is the burnout speed of the LM? Store your answer in a variable named `v_burnout_of_lunar_module`.\n",
    "\n",
    "What is the magnitude of the final impulse manoeuvre at rendezvous? Store your answer in the variable named `delta_v_rendezvous`.\n",
    "\n",
    "__Hint__: For this problem, you will need to create variables with naming conventions that allow us to distinguish between the orbit parameters of the LM from that of the CM. As one example, I recommend using `r_p_lunar_orbit_of_lunar_module` for the perilune of the lunar module. As another example, `r_c_lunar_orbit_of_command_module` for the circular radius of the command module (remember, it is in a circular orbit). This hint is important because there are two satellites involved in the maneuvers described here."
   ]
  },
  {
   "cell_type": "code",
   "execution_count": null,
   "metadata": {
    "id": "xbGHDZ2-1TC3",
    "nbgrader": {
     "grade": false,
     "grade_id": "cell-d4b764e24372fbc6",
     "locked": false,
     "schema_version": 3,
     "solution": true,
     "task": false
    },
    "tags": []
   },
   "outputs": [],
   "source": [
    "r_p_lunar_orbit_of_lunar_module = R_m + 30\n",
    "r_a_lunar_orbit_of_lunar_module = R_m + 250\n",
    "\n",
    "a_lunar_orbit_of_lunar_module = 1/2* (r_p_lunar_orbit_of_lunar_module + r_a_lunar_orbit_of_lunar_module)\n",
    "E_lunar_orbit_of_lunar_module  = - mu_m / (2*a_lunar_orbit_of_lunar_module)\n",
    "\n",
    "v_p_of_lunar_module = (mu_m * (2/r_p_lunar_orbit_of_lunar_module - 1/ a_lunar_orbit_of_lunar_module))**0.5\n",
    "\n",
    "v_burnout_of_lunar_module = v_p_of_lunar_module\n",
    "\n",
    "print(\"P4a\", v_burnout_of_lunar_module)\n",
    "\n",
    "v_a_of_lunar_module = (2*mu_m/r_a_lunar_orbit_of_lunar_module + 2 * E_lunar_orbit_of_lunar_module)**0.5\n",
    "\n",
    "r_c_lunar_orbit_of_command_module = 250\n",
    "\n",
    "v_c_of_command_module = (mu_m /r_c_lunar_orbit_of_command_module)**0.5\n",
    "\n",
    "delta_v_rendezvous = abs(v_c_of_command_module - v_a_of_lunar_module)\n",
    "\n",
    "print(\"P4b\", delta_v_rendezvous)"
   ]
  }
 ],
 "metadata": {
  "colab": {
   "provenance": []
  },
  "kernelspec": {
   "display_name": "Python 3 (ipykernel)",
   "language": "python",
   "name": "python3"
  },
  "language_info": {
   "codemirror_mode": {
    "name": "ipython",
    "version": 3
   },
   "file_extension": ".py",
   "mimetype": "text/x-python",
   "name": "python",
   "nbconvert_exporter": "python",
   "pygments_lexer": "ipython3",
   "version": "3.8.13"
  }
 },
 "nbformat": 4,
 "nbformat_minor": 4
}
