{
 "cells": [
  {
   "cell_type": "markdown",
   "id": "c9f54449-7bf9-424e-82d0-274765f5706c",
   "metadata": {},
   "source": [
    "# Problem Set 3"
   ]
  },
  {
   "cell_type": "markdown",
   "id": "ef68f29b-b968-43a7-aff9-5dc9e5d576f4",
   "metadata": {},
   "source": [
    "# Question 1\n",
    "\n",
    "In November $1998$, a satellite was discovered orbiting the $215$ $km$ diameter asteroid ($45$) Eugenia. The measured orbital radius and period of the satellite’s orbit, assumed circular, was $1200$ $km$ and\n",
    "$4.7$ days respectively.\n",
    "- Assuming the satellite to be massless, compute a mass estimate for Eugenia and hence derive an estimate of its density assuming it is spherical.\n",
    "- For a measurement error of 0.1 days in the orbital period, what is the resulting percent relative error in the estimated mass?"
   ]
  },
  {
   "cell_type": "markdown",
   "id": "3e8e02f9",
   "metadata": {},
   "source": [
    "# Solution 1\n",
    "## Part a: Eugenia estimates of mass and density\n",
    "From Kepler’s third law we have\n",
    "$$\n",
    "\\mu = n^2a^3.\n",
    "$$\n",
    "\n",
    "As the probe is massless we can make the simplification $\\mu \\approx mG$. As a result we have\n",
    "$$\n",
    "m = \\mu/G = n^2a^3/G\\\\\n",
    "$$\n",
    "$$\n",
    "m = \\frac{4\\pi^2 \\times 1200^3}{4.7^2 \\times 86400^2 \\times 6.672 \\times 10^{-20}} = 6.2 \\times 10^18 kg.\n",
    "$$\n",
    "\n",
    "Similarly, for the volume we have\n",
    "$$\n",
    "V = \\frac{4}{3}\\pi R^3\n",
    "$$\n",
    "where $R$ is Eugenia’s radius and is $107.5$ $km$. The above equation then gives\n",
    "$V = 5.2 \\times 10^{15}$ $m^3$.\n",
    "\n",
    "Then, we can compute the density, $\\rho = m/V = 1200 kg/m3 = 1.2 g/cm3$.\n"
   ]
  },
  {
   "cell_type": "code",
   "execution_count": 1,
   "id": "feb24b1d",
   "metadata": {},
   "outputs": [
    {
     "name": "stdout",
     "output_type": "stream",
     "text": [
      "Eugenia's mass is 6.200464657880706e+18 kg\n",
      "Eugenia's density is 1191544412161.9224 kg/m^3\n"
     ]
    }
   ],
   "source": [
    "# Your coded answers here (and create more Code cells if you wish to)\n",
    "from math import pi\n",
    "diameter_of_Eugenia = 215\n",
    "radius_of_Eugenia = diameter_of_Eugenia/2\n",
    "n_Eugenia = 2 * pi\n",
    "a_Eugenia = 1200\n",
    "mu_Eugenia = n_Eugenia**2 * a_Eugenia**3\n",
    "G_eugenia = 4.7**2 * 86400**2 * 6.672 * 10**-20\n",
    "\n",
    "mass_of_Eugenia = mu_Eugenia / G_eugenia\n",
    "print(\"Eugenia's mass is\", mass_of_Eugenia, \"kg\")\n",
    "\n",
    "volume_of_Eugenia = 4/3 * pi * radius_of_Eugenia**3\n",
    "rho_Eugenia = mass_of_Eugenia/volume_of_Eugenia\n",
    "print(\"Eugenia's density is\", rho_Eugenia, \"kg/m^3\")"
   ]
  },
  {
   "cell_type": "markdown",
   "id": "63634d42",
   "metadata": {},
   "source": [
    "## Part b: % error in mass estimate\n",
    "Di↵erentiating Kepler’s third law with respect to the orbital period gives\n",
    "$$\n",
    "\\lvert{\\delta\\mu}\\rvert = 8\\pi^2\\bigg(\\frac{a}{T}\\bigg)^{3} \\Delta T.\n",
    "$$\n",
    "The percent relative error is then computed to be\n",
    "$$\n",
    "\\frac{\\delta\\mu}{\\mu} \\times 100 = 8\\pi^2\\bigg(\\frac{1200}{4.7 \\times 86400}\\bigg)^{3} \\frac{0.1 \\times 86400}{0.4137} \\times 100 \\approx 4%.\n",
    "$$"
   ]
  },
  {
   "cell_type": "code",
   "execution_count": 2,
   "id": "03f3e0c4",
   "metadata": {},
   "outputs": [
    {
     "name": "stdout",
     "output_type": "stream",
     "text": [
      "percentage error is 4.255267739227219 %\n"
     ]
    }
   ],
   "source": [
    "error_in_Mass_Estimate = 8* pi**2 * (1200/(4.7 * 86400))**3 * 0.1 * 86400/0.4137 * 100\n",
    "print(\"percentage error is\", error_in_Mass_Estimate, \"%\")"
   ]
  },
  {
   "cell_type": "markdown",
   "id": "ea3e9bce",
   "metadata": {},
   "source": [
    "# Question 2\n",
    "In a geocentric equatorial coordinate system the location of a satellite is ${\\bf r} = (1165.77, -3016.32, -6364.18)$ $km$. The satellite is travelling with a velocity vector ${\\bf v} =  (9.63, 1.92, 0.44)$ $kms^{-1}$. Compute the specific energy and the semi-major axis of the orbit."
   ]
  },
  {
   "cell_type": "markdown",
   "id": "1c465fa4",
   "metadata": {},
   "source": [
    "# Solution 2\n",
    "We compute the magnitudes of $\\bf r$ and $\\bf v$ as $r$ and $v$ as\n",
    "$$\n",
    "r = 7.1386 \\times 10^3 km\n",
    "$$\n",
    "\n",
    "$$\n",
    "v = 9.83 \\quad km s^-1\n",
    "$$\n",
    "respectively.\n",
    "\n",
    "Then, the specific energy is given by\n",
    "$$\n",
    "E = \\frac{v^2}{2} - \\frac{\\mu}{r} = -7.5286 \\quad km^2s^{-2}\n",
    "$$\n",
    "\n",
    "and the semi-major axis of this orbit is\n",
    "$$\n",
    "a = -\\frac{\\mu}{2E} = 26472.3  \\quad km.\n",
    "$$"
   ]
  },
  {
   "cell_type": "code",
   "execution_count": 3,
   "id": "12fa0358",
   "metadata": {},
   "outputs": [
    {
     "name": "stdout",
     "output_type": "stream",
     "text": [
      "the specific orbital energy is -7.528619108874395 km^2/s^2\n",
      "the semi-major axis is 26472.31811276974 km\n"
     ]
    }
   ],
   "source": [
    "# Your coded answers here (and create more Code cells if you wish to)\n",
    "from math import sqrt\n",
    "# Data\n",
    "r = (1165.77, -3016.32, -6364.18)\n",
    "v = (9.63, 1.92, 0.44)\n",
    "R_Earth = 6378.14 # in km\n",
    "mu_Earth = 3.986 * 10**5 # in km**3 s**(-2)\n",
    "\n",
    "# Magnitude of r and v\n",
    "r_magnitude = sqrt(r[0]**2 + r[1]**2 + r[2]**2)\n",
    "v_magnitude = sqrt(v[0]**2 + v[1]**2 + v[2]**2)\n",
    "\n",
    "specific_Orbital_Energy = v_magnitude**2/2 - mu_Earth/r_magnitude\n",
    "print(\"the specific orbital energy is\", specific_Orbital_Energy, \"km^2/s^2\")\n",
    "a = - mu_Earth/(2*specific_Orbital_Energy)\n",
    "print(\"the semi-major axis is\", a, \"km\")"
   ]
  },
  {
   "cell_type": "markdown",
   "id": "db111724",
   "metadata": {},
   "source": [
    "# Question 3\n",
    "For the same satellite as in the previous question, compute the components of the angular momentum and the inclination of the orbit."
   ]
  },
  {
   "cell_type": "markdown",
   "id": "2187dc0a",
   "metadata": {},
   "source": [
    "# Solution 3\n",
    "\n",
    "$$\n",
    "H_x =  y \\dot z - z \\dot y = 10892.045 \\quad km^2s^{-1}\n",
    "$$\n",
    "\n",
    "$$\n",
    "H_y =  z \\dot x - x \\dot z = -61799.045 \\quad km^2s^{-1}\n",
    "$$\n",
    "\n",
    "$$\n",
    "H_z =  x \\dot y - y \\dot yx = 31285.44 \\quad km^2s^{-1}\n",
    "$$\n",
    "\n",
    "Hence total angular momentum is $H = 70118.86$ $km^2s^{-1}$ and $\\cos(I) = H_z/H \\rightarrow I = 63.5^o$."
   ]
  },
  {
   "cell_type": "code",
   "execution_count": 12,
   "id": "8410d38a",
   "metadata": {},
   "outputs": [
    {
     "name": "stdout",
     "output_type": "stream",
     "text": [
      "the components of angular momentum are 10892.0448 , -61799.99220000001 and 31285.440000000002\n",
      "the magnitude of angular momentum is 70118.85931644117 km^2/s\n",
      "the inclination is 63.50131632892303 degrees.\n"
     ]
    }
   ],
   "source": [
    "# Your coded answers here (and create more Code cells if you wish to)\n",
    "H_x = r[1]*v[2] - r[2]*v[1]\n",
    "H_y = r[2]*v[0] - r[0]*v[2]\n",
    "H_z = r[0]*v[1] - r[1]*v[0]\n",
    "print(\"the components of angular momentum are\", H_x, \",\", H_y, \"and\", H_z)\n",
    "H_magnitude = sqrt(H_x**2 + H_y**2 + H_z**2)\n",
    "print(\"the magnitude of angular momentum is\", H_magnitude, \"km^2/s\")\n",
    "\n",
    "from math import acos\n",
    "i = acos(H_z/H_magnitude)\n",
    "print(\"the inclination is\", i * 180/pi, \"degrees.\")"
   ]
  },
  {
   "cell_type": "markdown",
   "id": "de621560",
   "metadata": {},
   "source": [
    "# Question 4\n",
    "A LEO satellite is in a circular orbit of altitude 650 km. How long does it take to go round the\n",
    "Earth? How many orbits will it complete in one day? If we want the satellite to perform exactly 16\n",
    "orbits per day, what altitude would the satellite need to be at?\n",
    "**Earth data**\n",
    "$$\n",
    "R_{Earth} = 6378.14 km\n",
    "$$\n",
    "$$\n",
    "\\mu = 3.986 \\times 10^5 km^3s^{-2}\n",
    "$$"
   ]
  },
  {
   "cell_type": "markdown",
   "id": "271cdf08",
   "metadata": {},
   "source": [
    "# Solution 4\n",
    "## Part a\n",
    "$a = R_{Earth} + 650 = 7028.14$ $km$. Hence $n = \\sqrt{\\mu/a^3} = 0.00107$ $s^{-1}$. Hence T, the orbital period, is $1.628$ hours or\n",
    "$1^h 37^m 40.8^s$.\n",
    "\n",
    "## Part b: Orbits in one day\n",
    "THe satellite will complete $24/T = 14.73$ orbits in one day.\n",
    "\n",
    "## Part c: Altitude for 16 orbits/day\n",
    "For exactly $16$ orbits, we need a period of $24/16$ hours, i.e. $90$ minutes or $5400$ secs.\n",
    "\n",
    "$n = 2\\pi/5400 = 0.00116$ $s^{-1}$. From this, we can determine\n",
    "$a = 6652.55$ $km$; so the altitude of the orbit would be $274.413$ $km$."
   ]
  },
  {
   "cell_type": "code",
   "execution_count": null,
   "id": "de8206ac",
   "metadata": {},
   "outputs": [
    {
     "name": "stdout",
     "output_type": "stream",
     "text": [
      "The orbital period is 1.628805872407306 hours\n",
      "the number of orbits in one day is 14.734720942851844\n",
      "the altitude for 16 orbits per day is 274.4132434776084 km\n"
     ]
    }
   ],
   "source": [
    "# Your coded answers here (and create more Code cells if you wish to)\n",
    "h_orbit = 650 # in km \n",
    "a = R_Earth + h_orbit\n",
    "n = sqrt(mu_Earth/a**3)\n",
    "\n",
    "T = 2 * pi * sqrt(a**3/mu_Earth) # seconds\n",
    "print(\"The orbital period is\", T/3600 , \"hours\")\n",
    "\n",
    "number_of_orbits_in_one_day = 24 * (3600 / T)\n",
    "print(\"the number of orbits in one day is\", number_of_orbits_in_one_day)\n",
    "\n",
    "T_for_16_orbits_per_day = 24/16*3600\n",
    "n_for_16_orbits_per_day = 2*pi/T_for_16_orbits_per_day\n",
    "a_for_16_orbits_per_day = (mu_Earth/n_for_16_orbits_per_day**2)**(1/3)\n",
    "h_for_16_orbits_per_day = a_for_16_orbits_per_day - R_Earth\n",
    "print(\"the altitude for 16 orbits per day is\", h_for_16_orbits_per_day, \"km\")"
   ]
  }
 ],
 "metadata": {
  "kernelspec": {
   "display_name": "Python 3 (ipykernel)",
   "language": "python",
   "name": "python3"
  },
  "language_info": {
   "codemirror_mode": {
    "name": "ipython",
    "version": 3
   },
   "file_extension": ".py",
   "mimetype": "text/x-python",
   "name": "python",
   "nbconvert_exporter": "python",
   "pygments_lexer": "ipython3",
   "version": "3.8.13"
  }
 },
 "nbformat": 4,
 "nbformat_minor": 5
}
