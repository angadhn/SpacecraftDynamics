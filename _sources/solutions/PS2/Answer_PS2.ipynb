{
 "cells": [
  {
   "cell_type": "markdown",
   "id": "c9f54449-7bf9-424e-82d0-274765f5706c",
   "metadata": {},
   "source": [
    "# Problem Set 2\n",
    "\n",
    "**Earth data**\n",
    "$$\n",
    "R^{Equator} = 6384 km\n",
    "$$\n",
    "$$\n",
    "R^{Pole} = 6353 km\n",
    "$$\n",
    "$$\n",
    "\\mu = 3.986 \\times 10^5 km^3s^{-2}\n",
    "$$"
   ]
  },
  {
   "cell_type": "markdown",
   "id": "ef68f29b-b968-43a7-aff9-5dc9e5d576f4",
   "metadata": {},
   "source": [
    "## Question 1\n",
    "A remote sensing satellite is in a polar orbit with its line of apsides on the equator. The perigee of the orbit is at altitude of $620$ $km$ and the eccentricity of the orbit is $e = 0.04$. Calculate the semi-major axis of this orbit and show that the altitude at apogee is approximately $1200$ $km$."
   ]
  },
  {
   "cell_type": "markdown",
   "id": "75a08dfa",
   "metadata": {},
   "source": [
    "# Solution 1\n",
    "We are told that $e$, the eccentricity of the orbit, is 0.04. And that the altitude at perigee, denoted by $h_p$, is $620$ $km$. We are asked to determine $a$ (semi-major axis of the orbit) and the altitude at perigee, which we shall denote as $h_p$. For this purpose, we will also create the following symobls:\n",
    "- $r_p$ is the satellite's perigee;\n",
    "- $r_a$ is the satellite's apogee.\n",
    "\n",
    "For an elliptic orbit, the satellite's perigee point is given by\n",
    "$$\n",
    "r_p = a(1-e)\n",
    "\\tag{2.1}\n",
    "$$\n",
    "or\n",
    "$$\n",
    "a = \\frac{r_p}{1-e}\n",
    "\\tag{2.2}\n",
    "$$.\n",
    "By rewriting $r_p$ as a sum of $R^{Equator}$ and $h_p$, we can rewrite the above equation as\n",
    "$$\n",
    "a = \\frac{R^{Equator} + h_p}{1-e}.\n",
    "\\tag{2.3}\n",
    "$$\n",
    "Then, we substitute for the above to get that $a = 7295.83$ $km$.\n",
    "\n",
    "It is easier and clearer to do the above work with a computer; in this module, we make use of the `Python` programming language."
   ]
  },
  {
   "cell_type": "code",
   "execution_count": 1,
   "id": "28384e60",
   "metadata": {},
   "outputs": [
    {
     "data": {
      "text/plain": [
       "7295.833333333334"
      ]
     },
     "execution_count": 1,
     "metadata": {},
     "output_type": "execute_result"
    }
   ],
   "source": [
    "# Your coded answers here (and create more Code cells if you wish to)\n",
    "R_Equator = 6384\n",
    "h_p = 620\n",
    "e = 0.04\n",
    "r_p = R_Equator + h_p\n",
    "a = (r_p)/(1 - e)\n",
    "a"
   ]
  },
  {
   "cell_type": "markdown",
   "id": "6f3c0acf",
   "metadata": {},
   "source": [
    "The altitude at apogee, $h_a$, is given by\n",
    "$$\n",
    "h_a = r_a - R^{Equator}\n",
    "\\tag{2.4}\n",
    "$$\n",
    "or\n",
    "$$\n",
    "h_a = a(1+e) - R^{Equator}\n",
    "\\tag{2.5}\n",
    "$$\n",
    "which gives $h_a = 1203.66$."
   ]
  },
  {
   "cell_type": "code",
   "execution_count": 2,
   "id": "78617a87",
   "metadata": {},
   "outputs": [
    {
     "data": {
      "text/plain": [
       "1203.6666666666679"
      ]
     },
     "execution_count": 2,
     "metadata": {},
     "output_type": "execute_result"
    }
   ],
   "source": [
    "h_a = a*(1+e) - R_Equator\n",
    "h_a"
   ]
  },
  {
   "cell_type": "markdown",
   "id": "88f51956",
   "metadata": {},
   "source": [
    "## Question 2\n",
    "The satellite carries a camera with a field of view of $26^o$. The camera has a CCD array of $1000$ pixels. Compute the resolution per pixel of this camera at perigee and apogee."
   ]
  },
  {
   "cell_type": "markdown",
   "id": "12ab10b2",
   "metadata": {},
   "source": [
    "# Solution 2\n",
    "The resolution, which has units of $m/ pixel$, is a function of a parameter called swath; a schematic to understand this is sketched out below.\n",
    "\n",
    "![Figure 1](imgs/Soln2_swath_schematic.png)\n",
    "\n",
    "In the above $FoV$ is the field of view of the imaging system (i.e., CCD array), which is in radians.\n",
    "Form this, we can see that swath, $s$, can be calucalted easily. For example, the swath from perigee, $s_p$,\n",
    "$$\n",
    "s_p = 2*h_p*\\tan(FoV/2).\n",
    "\\tag{2.6}\n",
    "$$\n",
    "You should be able to justify to yourselves why the above formula is correct based on fundamental trigonometry.\n",
    "Once $s_p$ is known, we can calculate the resolution from perigee, $r_p$:\n",
    "$$\n",
    "r_p = \\frac{s_p}{\\textrm{number of pixels}}\n",
    "\\tag{2.7}\n",
    "$$\n",
    "You can repeat this process for to determine $r_a$, (where the subscript $a$ corresponds to apogee). It is easier and clearer to do the above work with a computer; in this module, we make use of the `Python` programming language. To aid our computations, `Python` has a `mathz library from which we can import the `tan` and `pi` functions for accurate calculations."
   ]
  },
  {
   "cell_type": "code",
   "execution_count": 3,
   "id": "cd3c3082",
   "metadata": {},
   "outputs": [
    {
     "data": {
      "text/plain": [
       "('The resolutions from perigeed and apogee, respectively, in km/pixel are',\n",
       " 0.28627655699569826,\n",
       " 0.5557766921029395)"
      ]
     },
     "execution_count": 3,
     "metadata": {},
     "output_type": "execute_result"
    }
   ],
   "source": [
    "# Your coded answers here (and create more Code cells if you wish to)\n",
    "from math import tan, pi\n",
    "pixelCount = 1000\n",
    "field_of_view_in_degrees = 26\n",
    "field_of_view_in_radians = field_of_view_in_degrees*pi/180\n",
    "\n",
    "swath_from_perigee = 2*h_p*tan(field_of_view_in_radians/2)\n",
    "swath_from_apogee = 2*h_a*tan(field_of_view_in_radians/2)\n",
    "\n",
    "resolution_from_perigee = swath_from_perigee/pixelCount\n",
    "resolution_from_apogee = swath_from_apogee/pixelCount\n",
    "(\"The resolutions from perigeed and apogee, respectively, in km/pixel are\", resolution_from_perigee, resolution_from_apogee)"
   ]
  },
  {
   "cell_type": "markdown",
   "id": "15e06190",
   "metadata": {},
   "source": [
    "Note that the handwritten solutions provide the solutions in the $m/pixel$."
   ]
  },
  {
   "cell_type": "markdown",
   "id": "9c03f50e",
   "metadata": {},
   "source": [
    "## Question 3\n",
    "Find the altitude of the satellite as it passes over the poles. For the camera onboard the satellite, compute the image resolution over the poles."
   ]
  },
  {
   "cell_type": "markdown",
   "id": "3f6ceedb",
   "metadata": {},
   "source": [
    "# Solution 3\n",
    "\n",
    "We know that the general relationship to compute the satellite's position, $r$, is\n",
    "$$\n",
    "r = \\frac{a(1-e^2)}{1+e\\cos(\\theta)}.\n",
    "\\tag{2.8}\n",
    "$$\n",
    "$\\theta = 90^o$ at the poles, so \n",
    "$$\n",
    "r_{poles} = a(1-e^2).\n",
    "\\tag{2.9}\n",
    "$$\n",
    "The height at the poles is then given by\n",
    "$$\n",
    "h_{poles} = p - r_{poles}.\n",
    "\\tag{2.10}\n",
    "$$\n",
    "\n",
    "We can then compute the resolution at the poles using a procedure identical to that shown in Solution 2 for the perigee and apogee. This is illustrated in `Python` code below. "
   ]
  },
  {
   "cell_type": "code",
   "execution_count": 4,
   "id": "d2ac7eca",
   "metadata": {},
   "outputs": [
    {
     "name": "stdout",
     "output_type": "stream",
     "text": [
      "The altitude at the poles in km is  931.1599999999999\n",
      "The resolution from the poles in km/pixel is 0.4299504496969586\n"
     ]
    }
   ],
   "source": [
    "# Your coded answers here (and create more Code cells if you wish to)\n",
    "r_poles = a*(1-e**2)\n",
    "Radius_of_Earth_at_poles = 6353\n",
    "h_poles = r_poles - Radius_of_Earth_at_poles\n",
    "\n",
    "swath_from_poles = 2*h_poles*tan(field_of_view_in_radians/2)\n",
    "resolution_from_poles = swath_from_poles/pixelCount\n",
    "\n",
    "print(\"The altitude at the poles in km is \", h_poles)\n",
    "print(\"The resolution from the poles in km/pixel is\", resolution_from_poles)"
   ]
  },
  {
   "cell_type": "markdown",
   "id": "c99d399e",
   "metadata": {},
   "source": [
    "## Question 4\n",
    "Calculate the velocity of this spacecraft at perigee, and the angular velocity. Neglecting the eccentricity of the orbit and taking the Earth as a sphere, how long will it take for the spacecraft to\n",
    "disappear over the horizon of an observer directly below the perigee point?"
   ]
  },
  {
   "cell_type": "markdown",
   "id": "2ff00545",
   "metadata": {},
   "source": [
    "# Solution 4\n",
    "## Part a: Compute $v_p$\n",
    "We make us of the vis-viva equation as shown below,\n",
    "$$\n",
    "\\frac{1}{2}v_p^2 - \\frac{\\mu}{r_p} = -\\frac{\\mu}{2a},\n",
    "\\tag{2.11}\n",
    "$$\n",
    "where the subscript $p$ indicates that the point of interest is the satellite's perigee. We can then solve for $v_p$ as\n",
    "$$\n",
    "v_p =  \\sqrt{\\frac{2\\mu}{r_p} -\\frac{\\mu}{a}}\n",
    "\\tag{2.12}\n",
    "$$\n",
    "which, upon substituting for the known terms, give us $v_p = 7.69$ $km/s$.\n",
    "\n",
    "\n",
    "## Part b: Compute $\\dot\\theta$\n",
    "Further, at perigee, we know that there is no radial component to velocity; so, considering the velcoity vector\n",
    "$$\n",
    "{\\bf v} = \\dot r {\\bf  \\hat e}_r + r \\dot \\theta{\\bf \\hat e}_\\theta.\n",
    "\\tag{2.13}\n",
    "$$,\n",
    "we can write the following scalar equations,\n",
    "$$\n",
    "\\dot r = 0\n",
    "\\tag{2.14}\n",
    "$$\n",
    "and\n",
    "$$\n",
    "v_p = r \\dot\\theta.\n",
    "\\tag{2.15}\n",
    "$$\n",
    "\n",
    "The angular velocity at perigee can then be computed by rewriting Equation $(2.15)$ as\n",
    "$$\n",
    "\\dot\\theta = \\frac{v_p}{r_p}\n",
    "\\tag{2.16}\n",
    "$$\n",
    "which gives $\\dot\\theta = 1.09 \\times 10^{-3}$ $rad/s$.\n",
    "\n",
    "## Part c: Computing the time for which an observer below perigee can see the satellite\n",
    "Note that if the eccenticity is ignored, then the satellite is on a circular orbit; this means that it has the same altitude at any orbit (or $r=r_p$ at all points on the orbit).\n",
    "To determine the time of disappearance, we first need to know the half-angle at which the satellite is no longer visible to the observer on the surface of the Earth and below perigee; this is shown as $\\alpha$ in the schematic below.\n",
    "\n",
    "![Figure 1](imgs/Soln2_observer_schematic.png)\n",
    "\n",
    "$$\n",
    "\\alpha = \\cos^{-1}\\bigg(\\frac{R_{Equator}}{r_p}\\bigg)\n",
    "$$\n",
    "\n",
    "Once $\\alpha$ is known, we can compute the duration of observation of the satellite by this oberver, $t_{obsv}$, by\n",
    "$$\n",
    "t_{obsv} = 2\\frac{\\alpha}{\\dot\\theta}.\n",
    "\\tag{2.17}\n",
    "$$\n",
    "Can you explain to yourselves why we there is a doubling term (i.e. scaling factor of $2$) in the RHS of Equation $(2.17)$?\n",
    "\n",
    "We present the computation with `Python` below'; `sqrt` helps in computing the square-root and `acos` helps in computing the inverse cosine value of a function (i.e. $\\cos^{-1}$). "
   ]
  },
  {
   "cell_type": "code",
   "execution_count": 5,
   "id": "91fb01cc",
   "metadata": {},
   "outputs": [
    {
     "name": "stdout",
     "output_type": "stream",
     "text": [
      "Velocity at perigee is  7.693292560947274 km/s\n",
      "Angular velocity at perigee is 0.001098414129204351 rad/s\n",
      "The satellite can be observed by the obersver for 771.8957207955966 s\n"
     ]
    }
   ],
   "source": [
    "# Your coded answers here (and create more Code cells if you wish to)\n",
    "from math import sqrt, acos\n",
    "# Part a: Compute $v_p$\n",
    "mu_Earth = 3.986 * 10**5\n",
    "v_p = sqrt(2*mu_Earth /r_p - mu_Earth/a)\n",
    "print(\"Velocity at perigee is \", v_p, \"km/s\")\n",
    "\n",
    "# Part b: Compute $\\dot\\theta$\n",
    "angular_velocity = v_p/r_p\n",
    "print(\"Angular velocity at perigee is\", angular_velocity, \"rad/s\")\n",
    "\n",
    "# Part c: Computing the time for which an observer below perigee can see the satellite\n",
    "alpha = acos(R_Equator/r_p)\n",
    "t = 2 * alpha/angular_velocity\n",
    "print(\"The satellite can be observed by the obersver for\", t , \"s\")\n"
   ]
  }
 ],
 "metadata": {
  "kernelspec": {
   "display_name": "Python 3 (ipykernel)",
   "language": "python",
   "name": "python3"
  },
  "language_info": {
   "codemirror_mode": {
    "name": "ipython",
    "version": 3
   },
   "file_extension": ".py",
   "mimetype": "text/x-python",
   "name": "python",
   "nbconvert_exporter": "python",
   "pygments_lexer": "ipython3",
   "version": "3.8.13"
  }
 },
 "nbformat": 4,
 "nbformat_minor": 5
}
