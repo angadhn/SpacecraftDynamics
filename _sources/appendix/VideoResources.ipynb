{
 "cells": [
  {
   "cell_type": "markdown",
   "id": "0fb38d15",
   "metadata": {},
   "source": [
    "# Video Resources for Orbital Mechanics\n",
    "Below are some YouTube playlists that I made to supplement the material in this text. The names of the playlists should be informative enough to know where this applies to in the text.\n"
   ]
  },
  {
   "cell_type": "markdown",
   "id": "50e01216",
   "metadata": {},
   "source": [
    "Topics (i) and (ii) above are revisited in the following YouTube playlists, which I recommend watching.\n",
    "```{admonition} Hohmann Transfer\n",
    "The below is a **playlist comprising four videos**. on [Hohmann Transfer](https://youtube.com/playlist?list=PLiZ4Kv-hA48UAjpQZfnYh6C3FnScrcQZ-&si=9fbdYT_itVPGK80Y).\n",
    "<iframe width=\"560\" height=\"315\"src=\"https://youtube.com/playlist?list=PLiZ4Kv-hA48UAjpQZfnYh6C3FnScrcQZ-&si=9fbdYT_itVPGK80Y\" title=\"YouTube video player\" frameborder=\"0\" allow=\"accelerometer; autoplay; clipboard-write; encrypted-media; gyroscope; picture-in-picture\" allowfullscreen></iframe>\n",
    "```\n",
    "```{admonition} Delta-V Budget\n",
    "The below is a **playlist comprising four videos**. on [Delta-V Budget](https://www.youtube.com/playlist?list=PLiZ4Kv-hA48V2jIsK4iLn58E3l21YpZj4).\n",
    "<iframe width=\"560\" height=\"315\"src=\"https://www.youtube.com/playlist?list=PLiZ4Kv-hA48V2jIsK4iLn58E3l21YpZj4\" title=\"YouTube video player\" frameborder=\"0\" allow=\"accelerometer; autoplay; clipboard-write; encrypted-media; gyroscope; picture-in-picture\" allowfullscreen></iframe>\n",
    "```\n",
    "\n",
    "\n",
    "```{admonition} Inclination Change Manuevers using patched conics\n",
    "The below is a **playlist comprising seven videos** on [Inclination Change Manuevers using patched conics](https://youtube.com/playlist?list=PLiZ4Kv-hA48XRxXEvo6SpgHtURUr1rdEA&si=D35lwZZXxdtXDOVT).\n",
    "<iframe width=\"560\" height=\"315\"src=\"https://youtube.com/playlist?list=PLiZ4Kv-hA48XRxXEvo6SpgHtURUr1rdEA&si=D35lwZZXxdtXDOVT\" title=\"YouTube video player\" frameborder=\"0\" allow=\"accelerometer; autoplay; clipboard-write; encrypted-media; gyroscope; picture-in-picture\" allowfullscreen></iframe>\n",
    "```\n",
    "\n",
    "```{admonition} Interplanetary Missions using patched conics\n",
    "The below is a **playlist comprising seven videos** on [interplanetary missions using patched conics](https://youtube.com/playlist?list=PLiZ4Kv-hA48W_yZ0N4TBTcZTrive2RryZ&si=qLIyZ8tnyVPsY0VB).\n",
    "<iframe width=\"560\" height=\"315\"src=\"https://youtube.com/playlist?list=PLiZ4Kv-hA48W_yZ0N4TBTcZTrive2RryZ&si=qLIyZ8tnyVPsY0VB\" title=\"YouTube video player\" frameborder=\"0\" allow=\"accelerometer; autoplay; clipboard-write; encrypted-media; gyroscope; picture-in-picture\" allowfullscreen></iframe>\n",
    "```"
   ]
  }
 ],
 "metadata": {
  "kernelspec": {
   "display_name": "Python 3 (ipykernel)",
   "language": "python",
   "name": "python3"
  },
  "language_info": {
   "codemirror_mode": {
    "name": "ipython",
    "version": 3
   },
   "file_extension": ".py",
   "mimetype": "text/x-python",
   "name": "python",
   "nbconvert_exporter": "python",
   "pygments_lexer": "ipython3",
   "version": "3.7.10"
  }
 },
 "nbformat": 4,
 "nbformat_minor": 5
}
