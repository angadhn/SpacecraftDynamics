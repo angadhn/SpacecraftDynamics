{
  "cells": [
    {
      "cell_type": "markdown",
      "metadata": {},
      "source": [
        "# Orbit Maneuvers and Transfers\n"
      ]
    },
    {
      "cell_type": "markdown",
      "metadata": {},
      "source": [
        "_Prepared by:_ [Mitansh Choksi](https://github.com/mitanshc) and [Angadh Nanjangud](https://www.angadhn.com/)"
      ]
    },
    {
      "cell_type": "markdown",
      "metadata": {},
      "source": [
        "In this lecture we aim to cover the following topics:\n",
        "1. [](content:orbit-maneuvers)\n",
        "2. [](content:hohmann-transfer)\n",
        "3. [](content:bi-elliptic-transfer)\n",
        "4. [](content:non-tangential-transfer)\n",
        "5. [](content:plane-change-maneuver)"
      ]
    },
    {
      "cell_type": "markdown",
      "metadata": {},
      "source": [
        "(content:orbit-maneuvers)=\n",
        "## Orbit Maneuvers"
      ]
    },
    {
      "cell_type": "markdown",
      "metadata": {},
      "source": [
        "Manuevers are implemented to transfer the spacecraft from one orbit to another.\n",
        "Orbital changes can have different objectives:\n",
        "- Inject the probe into an interplanetary transfer\n",
        "- Move the spacecraft from a parking orbit to an operetive one ( e.g. LEO to GEO)\n",
        "- Rendezvous end dock with another spececraft ( e.g. with the ISS)\n",
        "- Compensate for the effect of perturbations (e.g. N-S, E-W station keeping of GEO)\n",
        "\n",
        "Manuevers are implemented by firing the propulsion system, we can see this as an addtional term in the equations of motion:"
      ]
    },
    {
      "cell_type": "markdown",
      "metadata": {},
      "source": [
        "```{math}\n",
        ":label: L7_1\n",
        "\\ddot{\\mathbf{r}} = -\\frac{\\mu}{r^3} \\mathbf{r} + c(\\mathbf{r}, \\dot{\\mathbf{r}}, t)\n",
        "```"
      ]
    },
    {
      "cell_type": "markdown",
      "metadata": {},
      "source": [
        "- Firing the propulsion system means need propellant. As launching mass is expensive we need to design control laws that allow the operator to implement the transfer with **minimum propellant**: optimal control theory\n",
        "\n",
        "- With <u>high thrust rocket</u> engines the firing time is short and the maneuver can be modelled as an <u>instantaneous change in the velocity</u>: impulsive $\\Delta \\mathbf{v}$\n",
        "\n",
        "- We search for minimum $|{\\Delta \\mathbf{v}}|$ maneuver because they require minimum propellant mass!\n",
        "\n",
        "- Frequently an orbital maneuver has the objective of changing (increasing) the orbital energy (e.g. moving from a Low-Earth orbit to a GEO, compensate for atmospheric drag,...)"
      ]
    },
    {
      "cell_type": "markdown",
      "metadata": {},
      "source": [
        "#### Effect of a $\\Delta \\mathbf{v}$ on orbital energy"
      ]
    },
    {
      "cell_type": "markdown",
      "metadata": {},
      "source": [
        "![Figure 1](images/L7img1.png)\n",
        "\n",
        "- _Before_ the maneuver: \n",
        "\n",
        "```{math}\n",
        ":label: L7_2\n",
        "E_0 = \\frac{1}{2}v_0^2 - \\frac{\\mu}{r}\n",
        "```\n",
        "\n",
        "- _After_ the maneuver:\n",
        "\n",
        "```{math}\n",
        ":label: L7_3\n",
        "E_1 = \\frac{1}{2}(\\mathbf {v_0^2}+\\Delta \\mathbf{v}) \\cdot(\\mathbf{v_0} + \\Delta \\mathbf{v}) - \\frac{\\mu}{r} = \\frac{1}{2} v_0^2 - \\Delta \\mathbf{v} + {\\frac{1}{2} \\Delta v^2 - \\frac{\\mu}{r}}\n",
        "```\n",
        "\n",
        "- _Change_ in Energy\n",
        "\n",
        "```{math}\n",
        ":label: L7_4\n",
        "\\Delta E = E_1 - E_0 = \\frac{1}{2}\\Delta v^2 + v_0\\Delta v \\cos(\\alpha)\n",
        "```\n",
        "\n",
        "Here $v_0\\Delta v \\cos(\\alpha)$ is the dominant term.\n"
      ]
    },
    {
      "cell_type": "markdown",
      "metadata": {},
      "source": [
        "For a given $\\Delta v$ (i.e. propellant) how can we maximise the energy change $\\Delta E$?\n",
        "\n",
        "- $\\Delta E$ is maximised when:\n",
        "1. $v_0$ is high $\\mathbf{\\rightarrow}$ applying the maneuver when $v_0$ is high (e.g. at perigee)\n",
        "2. $\\cos(\\alpha) = 1$ $ \\rightarrow$ $\\alpha = 0$ $\\rightarrow$ $\\mathbf{v}$ and $\\mathbf{\\Delta v}$ are aligned $\\rightarrow$ tangential burn"
      ]
    },
    {
      "cell_type": "markdown",
      "metadata": {},
      "source": [
        "$\\bf Note$: $v_0\\Delta v \\cos(\\alpha)$ can be negative $\\rightarrow$ it is possible to reduce E"
      ]
    },
    {
      "cell_type": "markdown",
      "metadata": {},
      "source": [
        "#### Effect of a $\\Delta \\mathbf{v}$ on angular momentum"
      ]
    },
    {
      "cell_type": "markdown",
      "metadata": {},
      "source": [
        "![Figure 2](images/L7img2.png)\n",
        "\n",
        "- _Before_ the maneuver: \n",
        "\n",
        "```{math}\n",
        ":label: L7_5\n",
        "\\mathbf{h_0} = \\mathbf{r} \\times \\mathbf{v_0}\n",
        "```\n",
        "\n",
        "- _After_ the maneuver:\n",
        "\n",
        "```{math}\n",
        ":label: L7_6\n",
        "\\mathbf{h_1} = \\mathbf{r} \\times (\\mathbf{v_0} + \\Delta \\mathbf{v})\n",
        "```\n",
        "- _Change in angular momentum_\n",
        "\n",
        "```{math}\n",
        ":label: L7_7\n",
        "\\Delta \\mathbf{h} = \\mathbf{h_1} - \\mathbf{h_0} = \\mathbf{r} \\times \\Delta \\mathbf{v}\n",
        "```\n",
        "\n",
        "```{math}\n",
        ":label: L7_8\n",
        "\\Delta h = r \\Delta v \\sin(\\beta)=r \\Delta V_{\\theta}\n",
        "```\n"
      ]
    },
    {
      "cell_type": "markdown",
      "metadata": {},
      "source": [
        "For a given $\\Delta v$ (i.e. propellant) how can we maximise $\\Delta$ $h$?\n",
        "1. Execute the maneuver when $r$ is big (e.g. at the apogee)\n",
        "2. Change the transverse velocity: $\\Delta \\mathbf{v}$ aligned with $\\mathbf {v_{\\theta}}$"
      ]
    },
    {
      "cell_type": "markdown",
      "metadata": {},
      "source": [
        "**Note**: A radial maneuver does not change the angular momentum as $\\beta = 0^{\\circ}$\n",
        "\n",
        "```{math}\n",
        ":label: L7_9\n",
        "\\Delta h = r \\Delta v \\sin(0)=0\n",
        "```"
      ]
    },
    {
      "cell_type": "markdown",
      "metadata": {},
      "source": [
        "(content:hohmann-transfer)=\n",
        "## Hohmann Transfer"
      ]
    },
    {
      "cell_type": "markdown",
      "metadata": {},
      "source": [
        "![Figure 3](images/L7img3.png)"
      ]
    },
    {
      "cell_type": "markdown",
      "metadata": {},
      "source": [
        "The problem is that we need the **most efficient**, **bi-impulsive** transfer between **two circular coplanar** orbits. \n",
        "\n",
        "**Problem**\n",
        "\n",
        "We need to transfer the spacecraft from an initial orbit with semi-major axis $a_1$ to a final orbit with semi-major axis $a_3$. The most optimal solution for $\\Delta E$ are tangential maneuvers. \n",
        "\n",
        "**Solution:**\n",
        "\n",
        "We draw an ellipse tangent to both the circular orbits and compute the $\\Delta \\mathbf{v}_{s}$!\n",
        "\n",
        "**Transfer Orbit:**\n",
        "\n",
        "The transfer orbit $2$ has perigee radius $r_p = a_1$ and apogee radius $r_a  = a_3$. The semi-major axis is: \n",
        "\n",
        "\n",
        "```{math}\n",
        ":label: L7_10\n",
        "a_2 = \\frac{r_p+r_a}{2}\n",
        "```\n",
        "\n",
        "Form $a_2$, $r_p$ and $r_a$ the eccentricity of the transfer orbit can be found to be: \n",
        "\n",
        "```{math}\n",
        ":label: L7_11\n",
        "e_2  = \\frac{r_a - r_p}{r_a+r_p}\n",
        "```"
      ]
    },
    {
      "cell_type": "markdown",
      "metadata": {},
      "source": [
        "#### Hohmann transfer, $\\Delta V$ and transfer time"
      ]
    },
    {
      "cell_type": "markdown",
      "metadata": {},
      "source": [
        "We use the Vis-Viva equation: $\\frac{1}{2}v^2-\\frac{\\mu}{2a}$ (**Hint: We ALWAYS use this to compute** $\\Delta V$). The steps for calcualting $\\Delta V$ are:"
      ]
    },
    {
      "cell_type": "markdown",
      "metadata": {},
      "source": [
        "1. Initial circular velocity :\n",
        "    ```{math}\n",
        "    :label: L7_12\n",
        "    v_{A_1} = \\sqrt{\\frac{\\mu}{a1}}\n",
        "    ```\n",
        "\n",
        "2. Final circular velocity :\n",
        "    ```{math}\n",
        "    :label: L7_13\n",
        "    v_{B_3} = \\sqrt{\\frac{\\mu}{a3}}\n",
        "    ```\n",
        "\n",
        "3. Initial transfer velocity: \n",
        "\n",
        "$$\n",
        "\n",
        "\\frac{1}{2}v_{A2}^2-\\frac{\\mu}{a_1} = -\\frac{\\mu}{2a_2} \\\\ \\rightarrow v_{A_2} = \\sqrt{\\frac{2\\mu}{a_1}-\\frac{\\mu}{a_2}} \\\\ \\rightarrow v_{A_2} = \\sqrt{\\frac{\\mu}{a_1}}\\sqrt{2-\\frac{a1} {a_2}} \\\\ \\rightarrow v_{A_2} = v_{A_1}\\sqrt{\\frac{a_3 + a_1 - a_1}{a_2}} \\\\ = v_{A_1}\\sqrt{\\frac{a_3}{a_2}} >v_{A_1}\n",
        "\n",
        "$$\n",
        "\n",
        "4. Final transfer velocity: \n",
        "\n",
        "$$\n",
        "\n",
        "\\frac{1}{2}v_{B_2}^2-\\frac{\\mu}{a_3} = -\\frac{\\mu}{2a_2} \n",
        "\\\\ \\rightarrow v_{B_2}\\sqrt{\\frac{2\\mu}{a_3}-\\frac{\\mu}{a_2}} \\\\ \\rightarrow v_{B_2} = \\sqrt{\\frac{\\mu}{a_3}}\\sqrt{2-\\frac{a3} {a_2}} \\\\ \\rightarrow v_{B_2} = v_{B_3}\\sqrt{\\frac{a_1}{a_2}} <v_{B_3}\n",
        "\n",
        "$$\n",
        "\n",
        "- Total $\\Delta v$ (Both maneuvers to increase the velocity):\n",
        "    ```{math}\n",
        "    :label: L7_14\n",
        "    \\Delta v  = \\Delta v_1 + \\Delta v_2 = (v_{A2}- v_{A1})+(v_{B3}-v_{B2}) = v_{A1}(\\sqrt{\\frac{a_3}{a_2}}-1)+ v_{B3}(1-\\sqrt{\\frac{a_1}{a_2}})\n",
        "    ```\n",
        "\n",
        "- Time of flight (ToF) = \n",
        "    ```{math}\n",
        "    :label: L7_15\n",
        "    \\frac{1}{2}T_2 = \\frac{1}{2}2 \\pi \\sqrt{\\frac{a_2^3}{\\mu}} = \\pi \\sqrt{\\frac{a_2^3}{\\mu}}\n",
        "    ```\n",
        "    "
      ]
    },
    {
      "cell_type": "markdown",
      "metadata": {},
      "source": [
        "(content:bi-elliptic-transfer)=\n",
        "## Bi-elliptic transfer"
      ]
    },
    {
      "cell_type": "markdown",
      "metadata": {},
      "source": [
        "When the ratio etween the final and starting semi-major axes is high (approximately **11.94**) we use a bi-elliptic transfer to reduce the $\\Delta V$\n",
        "\n",
        "A bi-elliptic transfer is a _three-impulse_ transfer in which first we inject the spacecraft into an ellipse with a very high apogee. \n",
        "\n",
        "Let us look at the figure below:"
      ]
    },
    {
      "cell_type": "markdown",
      "metadata": {},
      "source": [
        "![Figure 4](images/L7img4.png)"
      ]
    },
    {
      "cell_type": "markdown",
      "metadata": {},
      "source": [
        "The figure shows a bi-elliptic transfer. The spacecraft starts at point **A**, with orbit **1**, then a tangential velocity is applied at A which causes the spacecraft to transfer into elliptic orbit **2**, when it reaches point **B** another tangential velocity is applied which causes the spacecraft to enter orbit **3**. As it reaches point **C**, reverse velocity is applied to enter stable orbit **4**.\n",
        "\n",
        "The dotted line from **A** to **D** shows the transfer if a Hohmann Transfer was to be used."
      ]
    },
    {
      "cell_type": "markdown",
      "metadata": {},
      "source": [
        "- If B is very far then the velocuty in B is very low and *$\\Delta V_{B} \\approx 0$*\n",
        "- Both $\\Delta V_A$ and $\\Delta V_c$ are performed at perigee where the velocity is maximum\n",
        "\n",
        "The downside to a bi-elliptic transfer is the long transfer time. This raises the question, why use bi-elliptic transfer at all? \n",
        "\n",
        "The reason we use bi-elliptic transfer is when the ratio between semi-major axes between the starting and ending point is high it is more fuel efficient to use a Hohmann transfer. For longer missions where time is not of the essence it makes more sense to use the most fuel efficient method for transfering spacecraft."
      ]
    },
    {
      "cell_type": "markdown",
      "metadata": {},
      "source": [
        "(content:non-tangential-transfer)=\n",
        "## Non tangential transfer"
      ]
    },
    {
      "cell_type": "markdown",
      "metadata": {},
      "source": [
        "Having looked at fuel efficient transfers we now look to time efficient transfers. To reduce the Time of Flight we need to use more propellant and this involves a non-tangential **$\\Delta \\mathbf{V}$**.\n",
        "\n",
        "Have a look at the figure below:"
      ]
    },
    {
      "cell_type": "markdown",
      "metadata": {},
      "source": [
        "![Figure 5](images/L7img5.png)"
      ]
    },
    {
      "cell_type": "markdown",
      "metadata": {},
      "source": [
        "Solution Procedure:\n",
        "\n",
        "1. Take the selected $r_{a_2}$ and calculate\n",
        "\n",
        "    ```{math}\n",
        "    :label: L7_16\n",
        "    a_2 = \\frac{r_{a_2} + a_1}{2}\n",
        "    ```\n",
        "\n",
        "    and\n",
        "\n",
        "    ```{math}\n",
        "    :label: L7_17\n",
        "    e_2 = \\frac{r_{a_2}-a_1}{r_{a_2}+a_1}\n",
        "    ```\n",
        "\n",
        "2. Use the **orbit equation** (see below) to compute $\\theta_2$\n",
        "\n",
        "    ```{math}\n",
        "    :label: L7_18\n",
        "    r_2 = \\frac{a_2(1-e_{2}^2)}{1 + e_2 cos\\theta}\n",
        "    ```\n",
        "\n",
        "    ```{math}\n",
        "    :label: L7_19\n",
        "    r_2(\\theta_2) = a_3 = \\frac{a_2(1-e_{2}^2)}{1 + e_2 cos\\theta_2}\n",
        "    ```\n",
        "\n",
        "3. From $\\theta_2$ compute TOF with Kepler's Equation\n",
        "4. Calculate $\\Delta v_{A_2}$ from: \n",
        "\n",
        "    ```{math}\n",
        "    :label: L7_20\n",
        "    \\frac{1}{2} v_{A_2}^2 -\\frac{\\mu}{a_1} = \\frac{-\\mu}{2a_2}\n",
        "    ```\n",
        "    and\n",
        "\n",
        "    ```{math}\n",
        "    :label: L7_21\n",
        "    \\Delta v_A = v_{A_2}-v_{A_2}\n",
        "    ```\n",
        "    where $\\Delta v_A$ is a _scalar value_\n",
        "\n",
        "\n",
        "5. Calculate: \n",
        "    ```{math}\n",
        "    :label: L7_22\n",
        "    \\mathbf{v_{B_2}}=\\frac{\\mu}{h_2} (e_2 \\sin(\\theta_2))\\mathbf{e_r} + \\frac{\\mu}{h_2} (1+\\cos(\\theta_2)) \\mathbf{e_{\\theta}}\n",
        "    ```\n",
        "    \n",
        "    Here: \n",
        "    ```{math}\n",
        "    :label: L7_23\n",
        "    v_r = \\frac{\\mu}{h_2} (e_2 \\sin(\\theta_2))e_r\n",
        "    ```\n",
        "    and \n",
        "    \n",
        "    ```{math}\n",
        "    :label: L7_24\n",
        "    v_{\\theta}=\\frac{\\mu}{h_2} (1+\\cos(\\theta_2)e_{\\theta})\n",
        "    ```\n",
        "    and \n",
        "     \n",
        "    ```{math}\n",
        "    :label: L7_25\n",
        "    \\Delta \\mathbf{v_B} = \\Delta \\mathbf{v_{B_3}}-\\Delta \\mathbf{v_{B_2}}\n",
        "    ```\n",
        "    with \n",
        "    $\\mathbf{v_{B_3}} = v_{B_3}\\mathbf{e_{\\theta}}$"
      ]
    },
    {
      "cell_type": "markdown",
      "metadata": {},
      "source": [
        "(content:plane-change-maneuver)=\n",
        "## Plane Change maneuver"
      ]
    },
    {
      "cell_type": "markdown",
      "metadata": {},
      "source": [
        "For plane change maneuvers we are interested in two things:\n",
        "\n",
        "1. We need a change in the orbital inclination _i_\n",
        "2. We need a change in $\\Omega$\n",
        "\n",
        "<u>Plane change manuevers are very expensive</u> as they require a rotation of the entire velocity vector.\n",
        "\n",
        "**Problem**: Pure Inclination change. \n",
        "\n",
        "The **Solution**:\n",
        "\n",
        "To change the inclination without changing the orbit shape we need to rotate $\\mathbf{h}$ while keeping E and $h$ fixed (thus keeping the orbit shape fixed).\n",
        "\n",
        "* If E is fixed then v is unchanged \n",
        "* If h is fixed then $v_\\theta$ is unchanged \n",
        "<br/> The above two bullet points shows rotation about **r** of $\\Delta i$ \n",
        "\n",
        "Let's take a look at a figure to help visualise things."
      ]
    },
    {
      "cell_type": "markdown",
      "metadata": {},
      "source": [
        "![Figure 6](images/L7img6.png)"
      ]
    },
    {
      "cell_type": "markdown",
      "metadata": {},
      "source": [
        "* $\\Delta v =2 v_{\\theta}$ sin $\\frac{\\Delta i}{2}$\n",
        "* If circular then $v=v_\\theta \\rightarrow \\Delta v = 2v \\sin\\frac{\\Delta i}{2}$ \n",
        "* If $\\Delta i$ is small then sin $\\frac{\\Delta i}{2} \\approx \\frac{\\Delta i}{2} \\rightarrow \\Delta v = v \\Delta i$\n",
        "    * When possible change _i_ when _v_ is low "
      ]
    }
  ],
  "metadata": {
    "kernelspec": {
      "display_name": "base",
      "language": "python",
      "name": "python3"
    },
    "language_info": {
      "codemirror_mode": {
        "name": "ipython",
        "version": 3
      },
      "file_extension": ".py",
      "mimetype": "text/x-python",
      "name": "python",
      "nbconvert_exporter": "python",
      "pygments_lexer": "ipython3",
      "version": "3.9.13"
    }
  },
  "nbformat": 4,
  "nbformat_minor": 2
}
